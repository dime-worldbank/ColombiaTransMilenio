{
 "cells": [
  {
   "cell_type": "markdown",
   "metadata": {
    "application/vnd.databricks.v1+cell": {
     "cellMetadata": {},
     "inputWidgets": {},
     "nuid": "9cd75f6b-5f9c-40f6-a769-85f6986c49a2",
     "showTitle": false,
     "tableResultSettingsMap": {},
     "title": ""
    }
   },
   "source": [
    "# Open Tu Llave data - Analysis for Scenarios for SDM\n"
   ]
  },
  {
   "cell_type": "code",
   "execution_count": 0,
   "metadata": {
    "application/vnd.databricks.v1+cell": {
     "cellMetadata": {
      "byteLimit": 2048000,
      "rowLimit": 10000
     },
     "inputWidgets": {},
     "nuid": "ccf0f06a-2f2c-4289-a7aa-198f1658f7ee",
     "showTitle": false,
     "tableResultSettingsMap": {},
     "title": ""
    }
   },
   "outputs": [],
   "source": [
    "import os\n",
    "from pathlib import Path\n",
    "from shutil import rmtree\n",
    "import numpy as np\n",
    "import pandas as pd\n",
    "import matplotlib.pyplot as plt\n",
    "\n",
    "!pip install tqdm\n",
    "from tqdm import tqdm\n",
    "\n",
    "!pip install pyunpack\n",
    "!pip install patool\n",
    "from pyunpack import Archive\n",
    "\n"
   ]
  },
  {
   "cell_type": "code",
   "execution_count": 0,
   "metadata": {
    "application/vnd.databricks.v1+cell": {
     "cellMetadata": {
      "byteLimit": 2048000,
      "rowLimit": 10000
     },
     "inputWidgets": {},
     "nuid": "bae96cbd-1674-4ddf-be15-478a5781d391",
     "showTitle": false,
     "tableResultSettingsMap": {},
     "title": ""
    }
   },
   "outputs": [],
   "source": [
    "path = '/mnt/DAP/data/ColombiaProject-TransMilenioRawData/'"
   ]
  },
  {
   "cell_type": "markdown",
   "metadata": {
    "application/vnd.databricks.v1+cell": {
     "cellMetadata": {},
     "inputWidgets": {},
     "nuid": "9ccdc231-5049-414f-9562-284ac54e905e",
     "showTitle": false,
     "tableResultSettingsMap": {},
     "title": ""
    }
   },
   "source": [
    "# Apoyo Subsidy cards stats Dec 2023 - May 2024\n",
    "\n",
    "Steps:\n",
    "\n",
    "**1. Get all Apoyo cards transactions**.\n",
    "\n",
    "For the relevant months, import each transaction dataset, and keep transactions with Nombre_Perfil '(006) Apoyo Ciudadano' or'(009) Apoyo Ciudadano Reexpedición'. Create variables valid (1 for each transaction or validación), trip (1 for each transaction with a value of more than 200 pesos), s_trip (1 for each transaction with a subsidy value of 2230 or 2500 in the relevant period). Concatenate all transactions from Apoyo cards in each month and save them in a dataset called 'df[YYYYMM]apoyo.csv'.\n",
    "\n",
    "   - _WARNING. Filtering these transactions directly misses the transactions when the same cards were 'Anonymous'. The alternative would be first getting all the Apoyo card numbers and then filtering out all the transactions for those cards. There are pros and cons for each. On one side, this might be preferrable, because there are two ways of becoming Apoyo: (1) from anonymous cards, they keep the same number; (2) from already personalized cards, they get a new number, so we will miss these transactions anyway. On the other side, on our matched TuLlave data we have the IDs, and we only have IDs for personalized cards or Apoyo cards, so we are just missing anonymous cards there._\n",
    "\n",
    "**2. Monthly stats for Incentivo Sisbén users**.\n",
    "\n",
    "Import each monthly Apoyo cards transactions dataset, group by card, and sum their validaciones, trips, and subsidy trips. Create the variable 'subsidy' equalling 1 if the card has any subsidy trips that month. Get total cards using Incentivo Sisbén and total, mean, and median validaciones, trips and subsidy trips for them, for each month. Concatenate all monthly summary stats for these cards using incentivo Sisbén and save a dataset called 'apoyo_stats_subsidy.csv'.\n",
    "\n",
    " - _PROBLEM IN DECEMBER 2023. Note that for December 2023 we have a peak on the number of Subsidy cards. TransMilenio (Héctor) shared with us the total Incentivo Sisbén users in December 2023 calculated by Recaudo Bogotá and the number is much less (193K, similar to November). Therefore, we should then dig into this deeper to find the problem in these raw data._\n",
    "\n",
    "**3. Apoyo stats for full 2024 period**.\n",
    "\n",
    "Import each monthly Apoyo cards transactions dataset, group by card, and sum their validaciones, trips, and subsidy trips. Create the variable 'subsidy' equalling 1 if the card has any subsidy trips that month. Add a variable called \"file\" referrencing the monthly file. Concatenate all the datasets and save them in 'apoyo_total.csv'. Then, to get stats for the full period: filter cards paying subsidy values each month and (i) count number of unique cards paying subsidy values at some point, (ii) code 0s in trips, s_trips, and trip30 for months when the card is not there in the data or not paying subsidy values.\n",
    "\n",
    "- _CORRECTION FOR THE FUTURE.  The variable 'subsidy' is created at the card-month level (whether a card is paying subsidy values each month), while it should better created at the card level, for the whole period. So, for that card, we count trips for months before signing up for the subsidy as well._\n"
   ]
  },
  {
   "cell_type": "markdown",
   "metadata": {
    "application/vnd.databricks.v1+cell": {
     "cellMetadata": {},
     "inputWidgets": {},
     "nuid": "7242f876-2828-43be-bdc4-0526f05e27c8",
     "showTitle": false,
     "tableResultSettingsMap": {},
     "title": ""
    }
   },
   "source": [
    "## 1. Get all Apoyo cards transactions and save monthly apoyo files"
   ]
  },
  {
   "cell_type": "code",
   "execution_count": 0,
   "metadata": {
    "application/vnd.databricks.v1+cell": {
     "cellMetadata": {
      "byteLimit": 2048000,
      "rowLimit": 10000
     },
     "inputWidgets": {},
     "nuid": "b6410c04-9f1c-4615-afbf-87606a016882",
     "showTitle": false,
     "tableResultSettingsMap": {},
     "title": ""
    }
   },
   "outputs": [],
   "source": [
    "perfiles = set()\n",
    "\n",
    "# Save dataframe for each month:\n",
    "for m in ['202311', '202312',\n",
    "          '202401', '202402', '202403', '202404','202405',\n",
    "          '202406']:\n",
    "    \n",
    "    dfapoyo = pd.DataFrame()\n",
    "    \n",
    "    for d in ['ValidacionDual/', 'ValidacionTroncal/', 'ValidacionZonal/']:\n",
    "        folder = path +  '/Workspace/Raw/since2020/' + d\n",
    "        files = [f.name for f in dbutils.fs.ls(folder) ]\n",
    "        filesm = [f for f in files if m in f[-12:-6]]\n",
    "\n",
    "        for f in tqdm(filesm):\n",
    "            df = pd.read_csv(\"/dbfs/\"+ folder + f,\n",
    "                            usecols = ['Nombre_Perfil', 'Numero_Tarjeta', 'Valor'] )\n",
    "            perfiles = perfiles.union(df.Nombre_Perfil)\n",
    "            df[\"apoyo\"]  = (df.Nombre_Perfil.isin([ '(006) Apoyo Ciudadano','(009) Apoyo Ciudadano Reexpedición'])) \n",
    "            df = df[df.apoyo].reset_index(drop = True) \n",
    "\n",
    "            dfapoyo = pd.concat([dfapoyo, df])\n",
    "\n",
    "    dfapoyo[\"valid\"] = 1\n",
    "    dfapoyo[\"trip\"]   = (dfapoyo.Valor > 200) * 1 \n",
    "    dfapoyo[\"s_trip\"] = (dfapoyo.Valor.isin([2250, 2500])) * 1 \n",
    "\n",
    "    filename = 'df' + m + 'apoyo.csv'\n",
    "    print(filename)\n",
    "    dfapoyo.to_csv(\"/dbfs/\" + path + '/Workspace/Construct/' + filename, index = False )\n"
   ]
  },
  {
   "cell_type": "markdown",
   "metadata": {
    "application/vnd.databricks.v1+cell": {
     "cellMetadata": {},
     "inputWidgets": {},
     "nuid": "64ecddbd-a360-4963-bb45-a21ec16a6411",
     "showTitle": false,
     "tableResultSettingsMap": {},
     "title": ""
    }
   },
   "source": [
    "## 2. Monthly stats for Incentivo Sisbén users."
   ]
  },
  {
   "cell_type": "code",
   "execution_count": 0,
   "metadata": {
    "application/vnd.databricks.v1+cell": {
     "cellMetadata": {
      "byteLimit": 2048000,
      "rowLimit": 10000
     },
     "inputWidgets": {},
     "nuid": "1c12f7d2-69ea-479d-93b8-002bd91fb3fe",
     "showTitle": false,
     "tableResultSettingsMap": {},
     "title": ""
    }
   },
   "outputs": [],
   "source": [
    "# Stats by month \n",
    "#apoyo_stats = pd.DataFrame()\n",
    "apoyo_stats = pd.read_csv(\"/dbfs/\" + path + '/Workspace/Construct/apoyo_stats_subsidy.csv')\n",
    "\n",
    "files = [# '/df202311apoyo.csv', '/df202312apoyo.csv', \n",
    "         #'/df202401apoyo.csv', '/df202402apoyo.csv', '/df202403apoyo.csv', '/df202404apoyo.csv', '/df202405apoyo.csv',\n",
    "         '/df202406apoyo.csv']\n",
    "for f in files:\n",
    "   apoyo_stats    = apoyo_stats[apoyo_stats.File != f ].reset_index(drop = True)\n",
    "   \n",
    "   dfapoyo = pd.read_csv(\"/dbfs/\" + path + '/Workspace/Construct/' + f)\n",
    "   dfapoyo = dfapoyo.groupby(['Numero_Tarjeta'], as_index = False)[\"valid\", \"trip\", \"s_trip\"].sum() # total trips and valid in the month for each card\n",
    "   dfapoyo[\"subsidy\"] = dfapoyo.s_trip > 0\n",
    "   \n",
    "   aux = dfapoyo.groupby(\"subsidy\", as_index = False).agg({\"Numero_Tarjeta\": \"nunique\",\n",
    "                                                  \"valid\" : [\"sum\", \"mean\", \"median\"],\n",
    "                                                  \"trip\"  : [\"sum\", \"mean\", \"median\"],\n",
    "                                                  \"s_trip\": [\"sum\", \"mean\", \"median\"]})\n",
    "   aux[\"file\"] = f\n",
    "   aux.columns = [\"subsidy\",\n",
    "                       \"Total_cards\",\n",
    "                       \"Validaciones - total\",\n",
    "                       \"Validaciones - mean\",\n",
    "                       \"Validaciones - median\",\n",
    "                       \"Trips - total\",\n",
    "                       \"Trips - mean\",\n",
    "                       \"Trips - median\",\n",
    "                       \"Subsidy trips - total\",\n",
    "                       \"Subsidy trips - mean\",\n",
    "                       \"Subsidy trips - median\",\n",
    "                       \"File\"]\n",
    "\n",
    "   apoyo_stats = pd.concat([apoyo_stats, aux])\n",
    "\n",
    "\n",
    "\n",
    "apoyo_stats_subsidy = apoyo_stats[apoyo_stats.subsidy].reset_index(drop = True)\n",
    "\n",
    "apoyo_stats_subsidy.to_csv(\"/dbfs/\" + path + '/Workspace/Construct/apoyo_stats_subsidy.csv', index = False )"
   ]
  },
  {
   "cell_type": "code",
   "execution_count": 0,
   "metadata": {
    "application/vnd.databricks.v1+cell": {
     "cellMetadata": {
      "byteLimit": 2048000,
      "rowLimit": 10000
     },
     "inputWidgets": {},
     "nuid": "cb566ba3-a76a-4cb8-a653-3646dc4fae91",
     "showTitle": false,
     "tableResultSettingsMap": {},
     "title": ""
    }
   },
   "outputs": [],
   "source": [
    "apoyo_stats_subsidy = pd.read_csv(\"/dbfs/\" + path + '/Workspace/Construct/apoyo_stats_subsidy.csv')\n",
    "apoyo_stats_subsidy[\"month\"] = [f[5:7]+ \"-\" +f[7:9] for f in apoyo_stats_subsidy.File]\n",
    "apoyo_stats_subsidy"
   ]
  },
  {
   "cell_type": "code",
   "execution_count": 0,
   "metadata": {
    "application/vnd.databricks.v1+cell": {
     "cellMetadata": {
      "byteLimit": 2048000,
      "rowLimit": 10000
     },
     "inputWidgets": {},
     "nuid": "8ec5190a-43b8-4683-b2a7-2f0355845c74",
     "showTitle": false,
     "tableResultSettingsMap": {},
     "title": ""
    }
   },
   "outputs": [],
   "source": [
    "plt.bar(\"month\", \"Total_cards\", data = apoyo_stats_subsidy)\n",
    "plt.title(\"Cards using Incentivo Sisbén each month\")\n",
    "plt.ylabel(\"Total unique cards\")\n",
    "plt.xlabel(\"Month\")\n",
    "plt.show()"
   ]
  },
  {
   "cell_type": "markdown",
   "metadata": {
    "application/vnd.databricks.v1+cell": {
     "cellMetadata": {},
     "inputWidgets": {},
     "nuid": "cdd5d27e-afc9-41c5-85c4-3961e9944c56",
     "showTitle": false,
     "tableResultSettingsMap": {},
     "title": ""
    }
   },
   "source": [
    "## 3. Apoyo stats for full 2024 period"
   ]
  },
  {
   "cell_type": "code",
   "execution_count": 0,
   "metadata": {
    "application/vnd.databricks.v1+cell": {
     "cellMetadata": {
      "byteLimit": 2048000,
      "rowLimit": 10000
     },
     "inputWidgets": {},
     "nuid": "46fb4608-b27b-4b9e-82d4-54f2dcf3484d",
     "showTitle": false,
     "tableResultSettingsMap": {},
     "title": ""
    }
   },
   "outputs": [],
   "source": [
    "# Stats for full 2024 period\n",
    "#apoyo_total = pd.DataFrame()\n",
    "apoyo_total = pd.read_csv(\"/dbfs/\" + path + '/Workspace/Construct/apoyo_total.csv')\n",
    "\n",
    "files = [#'/df202401apoyo.csv', '/df202402apoyo.csv', '/df202403apoyo.csv', '/df202404apoyo.csv', '/df202405apoyo.csv',\n",
    "          '/df202406apoyo.csv']\n",
    "for f in files:\n",
    "   apoyo_total = apoyo_total[apoyo_total.file != f].reset_index(drop = True)\n",
    "   dfapoyo = pd.read_csv(\"/dbfs/\" + path + '/Workspace/Construct/' + f)\n",
    "   dfapoyo = dfapoyo.groupby(['Numero_Tarjeta'], as_index = False)[\"valid\", \"trip\", \"s_trip\"].sum() # total trips and valid in the month for each card\n",
    "   dfapoyo[\"subsidy\"] = dfapoyo.s_trip > 0\n",
    "   dfapoyo[\"file\"] = f\n",
    "   \n",
    "   apoyo_total = pd.concat([apoyo_total, dfapoyo])\n",
    "\n",
    "apoyo_total.to_csv(\"/dbfs/\" + path + '/Workspace/Construct/apoyo_total.csv', index = False )"
   ]
  },
  {
   "cell_type": "code",
   "execution_count": 0,
   "metadata": {
    "application/vnd.databricks.v1+cell": {
     "cellMetadata": {
      "byteLimit": 2048000,
      "rowLimit": 10000
     },
     "inputWidgets": {},
     "nuid": "52683842-db3a-44fb-9cb2-b0c9ad66cd4e",
     "showTitle": false,
     "tableResultSettingsMap": {},
     "title": ""
    }
   },
   "outputs": [],
   "source": [
    "apoyo_total = pd.read_csv(\"/dbfs/\" + path + '/Workspace/Construct/apoyo_total.csv')\n",
    "apoyo_total[\"trip30\"] = apoyo_total.trip\n",
    "apoyo_total.loc[apoyo_total.trip > 30, \"trip30\"] = 30"
   ]
  },
  {
   "cell_type": "code",
   "execution_count": 0,
   "metadata": {
    "application/vnd.databricks.v1+cell": {
     "cellMetadata": {
      "byteLimit": 2048000,
      "rowLimit": 10000
     },
     "inputWidgets": {},
     "nuid": "7f39a0ef-1150-4486-9bf0-d0a6849bf367",
     "showTitle": false,
     "tableResultSettingsMap": {},
     "title": ""
    }
   },
   "outputs": [],
   "source": [
    "print(apoyo_total[apoyo_total.subsidy].Numero_Tarjeta.nunique())\n",
    "print(apoyo_total[apoyo_total.subsidy].groupby(\"file\").agg({\"s_trip\" : \"sum\"}).sum())\n",
    "print(apoyo_total[apoyo_total.subsidy].groupby(\"file\").agg({\"trip30\" : \"sum\"}).sum())\n",
    "print(apoyo_total[apoyo_total.subsidy].s_trip.mean())"
   ]
  },
  {
   "cell_type": "code",
   "execution_count": 0,
   "metadata": {
    "application/vnd.databricks.v1+cell": {
     "cellMetadata": {
      "byteLimit": 2048000,
      "rowLimit": 10000
     },
     "inputWidgets": {},
     "nuid": "6dd6fb26-2e4d-4ac9-bc1f-283e46af7fdd",
     "showTitle": false,
     "tableResultSettingsMap": {},
     "title": ""
    }
   },
   "outputs": [],
   "source": [
    "# code 0 if the card does not have subsidy in some other motnh\n",
    "monthly_avg_0s = apoyo_total[apoyo_total.subsidy].set_index([\"Numero_Tarjeta\",\"file\"]).unstack(fill_value=0).stack().reset_index()"
   ]
  },
  {
   "cell_type": "code",
   "execution_count": 0,
   "metadata": {
    "application/vnd.databricks.v1+cell": {
     "cellMetadata": {
      "byteLimit": 2048000,
      "rowLimit": 10000
     },
     "inputWidgets": {},
     "nuid": "0f36f8c3-d412-4e82-a70b-ffb70d1c5120",
     "showTitle": false,
     "tableResultSettingsMap": {},
     "title": ""
    }
   },
   "outputs": [],
   "source": [
    "print(monthly_avg_0s.trip.mean())\n",
    "print(monthly_avg_0s.s_trip.mean())\n",
    "print(monthly_avg_0s.trip30.mean())"
   ]
  },
  {
   "cell_type": "markdown",
   "metadata": {
    "application/vnd.databricks.v1+cell": {
     "cellMetadata": {},
     "inputWidgets": {},
     "nuid": "42ac5d2e-07bd-4f96-a0b1-ab4062f3d257",
     "showTitle": false,
     "tableResultSettingsMap": {},
     "title": ""
    }
   },
   "source": [
    "# Get subsidy cards 2024"
   ]
  },
  {
   "cell_type": "code",
   "execution_count": 0,
   "metadata": {
    "application/vnd.databricks.v1+cell": {
     "cellMetadata": {
      "byteLimit": 2048000,
      "rowLimit": 10000
     },
     "inputWidgets": {},
     "nuid": "9ababc42-31c3-49e0-bf0d-76dfa9eeaa19",
     "showTitle": false,
     "tableResultSettingsMap": {},
     "title": ""
    }
   },
   "outputs": [],
   "source": [
    "\n",
    "# Save all cards paying 2250 or 2500 COP\n",
    "\n",
    "for d in ['ValidacionDual/', 'ValidacionTroncal/', 'ValidacionZonal/']:\n",
    "    subsidy_cards = pd.DataFrame()\n",
    "    folder = path +  '/Workspace/Raw/since2020/' + d\n",
    "    files = [f.name for f in dbutils.fs.ls(folder) ]\n",
    "\n",
    "    files2024 = [f for f in files if '2024' in f[-12:-8]]\n",
    "\n",
    "    for f in tqdm(files2024):\n",
    "        df = pd.read_csv(\"/dbfs/\"+ folder + f)\n",
    "        scards = df.loc[df.Valor.isin([2250, 2500]), [\"Numero_Tarjeta\", \"Valor\", \"Nombre_Perfil\"]].reset_index(drop = True)\n",
    "        scards[\"n\"] = 1\n",
    "        subsidy_cards = pd.concat([subsidy_cards, scards], axis = 0)\n",
    "        subsidy_cards = subsidy_cards.groupby([\"Numero_Tarjeta\", \"Valor\", \"Nombre_Perfil\"], as_index = False).agg({\"n\": \"sum\"})\n",
    "       \n",
    "    print(\"In \", d, \":\", subsidy_cards.Numero_Tarjeta.nunique(), \"unique subsidy cards\")\n",
    "    print(\"In \", d, \":\", subsidy_cards.Nombre_Perfil.unique())\n",
    "    subsidy_cards.to_csv(\"/dbfs/\" + path + '/Workspace/Construct/'+d+'subsidy_cards-values-count_Jun24.csv', index = False )\n"
   ]
  },
  {
   "cell_type": "code",
   "execution_count": 0,
   "metadata": {
    "application/vnd.databricks.v1+cell": {
     "cellMetadata": {
      "byteLimit": 2048000,
      "rowLimit": 10000
     },
     "inputWidgets": {},
     "nuid": "32f6f65a-ef95-4db9-8f57-9f59af8c9cdd",
     "showTitle": false,
     "tableResultSettingsMap": {},
     "title": ""
    }
   },
   "outputs": [],
   "source": [
    "# Save Apoyo subsidy cards\n",
    "apoyo_subsidy_cards = pd.DataFrame()\n",
    "for d in ['ValidacionDual/', 'ValidacionTroncal/', 'ValidacionZonal/']:\n",
    "    df = pd.read_csv(\"/dbfs/\" + path + '/Workspace/Construct/'+d+'subsidy_cards-values-count_Jun24.csv')\n",
    "    apoyo_subsidy_cards = pd.concat([apoyo_subsidy_cards, df])\n",
    "apoyo_subsidy_cards = apoyo_subsidy_cards.groupby([\"Numero_Tarjeta\", \"Valor\", \"Nombre_Perfil\"], as_index = False).agg({\"n\": \"sum\"})\n",
    "apoyo_subsidy_cards = apoyo_subsidy_cards[apoyo_subsidy_cards.Nombre_Perfil.isin(['(006) Apoyo Ciudadano', '(009) Apoyo Ciudadano Reexpedición'])].reset_index(drop = True)"
   ]
  },
  {
   "cell_type": "code",
   "execution_count": 0,
   "metadata": {
    "application/vnd.databricks.v1+cell": {
     "cellMetadata": {
      "byteLimit": 2048000,
      "rowLimit": 10000
     },
     "inputWidgets": {},
     "nuid": "2a7819ab-240e-4107-b500-a3414680aca1",
     "showTitle": false,
     "tableResultSettingsMap": {},
     "title": ""
    }
   },
   "outputs": [],
   "source": [
    "apoyo_subsidy_cards = apoyo_subsidy_cards.groupby([\"Numero_Tarjeta\"], as_index = False).agg({\"n\": \"sum\"})"
   ]
  }
 ],
 "metadata": {
  "application/vnd.databricks.v1+notebook": {
   "computePreferences": null,
   "dashboards": [],
   "environmentMetadata": null,
   "language": "python",
   "notebookMetadata": {
    "pythonIndentUnit": 4
   },
   "notebookName": "data-analyze-ScenariosSDM",
   "widgets": {}
  },
  "language_info": {
   "name": "python"
  }
 },
 "nbformat": 4,
 "nbformat_minor": 0
}
