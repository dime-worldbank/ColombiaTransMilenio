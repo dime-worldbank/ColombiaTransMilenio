{
 "cells": [
  {
   "cell_type": "markdown",
   "metadata": {
    "application/vnd.databricks.v1+cell": {
     "cellMetadata": {},
     "inputWidgets": {},
     "nuid": "9cd75f6b-5f9c-40f6-a769-85f6986c49a2",
     "showTitle": false,
     "title": ""
    }
   },
   "source": [
    "# Open Tu Llave data - Analysis for Scenarios for SDM\n"
   ]
  },
  {
   "cell_type": "code",
   "execution_count": 0,
   "metadata": {
    "application/vnd.databricks.v1+cell": {
     "cellMetadata": {
      "byteLimit": 2048000,
      "rowLimit": 10000
     },
     "inputWidgets": {},
     "nuid": "ccf0f06a-2f2c-4289-a7aa-198f1658f7ee",
     "showTitle": false,
     "title": ""
    }
   },
   "outputs": [
    {
     "output_type": "stream",
     "name": "stdout",
     "output_type": "stream",
     "text": [
      "Collecting tqdm\r\n  Downloading tqdm-4.66.4-py3-none-any.whl (78 kB)\r\n\u001B[?25l     \u001B[90m━━━━━━━━━━━━━━━━━━━━━━━━━━━━━━━━━━━━━━━━\u001B[0m \u001B[32m0.0/78.3 kB\u001B[0m \u001B[31m?\u001B[0m eta \u001B[36m-:--:--\u001B[0m\r\u001B[2K     \u001B[90m━━━━━━━━━━━━━━━━━━━━━━━━━━━━━━━━━━━━━━━━\u001B[0m \u001B[32m78.3/78.3 kB\u001B[0m \u001B[31m2.6 MB/s\u001B[0m eta \u001B[36m0:00:00\u001B[0m\r\n\u001B[?25hInstalling collected packages: tqdm\r\nSuccessfully installed tqdm-4.66.4\r\n\r\n\u001B[1m[\u001B[0m\u001B[34;49mnotice\u001B[0m\u001B[1;39;49m]\u001B[0m\u001B[39;49m A new release of pip available: \u001B[0m\u001B[31;49m22.2.2\u001B[0m\u001B[39;49m -> \u001B[0m\u001B[32;49m24.1.2\u001B[0m\r\n\u001B[1m[\u001B[0m\u001B[34;49mnotice\u001B[0m\u001B[1;39;49m]\u001B[0m\u001B[39;49m To update, run: \u001B[0m\u001B[32;49mpip install --upgrade pip\u001B[0m\r\nCollecting pyunpack\r\n  Downloading pyunpack-0.3-py2.py3-none-any.whl (4.1 kB)\r\nCollecting easyprocess\r\n  Downloading EasyProcess-1.1-py3-none-any.whl (8.7 kB)\r\nCollecting entrypoint2\r\n  Downloading entrypoint2-1.1-py2.py3-none-any.whl (9.9 kB)\r\nInstalling collected packages: entrypoint2, easyprocess, pyunpack\r\nSuccessfully installed easyprocess-1.1 entrypoint2-1.1 pyunpack-0.3\r\n\r\n\u001B[1m[\u001B[0m\u001B[34;49mnotice\u001B[0m\u001B[1;39;49m]\u001B[0m\u001B[39;49m A new release of pip available: \u001B[0m\u001B[31;49m22.2.2\u001B[0m\u001B[39;49m -> \u001B[0m\u001B[32;49m24.1.2\u001B[0m\r\n\u001B[1m[\u001B[0m\u001B[34;49mnotice\u001B[0m\u001B[1;39;49m]\u001B[0m\u001B[39;49m To update, run: \u001B[0m\u001B[32;49mpip install --upgrade pip\u001B[0m\r\nCollecting patool\r\n  Downloading patool-2.3.0-py2.py3-none-any.whl (96 kB)\r\n\u001B[?25l     \u001B[90m━━━━━━━━━━━━━━━━━━━━━━━━━━━━━━━━━━━━━━━━\u001B[0m \u001B[32m0.0/96.6 kB\u001B[0m \u001B[31m?\u001B[0m eta \u001B[36m-:--:--\u001B[0m\r\u001B[2K     \u001B[90m━━━━━━━━━━━━━━━━━━━━━━━━━━━━━━━━━━━━━━━━\u001B[0m \u001B[32m96.6/96.6 kB\u001B[0m \u001B[31m3.4 MB/s\u001B[0m eta \u001B[36m0:00:00\u001B[0m\r\n\u001B[?25hInstalling collected packages: patool\r\nSuccessfully installed patool-2.3.0\r\n\r\n\u001B[1m[\u001B[0m\u001B[34;49mnotice\u001B[0m\u001B[1;39;49m]\u001B[0m\u001B[39;49m A new release of pip available: \u001B[0m\u001B[31;49m22.2.2\u001B[0m\u001B[39;49m -> \u001B[0m\u001B[32;49m24.1.2\u001B[0m\r\n\u001B[1m[\u001B[0m\u001B[34;49mnotice\u001B[0m\u001B[1;39;49m]\u001B[0m\u001B[39;49m To update, run: \u001B[0m\u001B[32;49mpip install --upgrade pip\u001B[0m\r\n"
     ]
    }
   ],
   "source": [
    "import os\n",
    "from pathlib import Path\n",
    "from shutil import rmtree\n",
    "import numpy as np\n",
    "import pandas as pd\n",
    "import matplotlib.pyplot as plt\n",
    "\n",
    "!pip install tqdm\n",
    "from tqdm import tqdm\n",
    "\n",
    "!pip install pyunpack\n",
    "!pip install patool\n",
    "from pyunpack import Archive\n",
    "\n"
   ]
  },
  {
   "cell_type": "code",
   "execution_count": 0,
   "metadata": {
    "application/vnd.databricks.v1+cell": {
     "cellMetadata": {
      "byteLimit": 2048000,
      "rowLimit": 10000
     },
     "inputWidgets": {},
     "nuid": "bae96cbd-1674-4ddf-be15-478a5781d391",
     "showTitle": false,
     "title": ""
    }
   },
   "outputs": [],
   "source": [
    "path = '/mnt/DAP/data/ColombiaProject-TransMilenioRawData/'"
   ]
  },
  {
   "cell_type": "markdown",
   "metadata": {
    "application/vnd.databricks.v1+cell": {
     "cellMetadata": {},
     "inputWidgets": {},
     "nuid": "9ccdc231-5049-414f-9562-284ac54e905e",
     "showTitle": false,
     "title": ""
    }
   },
   "source": [
    "# Apoyo Subsidy cards stats Dec 2023 - May 2024\n",
    "\n",
    "Steps:\n",
    "\n",
    "**1. Get all Apoyo cards transactions**.\n",
    "\n",
    "For the relevant months, import each transaction dataset, and keep transactions with Nombre_Perfil '(006) Apoyo Ciudadano' or'(009) Apoyo Ciudadano Reexpedición'. Create variables valid (1 for each transaction or validación), trip (1 for each transaction with a value of more than 200 pesos), s_trip (1 for each transaction with a subsidy value of 2230 or 2500 in the relevant period). Concatenate all transactions from Apoyo cards in each month and save them in a dataset called 'df[YYYYMM]apoyo.csv'.\n",
    "\n",
    "   - _WARNING. Filtering these transactions directly misses the transactions when the same cards were 'Anonymous'. The alternative would be first getting all the Apoyo card numbers and then filtering out all the transactions for those cards. There are pros and cons for each. On one side, this might be preferrable, because there are two ways of becoming Apoyo: (1) from anonymous cards, they keep the same number; (2) from already personalized cards, they get a new number, so we will miss these transactions anyway. On the other side, on our matched TuLlave data we have the IDs, and we only have IDs for personalized cards or Apoyo cards, so we are just missing anonymous cards there._\n",
    "\n",
    "**2. Monthly stats for Incentivo Sisbén users**.\n",
    "\n",
    "Import each monthly Apoyo cards transactions dataset, group by card, and sum their validaciones, trips, and subsidy trips. Create the variable 'subsidy' equalling 1 if the card has any subsidy trips that month. Get total cards using Incentivo Sisbén and total, mean, and median validaciones, trips and subsidy trips for them, for each month. Concatenate all monthly summary stats for these cards using incentivo Sisbén and save a dataset called 'apoyo_stats_subsidy.csv'.\n",
    "\n",
    " - _PROBLEM IN DECEMBER 2023. Note that for December 2023 we have a peak on the number of Subsidy cards. TransMilenio (Héctor) shared with us the total Incentivo Sisbén users in December 2023 calculated by Recaudo Bogotá and the number is much less (193K, similar to November). Therefore, we should then dig into this deeper to find the problem in these raw data._\n",
    "\n",
    "**3. Apoyo stats for full 2024 period**.\n",
    "\n",
    "Import each monthly Apoyo cards transactions dataset, group by card, and sum their validaciones, trips, and subsidy trips. Create the variable 'subsidy' equalling 1 if the card has any subsidy trips that month. Add a variable called \"file\" referrencing the monthly file. Concatenate all the datasets and save them in 'apoyo_total.csv'. Then, to get stats for the full period: filter cards paying subsidy values each month and (i) count number of unique cards paying subsidy values at some point, (ii) code 0s in trips, s_trips, and trip30 for months when the card is not there in the data or not paying subsidy values.\n",
    "\n",
    "- _CORRECTION FOR THE FUTURE.  The variable 'subsidy' is created at the card-month level (whether a card is paying subsidy values each month), while it should better created at the card level, for the whole period. So, for that card, we count trips for months before signing up for the subsidy as well._\n"
   ]
  },
  {
   "cell_type": "markdown",
   "metadata": {
    "application/vnd.databricks.v1+cell": {
     "cellMetadata": {},
     "inputWidgets": {},
     "nuid": "7242f876-2828-43be-bdc4-0526f05e27c8",
     "showTitle": false,
     "title": ""
    }
   },
   "source": [
    "## 1. Get all Apoyo cards transactions and save monthly apoyo files"
   ]
  },
  {
   "cell_type": "code",
   "execution_count": 0,
   "metadata": {
    "application/vnd.databricks.v1+cell": {
     "cellMetadata": {
      "byteLimit": 2048000,
      "rowLimit": 10000
     },
     "inputWidgets": {},
     "nuid": "b6410c04-9f1c-4615-afbf-87606a016882",
     "showTitle": false,
     "title": ""
    }
   },
   "outputs": [
    {
     "output_type": "stream",
     "name": "stderr",
     "output_type": "stream",
     "text": [
      "\r  0%|          | 0/28 [00:00<?, ?it/s]\r  4%|▎         | 1/28 [00:00<00:23,  1.17it/s]\r  7%|▋         | 2/28 [00:01<00:15,  1.71it/s]\r 11%|█         | 3/28 [00:01<00:11,  2.19it/s]\r 14%|█▍        | 4/28 [00:02<00:13,  1.81it/s]\r 18%|█▊        | 5/28 [00:02<00:13,  1.71it/s]\r 21%|██▏       | 6/28 [00:03<00:13,  1.62it/s]\r 25%|██▌       | 7/28 [00:04<00:13,  1.59it/s]\r 29%|██▊       | 8/28 [00:04<00:11,  1.75it/s]\r 32%|███▏      | 9/28 [00:04<00:09,  2.05it/s]\r 36%|███▌      | 10/28 [00:05<00:07,  2.44it/s]\r 39%|███▉      | 11/28 [00:05<00:07,  2.13it/s]\r 43%|████▎     | 12/28 [00:06<00:08,  1.89it/s]\r 46%|████▋     | 13/28 [00:07<00:08,  1.80it/s]\r 50%|█████     | 14/28 [00:07<00:08,  1.67it/s]\r 54%|█████▎    | 15/28 [00:08<00:07,  1.82it/s]\r 57%|█████▋    | 16/28 [00:08<00:05,  2.07it/s]\r 61%|██████    | 17/28 [00:09<00:05,  2.06it/s]\r 64%|██████▍   | 18/28 [00:09<00:05,  1.90it/s]\r 68%|██████▊   | 19/28 [00:10<00:05,  1.77it/s]\r 71%|███████▏  | 20/28 [00:10<00:04,  1.90it/s]\r 75%|███████▌  | 21/28 [00:11<00:04,  1.69it/s]\r 79%|███████▊  | 22/28 [00:11<00:03,  1.88it/s]\r 82%|████████▏ | 23/28 [00:12<00:02,  2.13it/s]\r 86%|████████▌ | 24/28 [00:12<00:01,  2.04it/s]\r 89%|████████▉ | 25/28 [00:13<00:01,  1.97it/s]\r 93%|█████████▎| 26/28 [00:14<00:01,  1.72it/s]\r 96%|█████████▋| 27/28 [00:14<00:00,  1.85it/s]\r100%|██████████| 28/28 [00:15<00:00,  1.91it/s]\r100%|██████████| 28/28 [00:15<00:00,  1.87it/s]\n\r  0%|          | 0/28 [00:00<?, ?it/s]\r  4%|▎         | 1/28 [00:05<02:27,  5.45s/it]\r  7%|▋         | 2/28 [00:08<01:38,  3.78s/it]\r 11%|█         | 3/28 [00:10<01:17,  3.08s/it]\r 14%|█▍        | 4/28 [00:17<01:53,  4.74s/it]\r 18%|█▊        | 5/28 [00:25<02:11,  5.73s/it]\r 21%|██▏       | 6/28 [00:31<02:14,  6.12s/it]\r 25%|██▌       | 7/28 [00:38<02:14,  6.42s/it]\r 29%|██▊       | 8/28 [00:43<01:58,  5.92s/it]\r 32%|███▏      | 9/28 [00:46<01:32,  4.85s/it]\r 36%|███▌      | 10/28 [00:48<01:12,  4.04s/it]\r 39%|███▉      | 11/28 [00:55<01:24,  4.97s/it]\r 43%|████▎     | 12/28 [01:02<01:30,  5.65s/it]\r 46%|████▋     | 13/28 [01:09<01:30,  6.01s/it]\r 50%|█████     | 14/28 [01:17<01:29,  6.41s/it]\r 54%|█████▎    | 15/28 [01:22<01:19,  6.11s/it]\r 57%|█████▋    | 16/28 [01:25<01:01,  5.09s/it]\r 61%|██████    | 17/28 [01:31<01:00,  5.52s/it]\r 64%|██████▍   | 18/28 [01:38<00:59,  5.99s/it]\r 68%|██████▊   | 19/28 [01:45<00:56,  6.29s/it]\r 71%|███████▏  | 20/28 [01:52<00:51,  6.45s/it]\r 75%|███████▌  | 21/28 [01:59<00:45,  6.57s/it]\r 79%|███████▊  | 22/28 [02:04<00:36,  6.13s/it]\r 82%|████████▏ | 23/28 [02:07<00:25,  5.07s/it]\r 86%|████████▌ | 24/28 [02:13<00:22,  5.58s/it]\r 89%|████████▉ | 25/28 [02:22<00:19,  6.53s/it]\r 93%|█████████▎| 26/28 [02:31<00:14,  7.22s/it]\r 96%|█████████▋| 27/28 [02:37<00:06,  6.82s/it]\r100%|██████████| 28/28 [02:40<00:00,  5.79s/it]\r100%|██████████| 28/28 [02:40<00:00,  5.74s/it]\n\r  0%|          | 0/27 [00:00<?, ?it/s]\r  4%|▎         | 1/27 [00:06<02:43,  6.27s/it]\r  7%|▋         | 2/27 [00:09<01:57,  4.72s/it]\r 11%|█         | 3/27 [00:13<01:36,  4.00s/it]\r 15%|█▍        | 4/27 [00:21<02:11,  5.71s/it]\r 19%|█▊        | 5/27 [00:29<02:26,  6.68s/it]\r 22%|██▏       | 6/27 [00:38<02:31,  7.21s/it]\r 26%|██▌       | 7/27 [00:46<02:31,  7.57s/it]\r 30%|██▉       | 8/27 [00:52<02:12,  6.99s/it]\r 33%|███▎      | 9/27 [00:55<01:45,  5.88s/it]\r 37%|███▋      | 10/27 [00:58<01:25,  5.06s/it]\r 41%|████      | 11/27 [01:06<01:35,  5.99s/it]\r 44%|████▍     | 12/27 [01:14<01:39,  6.64s/it]\r 48%|████▊     | 13/27 [01:23<01:39,  7.10s/it]\r 52%|█████▏    | 14/27 [01:31<01:37,  7.52s/it]\r 56%|█████▌    | 15/27 [01:38<01:26,  7.18s/it]\r 59%|█████▉    | 16/27 [01:41<01:08,  6.20s/it]\r 63%|██████▎   | 17/27 [01:49<01:06,  6.67s/it]\r 67%|██████▋   | 18/27 [01:57<01:03,  7.09s/it]\r 70%|███████   | 19/27 [02:05<00:58,  7.36s/it]\r 74%|███████▍  | 20/27 [02:13<00:53,  7.59s/it]\r 78%|███████▊  | 21/27 [02:21<00:46,  7.68s/it]\r 81%|████████▏ | 22/27 [02:27<00:35,  7.07s/it]\r 85%|████████▌ | 23/27 [02:31<00:24,  6.04s/it]\r 89%|████████▉ | 24/27 [02:38<00:19,  6.44s/it]\r 93%|█████████▎| 25/27 [02:48<00:14,  7.44s/it]\r 96%|█████████▋| 26/27 [02:57<00:08,  8.13s/it]\r100%|██████████| 27/27 [03:02<00:00,  7.00s/it]\r100%|██████████| 27/27 [03:02<00:00,  6.75s/it]\n"
     ]
    },
    {
     "output_type": "stream",
     "name": "stdout",
     "output_type": "stream",
     "text": [
      "df202406apoyo.csv\n"
     ]
    }
   ],
   "source": [
    "perfiles = set()\n",
    "\n",
    "# Save dataframe for each month:\n",
    "for m in ['202311', '202312',\n",
    "          '202401', '202402', '202403', '202404','202405',\n",
    "          '202406']:\n",
    "    \n",
    "    dfapoyo = pd.DataFrame()\n",
    "    \n",
    "    for d in ['ValidacionDual/', 'ValidacionTroncal/', 'ValidacionZonal/']:\n",
    "        folder = path +  '/Workspace/Raw/since2020/' + d\n",
    "        files = [f.name for f in dbutils.fs.ls(folder) ]\n",
    "        filesm = [f for f in files if m in f[-12:-6]]\n",
    "\n",
    "        for f in tqdm(filesm):\n",
    "            df = pd.read_csv(\"/dbfs/\"+ folder + f,\n",
    "                            usecols = ['Nombre_Perfil', 'Numero_Tarjeta', 'Valor'] )\n",
    "            perfiles = perfiles.union(df.Nombre_Perfil)\n",
    "            df[\"apoyo\"]  = (df.Nombre_Perfil.isin([ '(006) Apoyo Ciudadano','(009) Apoyo Ciudadano Reexpedición'])) \n",
    "            df = df[df.apoyo].reset_index(drop = True) \n",
    "\n",
    "            dfapoyo = pd.concat([dfapoyo, df])\n",
    "\n",
    "    dfapoyo[\"valid\"] = 1\n",
    "    dfapoyo[\"trip\"]   = (dfapoyo.Valor > 200) * 1 \n",
    "    dfapoyo[\"s_trip\"] = (dfapoyo.Valor.isin([2250, 2500])) * 1 \n",
    "\n",
    "    filename = 'df' + m + 'apoyo.csv'\n",
    "    print(filename)\n",
    "    dfapoyo.to_csv(\"/dbfs/\" + path + '/Workspace/Construct/' + filename, index = False )\n"
   ]
  },
  {
   "cell_type": "markdown",
   "metadata": {
    "application/vnd.databricks.v1+cell": {
     "cellMetadata": {},
     "inputWidgets": {},
     "nuid": "64ecddbd-a360-4963-bb45-a21ec16a6411",
     "showTitle": false,
     "title": ""
    }
   },
   "source": [
    "## 2. Monthly stats for Incentivo Sisbén users."
   ]
  },
  {
   "cell_type": "code",
   "execution_count": 0,
   "metadata": {
    "application/vnd.databricks.v1+cell": {
     "cellMetadata": {
      "byteLimit": 2048000,
      "rowLimit": 10000
     },
     "inputWidgets": {},
     "nuid": "1c12f7d2-69ea-479d-93b8-002bd91fb3fe",
     "showTitle": false,
     "title": ""
    }
   },
   "outputs": [
    {
     "output_type": "stream",
     "name": "stderr",
     "output_type": "stream",
     "text": [
      "/root/.ipykernel/2423/command-1926342584140210-1978467539:12: FutureWarning: Indexing with multiple keys (implicitly converted to a tuple of keys) will be deprecated, use a list instead.\n  dfapoyo = dfapoyo.groupby(['Numero_Tarjeta'], as_index = False)[\"valid\", \"trip\", \"s_trip\"].sum() # total trips and valid in the month for each card\n"
     ]
    }
   ],
   "source": [
    "# Stats by month \n",
    "#apoyo_stats = pd.DataFrame()\n",
    "apoyo_stats = pd.read_csv(\"/dbfs/\" + path + '/Workspace/Construct/apoyo_stats_subsidy.csv')\n",
    "\n",
    "files = [# '/df202311apoyo.csv', '/df202312apoyo.csv', \n",
    "         #'/df202401apoyo.csv', '/df202402apoyo.csv', '/df202403apoyo.csv', '/df202404apoyo.csv', '/df202405apoyo.csv',\n",
    "         '/df202406apoyo.csv']\n",
    "for f in files:\n",
    "   apoyo_stats    = apoyo_stats[apoyo_stats.File != f ].reset_index(drop = True)\n",
    "   \n",
    "   dfapoyo = pd.read_csv(\"/dbfs/\" + path + '/Workspace/Construct/' + f)\n",
    "   dfapoyo = dfapoyo.groupby(['Numero_Tarjeta'], as_index = False)[\"valid\", \"trip\", \"s_trip\"].sum() # total trips and valid in the month for each card\n",
    "   dfapoyo[\"subsidy\"] = dfapoyo.s_trip > 0\n",
    "   \n",
    "   aux = dfapoyo.groupby(\"subsidy\", as_index = False).agg({\"Numero_Tarjeta\": \"nunique\",\n",
    "                                                  \"valid\" : [\"sum\", \"mean\", \"median\"],\n",
    "                                                  \"trip\"  : [\"sum\", \"mean\", \"median\"],\n",
    "                                                  \"s_trip\": [\"sum\", \"mean\", \"median\"]})\n",
    "   aux[\"file\"] = f\n",
    "   aux.columns = [\"subsidy\",\n",
    "                       \"Total_cards\",\n",
    "                       \"Validaciones - total\",\n",
    "                       \"Validaciones - mean\",\n",
    "                       \"Validaciones - median\",\n",
    "                       \"Trips - total\",\n",
    "                       \"Trips - mean\",\n",
    "                       \"Trips - median\",\n",
    "                       \"Subsidy trips - total\",\n",
    "                       \"Subsidy trips - mean\",\n",
    "                       \"Subsidy trips - median\",\n",
    "                       \"File\"]\n",
    "\n",
    "   apoyo_stats = pd.concat([apoyo_stats, aux])\n",
    "\n",
    "\n",
    "\n",
    "apoyo_stats_subsidy = apoyo_stats[apoyo_stats.subsidy].reset_index(drop = True)\n",
    "\n",
    "apoyo_stats_subsidy.to_csv(\"/dbfs/\" + path + '/Workspace/Construct/apoyo_stats_subsidy.csv', index = False )"
   ]
  },
  {
   "cell_type": "code",
   "execution_count": 0,
   "metadata": {
    "application/vnd.databricks.v1+cell": {
     "cellMetadata": {
      "byteLimit": 2048000,
      "rowLimit": 10000
     },
     "inputWidgets": {},
     "nuid": "cb566ba3-a76a-4cb8-a653-3646dc4fae91",
     "showTitle": false,
     "title": ""
    }
   },
   "outputs": [
    {
     "output_type": "execute_result",
     "data": {
      "text/html": [
       "<div>\n",
       "<style scoped>\n",
       "    .dataframe tbody tr th:only-of-type {\n",
       "        vertical-align: middle;\n",
       "    }\n",
       "\n",
       "    .dataframe tbody tr th {\n",
       "        vertical-align: top;\n",
       "    }\n",
       "\n",
       "    .dataframe thead th {\n",
       "        text-align: right;\n",
       "    }\n",
       "</style>\n",
       "<table border=\"1\" class=\"dataframe\">\n",
       "  <thead>\n",
       "    <tr style=\"text-align: right;\">\n",
       "      <th></th>\n",
       "      <th>subsidy</th>\n",
       "      <th>Total_cards</th>\n",
       "      <th>Validaciones - total</th>\n",
       "      <th>Validaciones - mean</th>\n",
       "      <th>Validaciones - median</th>\n",
       "      <th>Trips - total</th>\n",
       "      <th>Trips - mean</th>\n",
       "      <th>Trips - median</th>\n",
       "      <th>Subsidy trips - total</th>\n",
       "      <th>Subsidy trips - mean</th>\n",
       "      <th>Subsidy trips - median</th>\n",
       "      <th>File</th>\n",
       "      <th>month</th>\n",
       "    </tr>\n",
       "  </thead>\n",
       "  <tbody>\n",
       "    <tr>\n",
       "      <th>0</th>\n",
       "      <td>True</td>\n",
       "      <td>196682</td>\n",
       "      <td>5893978</td>\n",
       "      <td>29.967043</td>\n",
       "      <td>24.0</td>\n",
       "      <td>4322730</td>\n",
       "      <td>21.978269</td>\n",
       "      <td>19.0</td>\n",
       "      <td>3420689</td>\n",
       "      <td>17.391978</td>\n",
       "      <td>18.0</td>\n",
       "      <td>/df202311apoyo.csv</td>\n",
       "      <td>23-11</td>\n",
       "    </tr>\n",
       "    <tr>\n",
       "      <th>1</th>\n",
       "      <td>True</td>\n",
       "      <td>243596</td>\n",
       "      <td>6935478</td>\n",
       "      <td>28.471231</td>\n",
       "      <td>23.0</td>\n",
       "      <td>5147343</td>\n",
       "      <td>21.130655</td>\n",
       "      <td>18.0</td>\n",
       "      <td>3253453</td>\n",
       "      <td>13.355938</td>\n",
       "      <td>10.0</td>\n",
       "      <td>/df202312apoyo.csv</td>\n",
       "      <td>23-12</td>\n",
       "    </tr>\n",
       "    <tr>\n",
       "      <th>2</th>\n",
       "      <td>True</td>\n",
       "      <td>150271</td>\n",
       "      <td>3935771</td>\n",
       "      <td>26.191155</td>\n",
       "      <td>19.0</td>\n",
       "      <td>2888391</td>\n",
       "      <td>19.221214</td>\n",
       "      <td>15.0</td>\n",
       "      <td>2338817</td>\n",
       "      <td>15.563994</td>\n",
       "      <td>14.0</td>\n",
       "      <td>/df202401apoyo.csv</td>\n",
       "      <td>24-01</td>\n",
       "    </tr>\n",
       "    <tr>\n",
       "      <th>3</th>\n",
       "      <td>True</td>\n",
       "      <td>152388</td>\n",
       "      <td>3803183</td>\n",
       "      <td>24.957234</td>\n",
       "      <td>20.0</td>\n",
       "      <td>2784807</td>\n",
       "      <td>18.274451</td>\n",
       "      <td>16.0</td>\n",
       "      <td>2184608</td>\n",
       "      <td>14.335827</td>\n",
       "      <td>15.0</td>\n",
       "      <td>/df202402apoyo.csv</td>\n",
       "      <td>24-02</td>\n",
       "    </tr>\n",
       "    <tr>\n",
       "      <th>4</th>\n",
       "      <td>True</td>\n",
       "      <td>151829</td>\n",
       "      <td>4321883</td>\n",
       "      <td>28.465464</td>\n",
       "      <td>23.0</td>\n",
       "      <td>3158427</td>\n",
       "      <td>20.802528</td>\n",
       "      <td>18.0</td>\n",
       "      <td>2622176</td>\n",
       "      <td>17.270587</td>\n",
       "      <td>18.0</td>\n",
       "      <td>/df202403apoyo.csv</td>\n",
       "      <td>24-03</td>\n",
       "    </tr>\n",
       "    <tr>\n",
       "      <th>5</th>\n",
       "      <td>True</td>\n",
       "      <td>155410</td>\n",
       "      <td>4868519</td>\n",
       "      <td>31.326935</td>\n",
       "      <td>25.0</td>\n",
       "      <td>3538391</td>\n",
       "      <td>22.768104</td>\n",
       "      <td>20.0</td>\n",
       "      <td>2812011</td>\n",
       "      <td>18.094145</td>\n",
       "      <td>19.0</td>\n",
       "      <td>/df202404apoyo.csv</td>\n",
       "      <td>24-04</td>\n",
       "    </tr>\n",
       "    <tr>\n",
       "      <th>6</th>\n",
       "      <td>True</td>\n",
       "      <td>158023</td>\n",
       "      <td>4653755</td>\n",
       "      <td>29.449859</td>\n",
       "      <td>23.0</td>\n",
       "      <td>3383948</td>\n",
       "      <td>21.414275</td>\n",
       "      <td>19.0</td>\n",
       "      <td>2666218</td>\n",
       "      <td>16.872341</td>\n",
       "      <td>18.0</td>\n",
       "      <td>/df202405apoyo.csv</td>\n",
       "      <td>24-05</td>\n",
       "    </tr>\n",
       "    <tr>\n",
       "      <th>7</th>\n",
       "      <td>True</td>\n",
       "      <td>158970</td>\n",
       "      <td>4058312</td>\n",
       "      <td>25.528792</td>\n",
       "      <td>19.0</td>\n",
       "      <td>2962908</td>\n",
       "      <td>18.638158</td>\n",
       "      <td>15.0</td>\n",
       "      <td>2578430</td>\n",
       "      <td>16.219601</td>\n",
       "      <td>15.0</td>\n",
       "      <td>/df202406apoyo.csv</td>\n",
       "      <td>24-06</td>\n",
       "    </tr>\n",
       "  </tbody>\n",
       "</table>\n",
       "</div>"
      ],
      "text/plain": [
       "   subsidy  Total_cards  ...                File  month\n",
       "0     True       196682  ...  /df202311apoyo.csv  23-11\n",
       "1     True       243596  ...  /df202312apoyo.csv  23-12\n",
       "2     True       150271  ...  /df202401apoyo.csv  24-01\n",
       "3     True       152388  ...  /df202402apoyo.csv  24-02\n",
       "4     True       151829  ...  /df202403apoyo.csv  24-03\n",
       "5     True       155410  ...  /df202404apoyo.csv  24-04\n",
       "6     True       158023  ...  /df202405apoyo.csv  24-05\n",
       "7     True       158970  ...  /df202406apoyo.csv  24-06\n",
       "\n",
       "[8 rows x 13 columns]"
      ]
     },
     "execution_count": 11,
     "metadata": {},
     "output_type": "execute_result"
    }
   ],
   "source": [
    "apoyo_stats_subsidy = pd.read_csv(\"/dbfs/\" + path + '/Workspace/Construct/apoyo_stats_subsidy.csv')\n",
    "apoyo_stats_subsidy[\"month\"] = [f[5:7]+ \"-\" +f[7:9] for f in apoyo_stats_subsidy.File]\n",
    "apoyo_stats_subsidy"
   ]
  },
  {
   "cell_type": "code",
   "execution_count": 0,
   "metadata": {
    "application/vnd.databricks.v1+cell": {
     "cellMetadata": {
      "byteLimit": 2048000,
      "rowLimit": 10000
     },
     "inputWidgets": {},
     "nuid": "8ec5190a-43b8-4683-b2a7-2f0355845c74",
     "showTitle": false,
     "title": ""
    }
   },
   "outputs": [
    {
     "output_type": "display_data",
     "data": {
      "image/png": "[encoded data removed]",
      "text/plain": [
       "<Figure size 640x480 with 1 Axes>"
      ]
     },
     "metadata": {},
     "output_type": "display_data"
    }
   ],
   "source": [
    "plt.bar(\"month\", \"Total_cards\", data = apoyo_stats_subsidy)\n",
    "plt.title(\"Cards using Incentivo Sisbén each month\")\n",
    "plt.ylabel(\"Total unique cards\")\n",
    "plt.xlabel(\"Month\")\n",
    "plt.show()"
   ]
  },
  {
   "cell_type": "markdown",
   "metadata": {
    "application/vnd.databricks.v1+cell": {
     "cellMetadata": {},
     "inputWidgets": {},
     "nuid": "cdd5d27e-afc9-41c5-85c4-3961e9944c56",
     "showTitle": false,
     "title": ""
    }
   },
   "source": [
    "## 3. Apoyo stats for full 2024 period"
   ]
  },
  {
   "cell_type": "code",
   "execution_count": 0,
   "metadata": {
    "application/vnd.databricks.v1+cell": {
     "cellMetadata": {
      "byteLimit": 2048000,
      "rowLimit": 10000
     },
     "inputWidgets": {},
     "nuid": "46fb4608-b27b-4b9e-82d4-54f2dcf3484d",
     "showTitle": false,
     "title": ""
    }
   },
   "outputs": [
    {
     "output_type": "stream",
     "name": "stderr",
     "output_type": "stream",
     "text": [
      "/root/.ipykernel/2423/command-3325998359063602-2888606290:10: FutureWarning: Indexing with multiple keys (implicitly converted to a tuple of keys) will be deprecated, use a list instead.\n  dfapoyo = dfapoyo.groupby(['Numero_Tarjeta'], as_index = False)[\"valid\", \"trip\", \"s_trip\"].sum() # total trips and valid in the month for each card\n"
     ]
    }
   ],
   "source": [
    "# Stats for full 2024 period\n",
    "#apoyo_total = pd.DataFrame()\n",
    "apoyo_total = pd.read_csv(\"/dbfs/\" + path + '/Workspace/Construct/apoyo_total.csv')\n",
    "\n",
    "files = [#'/df202401apoyo.csv', '/df202402apoyo.csv', '/df202403apoyo.csv', '/df202404apoyo.csv', '/df202405apoyo.csv',\n",
    "          '/df202406apoyo.csv']\n",
    "for f in files:\n",
    "   apoyo_total = apoyo_total[apoyo_total.file != f].reset_index(drop = True)\n",
    "   dfapoyo = pd.read_csv(\"/dbfs/\" + path + '/Workspace/Construct/' + f)\n",
    "   dfapoyo = dfapoyo.groupby(['Numero_Tarjeta'], as_index = False)[\"valid\", \"trip\", \"s_trip\"].sum() # total trips and valid in the month for each card\n",
    "   dfapoyo[\"subsidy\"] = dfapoyo.s_trip > 0\n",
    "   dfapoyo[\"file\"] = f\n",
    "   \n",
    "   apoyo_total = pd.concat([apoyo_total, dfapoyo])\n",
    "\n",
    "apoyo_total.to_csv(\"/dbfs/\" + path + '/Workspace/Construct/apoyo_total.csv', index = False )"
   ]
  },
  {
   "cell_type": "code",
   "execution_count": 0,
   "metadata": {
    "application/vnd.databricks.v1+cell": {
     "cellMetadata": {
      "byteLimit": 2048000,
      "rowLimit": 10000
     },
     "inputWidgets": {},
     "nuid": "52683842-db3a-44fb-9cb2-b0c9ad66cd4e",
     "showTitle": false,
     "title": ""
    }
   },
   "outputs": [],
   "source": [
    "apoyo_total = pd.read_csv(\"/dbfs/\" + path + '/Workspace/Construct/apoyo_total.csv')\n",
    "apoyo_total[\"trip30\"] = apoyo_total.trip\n",
    "apoyo_total.loc[apoyo_total.trip > 30, \"trip30\"] = 30"
   ]
  },
  {
   "cell_type": "code",
   "execution_count": 0,
   "metadata": {
    "application/vnd.databricks.v1+cell": {
     "cellMetadata": {
      "byteLimit": 2048000,
      "rowLimit": 10000
     },
     "inputWidgets": {},
     "nuid": "7f39a0ef-1150-4486-9bf0-d0a6849bf367",
     "showTitle": false,
     "title": ""
    }
   },
   "outputs": [
    {
     "output_type": "execute_result",
     "data": {
      "text/plain": [
       "216448"
      ]
     },
     "execution_count": 18,
     "metadata": {},
     "output_type": "execute_result"
    }
   ],
   "source": [
    "print(apoyo_total[apoyo_total.subsidy].Numero_Tarjeta.nunique())\n",
    "print(apoyo_total[apoyo_total.subsidy].groupby(\"file\").agg({\"s_trip\" : \"sum\"}).sum())\n",
    "print(apoyo_total[apoyo_total.subsidy].groupby(\"file\").agg({\"trip30\" : \"sum\"}).sum())\n",
    "print(apoyo_total[apoyo_total.subsidy].s_trip.mean())"
   ]
  },
  {
   "cell_type": "code",
   "execution_count": 0,
   "metadata": {
    "application/vnd.databricks.v1+cell": {
     "cellMetadata": {
      "byteLimit": 2048000,
      "rowLimit": 10000
     },
     "inputWidgets": {},
     "nuid": "6dd6fb26-2e4d-4ac9-bc1f-283e46af7fdd",
     "showTitle": false,
     "title": ""
    }
   },
   "outputs": [],
   "source": [
    "# code 0 if the card does not have subsidy in some other motnh\n",
    "monthly_avg_0s = apoyo_total[apoyo_total.subsidy].set_index([\"Numero_Tarjeta\",\"file\"]).unstack(fill_value=0).stack().reset_index()"
   ]
  },
  {
   "cell_type": "code",
   "execution_count": 0,
   "metadata": {
    "application/vnd.databricks.v1+cell": {
     "cellMetadata": {
      "byteLimit": 2048000,
      "rowLimit": 10000
     },
     "inputWidgets": {},
     "nuid": "0f36f8c3-d412-4e82-a70b-ffb70d1c5120",
     "showTitle": false,
     "title": ""
    }
   },
   "outputs": [
    {
     "output_type": "execute_result",
     "data": {
      "text/plain": [
       "14.412139020303568"
      ]
     },
     "execution_count": 22,
     "metadata": {},
     "output_type": "execute_result"
    }
   ],
   "source": [
    "print(monthly_avg_0s.trip.mean())\n",
    "print(monthly_avg_0s.s_trip.mean())\n",
    "print(monthly_avg_0s.trip30.mean())"
   ]
  },
  {
   "cell_type": "markdown",
   "metadata": {
    "application/vnd.databricks.v1+cell": {
     "cellMetadata": {},
     "inputWidgets": {},
     "nuid": "42ac5d2e-07bd-4f96-a0b1-ab4062f3d257",
     "showTitle": false,
     "title": ""
    }
   },
   "source": [
    "# Get subsidy cards 2024"
   ]
  },
  {
   "cell_type": "code",
   "execution_count": 0,
   "metadata": {
    "application/vnd.databricks.v1+cell": {
     "cellMetadata": {
      "byteLimit": 2048000,
      "rowLimit": 10000
     },
     "inputWidgets": {},
     "nuid": "9ababc42-31c3-49e0-bf0d-76dfa9eeaa19",
     "showTitle": false,
     "title": ""
    }
   },
   "outputs": [
    {
     "output_type": "stream",
     "name": "stderr",
     "output_type": "stream",
     "text": [
      "\r  0%|          | 0/167 [00:00<?, ?it/s]\r  1%|          | 1/167 [00:00<01:07,  2.46it/s]\r  1%|          | 2/167 [00:00<01:01,  2.70it/s]\r  2%|▏         | 3/167 [00:01<01:01,  2.65it/s]\r  2%|▏         | 4/167 [00:01<01:11,  2.27it/s]\r  3%|▎         | 5/167 [00:02<01:08,  2.37it/s]\r  4%|▎         | 6/167 [00:02<01:08,  2.36it/s]\r  4%|▍         | 7/167 [00:02<01:04,  2.47it/s]\r  5%|▍         | 8/167 [00:03<00:55,  2.85it/s]\r  5%|▌         | 9/167 [00:03<00:59,  2.65it/s]\r  6%|▌         | 10/167 [00:04<01:09,  2.25it/s]\r  7%|▋         | 11/167 [00:04<01:12,  2.14it/s]\r  7%|▋         | 12/167 [00:05<01:20,  1.92it/s]\r  8%|▊         | 13/167 [00:05<01:11,  2.14it/s]\r  8%|▊         | 14/167 [00:05<01:04,  2.39it/s]\r  9%|▉         | 15/167 [00:06<01:16,  1.98it/s]\r 10%|▉         | 16/167 [00:07<01:19,  1.89it/s]\r 10%|█         | 17/167 [00:07<01:27,  1.72it/s]\r 11%|█         | 18/167 [00:08<01:24,  1.76it/s]\r 11%|█▏        | 19/167 [00:09<01:30,  1.63it/s]\r 12%|█▏        | 20/167 [00:09<01:22,  1.77it/s]\r 13%|█▎        | 21/167 [00:10<01:15,  1.93it/s]\r 13%|█▎        | 22/167 [00:10<01:19,  1.84it/s]\r 14%|█▍        | 23/167 [00:11<01:19,  1.81it/s]\r 14%|█▍        | 24/167 [00:12<01:28,  1.61it/s]\r 15%|█▍        | 25/167 [00:12<01:27,  1.63it/s]\r 16%|█▌        | 26/167 [00:13<01:30,  1.56it/s]\r 16%|█▌        | 27/167 [00:13<01:18,  1.79it/s]\r 17%|█▋        | 28/167 [00:14<01:12,  1.93it/s]\r 17%|█▋        | 29/167 [00:14<01:15,  1.82it/s]\r 18%|█▊        | 30/167 [00:15<01:23,  1.64it/s]\r 19%|█▊        | 31/167 [00:16<01:22,  1.65it/s]\r 19%|█▉        | 32/167 [00:16<01:27,  1.55it/s]\r 20%|█▉        | 33/167 [00:17<01:25,  1.57it/s]\r 20%|██        | 34/167 [00:17<01:16,  1.75it/s]\r 21%|██        | 35/167 [00:18<01:21,  1.62it/s]\r 22%|██▏       | 36/167 [00:19<01:35,  1.37it/s]\r 22%|██▏       | 37/167 [00:20<01:27,  1.49it/s]\r 23%|██▎       | 38/167 [00:20<01:18,  1.65it/s]\r 23%|██▎       | 39/167 [00:21<01:17,  1.64it/s]\r 24%|██▍       | 40/167 [00:21<01:24,  1.50it/s]\r 25%|██▍       | 41/167 [00:22<01:22,  1.52it/s]\r 25%|██▌       | 42/167 [00:23<01:17,  1.62it/s]\r 26%|██▌       | 43/167 [00:23<01:17,  1.61it/s]\r 26%|██▋       | 44/167 [00:24<01:13,  1.68it/s]\r 27%|██▋       | 45/167 [00:24<01:02,  1.96it/s]\r 28%|██▊       | 46/167 [00:25<01:09,  1.75it/s]\r 28%|██▊       | 47/167 [00:26<01:16,  1.57it/s]\r 29%|██▊       | 48/167 [00:26<01:20,  1.48it/s]\r 29%|██▉       | 49/167 [00:27<01:22,  1.43it/s]\r 30%|██▉       | 50/167 [00:28<01:21,  1.44it/s]\r 31%|███       | 51/167 [00:28<01:16,  1.52it/s]\r 31%|███       | 52/167 [00:29<01:05,  1.77it/s]\r 32%|███▏      | 53/167 [00:29<01:07,  1.70it/s]\r 32%|███▏      | 54/167 [00:30<01:21,  1.38it/s]\r 33%|███▎      | 55/167 [00:31<01:22,  1.36it/s]\r 34%|███▎      | 56/167 [00:32<01:18,  1.42it/s]\r 34%|███▍      | 57/167 [00:32<01:11,  1.55it/s]\r 35%|███▍      | 58/167 [00:33<01:00,  1.81it/s]\r 35%|███▌      | 59/167 [00:33<01:03,  1.71it/s]\r 36%|███▌      | 60/167 [00:34<01:09,  1.55it/s]\r 37%|███▋      | 61/167 [00:35<01:08,  1.56it/s]\r 37%|███▋      | 62/167 [00:36<01:12,  1.46it/s]\r 38%|███▊      | 63/167 [00:36<01:10,  1.48it/s]\r 38%|███▊      | 64/167 [00:37<01:07,  1.53it/s]\r 39%|███▉      | 65/167 [00:37<00:57,  1.77it/s]\r 40%|███▉      | 66/167 [00:38<01:01,  1.65it/s]\r 40%|████      | 67/167 [00:39<01:11,  1.40it/s]\r 41%|████      | 68/167 [00:39<01:09,  1.42it/s]\r 41%|████▏     | 69/167 [00:40<01:12,  1.34it/s]\r 42%|████▏     | 70/167 [00:41<01:09,  1.39it/s]\r 43%|████▎     | 71/167 [00:42<01:05,  1.47it/s]\r 43%|████▎     | 72/167 [00:42<00:55,  1.71it/s]\r 44%|████▎     | 73/167 [00:43<01:01,  1.52it/s]\r 44%|████▍     | 74/167 [00:44<01:05,  1.42it/s]\r 45%|████▍     | 75/167 [00:44<01:06,  1.39it/s]\r 46%|████▌     | 76/167 [00:45<01:09,  1.31it/s]\r 46%|████▌     | 77/167 [00:46<01:07,  1.33it/s]\r 47%|████▋     | 78/167 [00:47<01:03,  1.41it/s]\r 47%|████▋     | 79/167 [00:47<00:56,  1.56it/s]\r 48%|████▊     | 80/167 [00:48<00:52,  1.67it/s]\r 49%|████▊     | 81/167 [00:48<00:49,  1.73it/s]\r 49%|████▉     | 82/167 [00:49<00:50,  1.67it/s]\r 50%|████▉     | 83/167 [00:49<00:44,  1.91it/s]\r 50%|█████     | 84/167 [00:49<00:40,  2.07it/s]\r 51%|█████     | 85/167 [00:50<00:41,  2.00it/s]\r 51%|█████▏    | 86/167 [00:50<00:36,  2.19it/s]\r 52%|█████▏    | 87/167 [00:51<00:41,  1.91it/s]\r 53%|█████▎    | 88/167 [00:52<00:49,  1.60it/s]\r 53%|█████▎    | 89/167 [00:53<00:51,  1.53it/s]\r 54%|█████▍    | 90/167 [00:53<00:55,  1.39it/s]\r 54%|█████▍    | 91/167 [00:54<00:54,  1.39it/s]\r 55%|█████▌    | 92/167 [00:55<00:53,  1.41it/s]\r 56%|█████▌    | 93/167 [00:55<00:46,  1.60it/s]\r 56%|█████▋    | 94/167 [00:56<00:49,  1.47it/s]\r 57%|█████▋    | 95/167 [00:57<00:51,  1.40it/s]\r 57%|█████▋    | 96/167 [00:58<00:53,  1.33it/s]\r 58%|█████▊    | 97/167 [00:58<00:51,  1.35it/s]\r 59%|█████▊    | 98/167 [00:59<00:56,  1.22it/s]\r 59%|█████▉    | 99/167 [01:00<00:48,  1.39it/s]\r 60%|█████▉    | 100/167 [01:00<00:44,  1.50it/s]\r 60%|██████    | 101/167 [01:01<00:45,  1.46it/s]\r 61%|██████    | 102/167 [01:02<00:47,  1.35it/s]\r 62%|██████▏   | 103/167 [01:03<00:49,  1.30it/s]\r 62%|██████▏   | 104/167 [01:04<00:51,  1.23it/s]\r 63%|██████▎   | 105/167 [01:05<00:48,  1.28it/s]\r 63%|██████▎   | 106/167 [01:05<00:45,  1.35it/s]\r 64%|██████▍   | 107/167 [01:06<00:38,  1.57it/s]\r 65%|██████▍   | 108/167 [01:06<00:41,  1.43it/s]\r 65%|██████▌   | 109/167 [01:07<00:41,  1.39it/s]\r 66%|██████▌   | 110/167 [01:08<00:44,  1.29it/s]\r 66%|██████▋   | 111/167 [01:09<00:42,  1.30it/s]\r 67%|██████▋   | 112/167 [01:10<00:43,  1.26it/s]\r 68%|██████▊   | 113/167 [01:10<00:39,  1.35it/s]\r 68%|██████▊   | 114/167 [01:11<00:36,  1.46it/s]\r 69%|██████▉   | 115/167 [01:12<00:36,  1.42it/s]\r 69%|██████▉   | 116/167 [01:12<00:38,  1.32it/s]\r 70%|███████   | 117/167 [01:13<00:32,  1.53it/s]\r 71%|███████   | 118/167 [01:14<00:35,  1.37it/s]\r 71%|███████▏  | 119/167 [01:15<00:35,  1.37it/s]\r 72%|███████▏  | 120/167 [01:15<00:34,  1.37it/s]\r 72%|███████▏  | 121/167 [01:16<00:29,  1.55it/s]\r 73%|███████▎  | 122/167 [01:17<00:32,  1.40it/s]\r 74%|███████▎  | 123/167 [01:17<00:32,  1.37it/s]\r 74%|███████▍  | 124/167 [01:18<00:33,  1.27it/s]\r 75%|███████▍  | 125/167 [01:19<00:33,  1.27it/s]\r 75%|███████▌  | 126/167 [01:20<00:35,  1.15it/s]\r 76%|███████▌  | 127/167 [01:21<00:30,  1.30it/s]\r 77%|███████▋  | 128/167 [01:21<00:26,  1.48it/s]\r 77%|███████▋  | 129/167 [01:22<00:27,  1.40it/s]\r 78%|███████▊  | 130/167 [01:23<00:28,  1.31it/s]\r 78%|███████▊  | 131/167 [01:24<00:27,  1.30it/s]\r 79%|███████▉  | 132/167 [01:24<00:28,  1.23it/s]\r 80%|███████▉  | 133/167 [01:25<00:25,  1.33it/s]\r 80%|████████  | 134/167 [01:26<00:23,  1.42it/s]\r 81%|████████  | 135/167 [01:26<00:23,  1.39it/s]\r 81%|████████▏ | 136/167 [01:27<00:23,  1.29it/s]\r 82%|████████▏ | 137/167 [01:28<00:23,  1.27it/s]\r 83%|████████▎ | 138/167 [01:30<00:28,  1.02it/s]\r 83%|████████▎ | 139/167 [01:34<00:57,  2.04s/it]\r 84%|████████▍ | 140/167 [01:35<00:43,  1.61s/it]\r 84%|████████▍ | 141/167 [01:35<00:35,  1.36s/it]\r 85%|████████▌ | 142/167 [01:37<00:31,  1.27s/it]\r 86%|████████▌ | 143/167 [01:37<00:27,  1.16s/it]\r 86%|████████▌ | 144/167 [01:38<00:24,  1.05s/it]\r 87%|████████▋ | 145/167 [01:39<00:22,  1.01s/it]\r 87%|████████▋ | 146/167 [01:40<00:19,  1.09it/s]\r 88%|████████▊ | 147/167 [01:40<00:16,  1.23it/s]\r 89%|████████▊ | 148/167 [01:41<00:13,  1.41it/s]\r 89%|████████▉ | 149/167 [01:42<00:13,  1.31it/s]\r 90%|████████▉ | 150/167 [01:43<00:13,  1.30it/s]\r 90%|█████████ | 151/167 [01:43<00:12,  1.23it/s]\r 91%|█████████ | 152/167 [01:44<00:12,  1.24it/s]\r 92%|█████████▏| 153/167 [01:45<00:11,  1.26it/s]\r 92%|█████████▏| 154/167 [01:46<00:09,  1.42it/s]\r 93%|█████████▎| 155/167 [01:46<00:08,  1.49it/s]\r 93%|█████████▎| 156/167 [01:47<00:07,  1.42it/s]\r 94%|█████████▍| 157/167 [01:48<00:07,  1.31it/s]\r 95%|█████████▍| 158/167 [01:49<00:07,  1.25it/s]\r 95%|█████████▌| 159/167 [01:50<00:06,  1.17it/s]\r 96%|█████████▌| 160/167 [01:50<00:05,  1.24it/s]\r 96%|█████████▋| 161/167 [01:51<00:04,  1.34it/s]\r 97%|█████████▋| 162/167 [01:52<00:03,  1.35it/s]\r 98%|█████████▊| 163/167 [01:53<00:03,  1.25it/s]\r 98%|█████████▊| 164/167 [01:53<00:02,  1.22it/s]\r 99%|█████████▉| 165/167 [01:54<00:01,  1.20it/s]\r 99%|█████████▉| 166/167 [01:55<00:00,  1.22it/s]\r100%|██████████| 167/167 [01:56<00:00,  1.25it/s]\r100%|██████████| 167/167 [01:56<00:00,  1.43it/s]\n"
     ]
    },
    {
     "output_type": "stream",
     "name": "stdout",
     "output_type": "stream",
     "text": [
      "In  ValidacionDual/ : 101403 unique subsidy cards\nIn  ValidacionDual/ : ['(002) Adulto Mayor' '(009) Apoyo Ciudadano Reexpedición'\n '(006) Apoyo Ciudadano']\n"
     ]
    },
    {
     "output_type": "stream",
     "name": "stderr",
     "output_type": "stream",
     "text": [
      "\r  0%|          | 0/167 [00:00<?, ?it/s]\r  1%|          | 1/167 [00:01<04:26,  1.61s/it]\r  1%|          | 2/167 [00:06<10:26,  3.80s/it]\r  2%|▏         | 3/167 [00:12<13:11,  4.83s/it]\r  2%|▏         | 4/167 [00:19<14:42,  5.41s/it]\r  3%|▎         | 5/167 [00:25<15:36,  5.78s/it]\r  4%|▎         | 6/167 [00:30<14:27,  5.39s/it]\r  4%|▍         | 7/167 [00:33<12:18,  4.61s/it]\r  5%|▍         | 8/167 [00:36<10:42,  4.04s/it]\r  5%|▌         | 9/167 [00:44<14:06,  5.36s/it]\r  6%|▌         | 10/167 [00:52<16:22,  6.26s/it]\r  7%|▋         | 11/167 [01:01<18:15,  7.02s/it]\r  7%|▋         | 12/167 [01:09<19:14,  7.45s/it]\r  8%|▊         | 13/167 [01:16<18:10,  7.08s/it]\r  8%|▊         | 14/167 [01:19<15:14,  5.97s/it]\r  9%|▉         | 15/167 [01:28<17:42,  6.99s/it]\r 10%|▉         | 16/167 [01:38<19:32,  7.77s/it]\r 10%|█         | 17/167 [01:48<20:57,  8.39s/it]\r 11%|█         | 18/167 [01:58<21:49,  8.79s/it]\r 11%|█▏        | 19/167 [02:07<22:22,  9.07s/it]\r 12%|█▏        | 20/167 [02:14<20:37,  8.42s/it]\r 13%|█▎        | 21/167 [02:18<17:09,  7.05s/it]\r 13%|█▎        | 22/167 [02:28<19:25,  8.04s/it]\r 14%|█▍        | 23/167 [02:39<20:56,  8.73s/it]\r 14%|█▍        | 24/167 [02:49<22:06,  9.28s/it]\r 15%|█▍        | 25/167 [02:59<22:27,  9.49s/it]\r 16%|█▌        | 26/167 [03:09<22:38,  9.63s/it]\r 16%|█▌        | 27/167 [03:17<20:51,  8.94s/it]\r 17%|█▋        | 28/167 [03:20<17:14,  7.44s/it]\r 17%|█▋        | 29/167 [03:31<19:20,  8.41s/it]\r 18%|█▊        | 30/167 [03:42<20:51,  9.13s/it]\r 19%|█▊        | 31/167 [03:53<21:47,  9.61s/it]\r 19%|█▉        | 32/167 [04:04<22:50, 10.15s/it]\r 20%|█▉        | 33/167 [04:15<23:22, 10.46s/it]\r 20%|██        | 34/167 [04:20<19:06,  8.62s/it]\r 21%|██        | 35/167 [04:31<20:46,  9.44s/it]\r 22%|██▏       | 36/167 [04:43<22:04, 10.11s/it]\r 22%|██▏       | 37/167 [04:50<20:24,  9.42s/it]\r 23%|██▎       | 38/167 [04:55<16:57,  7.89s/it]\r 23%|██▎       | 39/167 [05:06<19:09,  8.98s/it]\r 24%|██▍       | 40/167 [05:18<20:40,  9.77s/it]\r 25%|██▍       | 41/167 [05:30<21:46, 10.37s/it]\r 25%|██▌       | 42/167 [05:42<22:33, 10.83s/it]\r 26%|██▌       | 43/167 [05:54<23:17, 11.27s/it]\r 26%|██▋       | 44/167 [06:02<21:28, 10.48s/it]\r 27%|██▋       | 45/167 [06:07<17:50,  8.77s/it]\r 28%|██▊       | 46/167 [06:19<19:45,  9.79s/it]\r 28%|██▊       | 47/167 [06:32<21:14, 10.62s/it]\r 29%|██▊       | 48/167 [06:44<22:06, 11.15s/it]\r 29%|██▉       | 49/167 [06:57<22:37, 11.50s/it]\r 30%|██▉       | 50/167 [07:09<22:56, 11.77s/it]\r 31%|███       | 51/167 [07:18<20:51, 10.79s/it]\r 31%|███       | 52/167 [07:22<17:12,  8.98s/it]\r 32%|███▏      | 53/167 [07:35<19:01, 10.01s/it]\r 32%|███▏      | 54/167 [07:47<20:12, 10.73s/it]\r 33%|███▎      | 55/167 [08:00<20:56, 11.22s/it]\r 34%|███▎      | 56/167 [08:12<21:25, 11.58s/it]\r 34%|███▍      | 57/167 [08:21<19:53, 10.85s/it]\r 35%|███▍      | 58/167 [08:26<16:30,  9.09s/it]\r 35%|███▌      | 59/167 [08:39<18:12, 10.11s/it]\r 36%|███▌      | 60/167 [08:51<19:28, 10.92s/it]\r 37%|███▋      | 61/167 [09:04<20:06, 11.39s/it]\r 37%|███▋      | 62/167 [09:16<20:33, 11.74s/it]\r 38%|███▊      | 63/167 [09:29<20:43, 11.96s/it]\r 38%|███▊      | 64/167 [09:38<18:55, 11.02s/it]\r 39%|███▉      | 65/167 [09:43<15:38,  9.20s/it]\r 40%|███▉      | 66/167 [09:55<17:01, 10.12s/it]\r 40%|████      | 67/167 [10:08<18:15, 10.95s/it]\r 41%|████      | 68/167 [10:20<18:52, 11.44s/it]\r 41%|████▏     | 69/167 [10:33<19:07, 11.71s/it]\r 42%|████▏     | 70/167 [10:45<19:15, 11.92s/it]\r 43%|████▎     | 71/167 [10:54<17:41, 11.06s/it]\r 43%|████▎     | 72/167 [10:59<14:40,  9.27s/it]\r 44%|████▎     | 73/167 [11:11<15:52, 10.13s/it]\r 44%|████▍     | 74/167 [11:24<16:43, 10.79s/it]\r 45%|████▍     | 75/167 [11:36<17:24, 11.35s/it]\r 46%|████▌     | 76/167 [11:49<17:34, 11.59s/it]\r 46%|████▌     | 77/167 [12:01<17:39, 11.77s/it]\r 47%|████▋     | 78/167 [12:09<16:02, 10.81s/it]\r 47%|████▋     | 79/167 [12:14<13:19,  9.08s/it]\r 48%|████▊     | 80/167 [12:19<11:15,  7.77s/it]\r 49%|████▊     | 81/167 [12:29<11:54,  8.31s/it]\r 49%|████▉     | 82/167 [12:38<12:21,  8.73s/it]\r 50%|████▉     | 83/167 [12:43<10:29,  7.49s/it]\r 50%|█████     | 84/167 [12:47<08:59,  6.50s/it]\r 51%|█████     | 85/167 [12:53<08:36,  6.30s/it]\r 51%|█████▏    | 86/167 [12:58<07:50,  5.81s/it]\r 52%|█████▏    | 87/167 [13:10<10:18,  7.73s/it]\r 53%|█████▎    | 88/167 [13:23<12:13,  9.28s/it]\r 53%|█████▎    | 89/167 [13:36<13:27, 10.35s/it]\r 54%|█████▍    | 90/167 [13:48<14:05, 10.97s/it]\r 54%|█████▍    | 91/167 [14:01<14:28, 11.43s/it]\r 55%|█████▌    | 92/167 [14:10<13:22, 10.70s/it]\r 56%|█████▌    | 93/167 [14:15<11:09,  9.05s/it]\r 56%|█████▋    | 94/167 [14:27<12:16, 10.09s/it]\r 57%|█████▋    | 95/167 [14:40<12:57, 10.80s/it]\r 57%|█████▋    | 96/167 [14:53<13:29, 11.41s/it]\r 58%|█████▊    | 97/167 [15:04<13:28, 11.55s/it]\r 59%|█████▊    | 98/167 [15:17<13:29, 11.73s/it]\r 59%|█████▉    | 99/167 [15:25<12:15, 10.82s/it]\r 60%|█████▉    | 100/167 [15:31<10:14,  9.17s/it]\r 60%|██████    | 101/167 [15:43<11:05, 10.08s/it]\r 61%|██████    | 102/167 [15:56<11:50, 10.93s/it]\r 62%|██████▏   | 103/167 [16:08<12:12, 11.45s/it]\r 62%|██████▏   | 104/167 [16:20<12:11, 11.61s/it]\r 63%|██████▎   | 105/167 [16:32<12:00, 11.62s/it]\r 63%|██████▎   | 106/167 [16:41<10:59, 10.81s/it]\r 64%|██████▍   | 107/167 [16:47<09:15,  9.25s/it]\r 65%|██████▍   | 108/167 [16:59<09:55, 10.10s/it]\r 65%|██████▌   | 109/167 [17:11<10:21, 10.72s/it]\r 66%|██████▌   | 110/167 [17:23<10:38, 11.20s/it]\r 66%|██████▋   | 111/167 [17:35<10:44, 11.51s/it]\r 67%|██████▋   | 112/167 [17:47<10:43, 11.70s/it]\r 68%|██████▊   | 113/167 [17:56<09:46, 10.86s/it]\r 68%|██████▊   | 114/167 [18:02<08:05,  9.16s/it]\r 69%|██████▉   | 115/167 [18:13<08:34,  9.90s/it]\r 69%|██████▉   | 116/167 [18:25<09:00, 10.59s/it]\r 70%|███████   | 117/167 [18:31<07:32,  9.06s/it]\r 71%|███████   | 118/167 [18:43<08:10, 10.01s/it]\r 71%|███████▏  | 119/167 [18:55<08:32, 10.68s/it]\r 72%|███████▏  | 120/167 [19:04<07:58, 10.19s/it]\r 72%|███████▏  | 121/167 [19:10<06:41,  8.73s/it]\r 73%|███████▎  | 122/167 [19:22<07:21,  9.81s/it]\r 74%|███████▎  | 123/167 [19:35<07:49, 10.66s/it]\r 74%|███████▍  | 124/167 [19:47<07:58, 11.12s/it]\r 75%|███████▍  | 125/167 [19:59<08:04, 11.53s/it]\r 75%|███████▌  | 126/167 [20:12<08:05, 11.85s/it]\r 76%|███████▌  | 127/167 [20:17<06:36,  9.91s/it]\r 77%|███████▋  | 128/167 [20:23<05:31,  8.50s/it]\r 77%|███████▋  | 129/167 [20:35<06:11,  9.79s/it]\r 78%|███████▊  | 130/167 [20:48<06:35, 10.68s/it]\r 78%|███████▊  | 131/167 [21:01<06:49, 11.38s/it]\r 79%|███████▉  | 132/167 [21:14<06:52, 11.77s/it]\r 80%|███████▉  | 133/167 [21:23<06:16, 11.08s/it]\r 80%|████████  | 134/167 [21:29<05:11,  9.44s/it]\r 81%|████████  | 135/167 [21:42<05:32, 10.39s/it]\r 81%|████████▏ | 136/167 [21:54<05:43, 11.07s/it]\r 82%|████████▏ | 137/167 [22:07<05:44, 11.47s/it]\r 83%|████████▎ | 138/167 [22:19<05:40, 11.75s/it]\r 83%|████████▎ | 139/167 [22:28<05:06, 10.95s/it]\r 84%|████████▍ | 140/167 [22:34<04:12,  9.37s/it]\r 84%|████████▍ | 141/167 [22:46<04:27, 10.27s/it]\r 85%|████████▌ | 142/167 [22:58<04:31, 10.86s/it]\r 86%|████████▌ | 143/167 [23:11<04:32, 11.34s/it]\r 86%|████████▌ | 144/167 [23:24<04:30, 11.75s/it]\r 87%|████████▋ | 145/167 [23:36<04:22, 11.92s/it]\r 87%|████████▋ | 146/167 [23:45<03:53, 11.12s/it]\r 88%|████████▊ | 147/167 [23:51<03:09,  9.48s/it]\r 89%|████████▊ | 148/167 [23:56<02:36,  8.21s/it]\r 89%|████████▉ | 149/167 [24:09<02:51,  9.52s/it]\r 90%|████████▉ | 150/167 [24:21<02:58, 10.50s/it]\r 90%|█████████ | 151/167 [24:34<02:57, 11.10s/it]\r 91%|█████████ | 152/167 [24:46<02:52, 11.51s/it]\r 92%|█████████▏| 153/167 [24:55<02:31, 10.81s/it]\r 92%|█████████▏| 154/167 [25:01<02:00,  9.26s/it]\r 93%|█████████▎| 155/167 [25:06<01:36,  8.05s/it]\r 93%|█████████▎| 156/167 [25:19<01:43,  9.37s/it]\r 94%|█████████▍| 157/167 [25:31<01:42, 10.30s/it]\r 95%|█████████▍| 158/167 [25:43<01:36, 10.77s/it]\r 95%|█████████▌| 159/167 [25:56<01:30, 11.36s/it]\r 96%|█████████▌| 160/167 [26:05<01:15, 10.84s/it]\r 96%|█████████▋| 161/167 [26:11<00:56,  9.35s/it]\r 97%|█████████▋| 162/167 [26:23<00:49,  9.99s/it]\r 98%|█████████▊| 163/167 [26:35<00:42, 10.68s/it]\r 98%|█████████▊| 164/167 [26:47<00:33, 11.16s/it]\r 99%|█████████▉| 165/167 [26:59<00:22, 11.39s/it]\r 99%|█████████▉| 166/167 [27:12<00:11, 11.62s/it]\r100%|██████████| 167/167 [27:21<00:00, 10.85s/it]\r100%|██████████| 167/167 [27:21<00:00,  9.83s/it]\n"
     ]
    },
    {
     "output_type": "stream",
     "name": "stdout",
     "output_type": "stream",
     "text": [
      "In  ValidacionTroncal/ : 629693 unique subsidy cards\nIn  ValidacionTroncal/ : ['(006) Apoyo Ciudadano' '(002) Adulto Mayor'\n '(009) Apoyo Ciudadano Reexpedición']\n"
     ]
    },
    {
     "output_type": "stream",
     "name": "stderr",
     "output_type": "stream",
     "text": [
      "\r  0%|          | 0/167 [00:00<?, ?it/s]\r  1%|          | 1/167 [00:02<06:30,  2.35s/it]\r  1%|          | 2/167 [00:08<13:21,  4.86s/it]\r  2%|▏         | 3/167 [00:17<17:22,  6.35s/it]\r  2%|▏         | 4/167 [00:25<19:21,  7.12s/it]\r  3%|▎         | 5/167 [00:33<20:31,  7.60s/it]\r  4%|▎         | 6/167 [00:40<19:26,  7.25s/it]\r  4%|▍         | 7/167 [00:45<17:06,  6.41s/it]\r  5%|▍         | 8/167 [00:49<15:25,  5.82s/it]\r  5%|▌         | 9/167 [00:59<18:48,  7.14s/it]\r  6%|▌         | 10/167 [01:10<21:17,  8.14s/it]\r  7%|▋         | 11/167 [01:20<23:08,  8.90s/it]\r  7%|▋         | 12/167 [01:31<24:27,  9.47s/it]\r  8%|▊         | 13/167 [01:39<23:25,  9.13s/it]\r  8%|▊         | 14/167 [01:45<20:31,  8.05s/it]\r  9%|▉         | 15/167 [01:56<22:55,  9.05s/it]\r 10%|▉         | 16/167 [02:08<24:40,  9.80s/it]\r 10%|█         | 17/167 [02:20<25:59, 10.40s/it]\r 11%|█         | 18/167 [02:31<26:51, 10.82s/it]\r 11%|█▏        | 19/167 [02:43<27:28, 11.14s/it]\r 12%|█▏        | 20/167 [02:52<25:44, 10.51s/it]\r 13%|█▎        | 21/167 [02:58<22:06,  9.09s/it]\r 13%|█▎        | 22/167 [03:10<24:17, 10.05s/it]\r 14%|█▍        | 23/167 [03:23<25:41, 10.70s/it]\r 14%|█▍        | 24/167 [03:35<26:38, 11.18s/it]\r 15%|█▍        | 25/167 [03:47<27:03, 11.43s/it]\r 16%|█▌        | 26/167 [03:59<27:32, 11.72s/it]\r 16%|█▌        | 27/167 [04:09<25:41, 11.01s/it]\r 17%|█▋        | 28/167 [04:14<21:54,  9.45s/it]\r 17%|█▋        | 29/167 [04:27<23:46, 10.33s/it]\r 18%|█▊        | 30/167 [04:40<25:11, 11.03s/it]\r 19%|█▊        | 31/167 [04:52<26:15, 11.59s/it]\r 19%|█▉        | 32/167 [05:08<28:33, 12.69s/it]\r 20%|█▉        | 33/167 [05:21<28:57, 12.97s/it]\r 20%|██        | 34/167 [05:28<24:15, 10.94s/it]\r 21%|██        | 35/167 [05:41<25:29, 11.59s/it]\r 22%|██▏       | 36/167 [05:54<26:37, 12.19s/it]\r 22%|██▏       | 37/167 [06:04<25:00, 11.55s/it]\r 23%|██▎       | 38/167 [06:10<21:19,  9.92s/it]\r 23%|██▎       | 39/167 [06:23<23:12, 10.88s/it]\r 24%|██▍       | 40/167 [06:37<24:51, 11.74s/it]\r 25%|██▍       | 41/167 [06:51<25:56, 12.36s/it]\r 25%|██▌       | 42/167 [07:03<25:15, 12.12s/it]\r 26%|██▌       | 43/167 [07:16<25:53, 12.53s/it]\r 26%|██▋       | 44/167 [07:26<23:51, 11.64s/it]\r 27%|██▋       | 45/167 [07:32<20:32, 10.11s/it]\r 28%|██▊       | 46/167 [07:46<22:28, 11.14s/it]\r 28%|██▊       | 47/167 [07:59<23:51, 11.93s/it]\r 29%|██▊       | 48/167 [08:13<24:45, 12.48s/it]\r 29%|██▉       | 49/167 [08:27<25:21, 12.89s/it]\r 30%|██▉       | 50/167 [08:41<25:27, 13.06s/it]\r 31%|███       | 51/167 [08:51<23:40, 12.25s/it]\r 31%|███       | 52/167 [08:57<20:13, 10.55s/it]\r 32%|███▏      | 53/167 [09:11<21:48, 11.48s/it]\r 32%|███▏      | 54/167 [09:25<22:54, 12.16s/it]\r 33%|███▎      | 55/167 [09:38<23:17, 12.48s/it]\r 34%|███▎      | 56/167 [09:52<23:58, 12.96s/it]\r 34%|███▍      | 57/167 [10:00<20:40, 11.28s/it]\r 35%|███▍      | 58/167 [10:06<17:55,  9.86s/it]\r 35%|███▌      | 59/167 [10:20<19:56, 11.08s/it]\r 36%|███▌      | 60/167 [10:34<21:05, 11.83s/it]\r 37%|███▋      | 61/167 [10:48<22:11, 12.56s/it]\r 37%|███▋      | 62/167 [11:02<22:53, 13.08s/it]\r 38%|███▊      | 63/167 [11:17<23:19, 13.46s/it]\r 38%|███▊      | 64/167 [11:27<21:34, 12.57s/it]\r 39%|███▉      | 65/167 [11:34<18:22, 10.81s/it]\r 40%|███▉      | 66/167 [11:47<19:39, 11.67s/it]\r 40%|████      | 67/167 [12:02<20:58, 12.59s/it]\r 41%|████      | 68/167 [12:17<21:43, 13.17s/it]\r 41%|████▏     | 69/167 [12:31<22:00, 13.47s/it]\r 42%|████▏     | 70/167 [12:45<22:03, 13.64s/it]\r 43%|████▎     | 71/167 [12:55<20:14, 12.65s/it]\r 43%|████▎     | 72/167 [13:02<17:18, 10.93s/it]\r 44%|████▎     | 73/167 [13:16<18:37, 11.89s/it]\r 44%|████▍     | 74/167 [13:30<19:25, 12.53s/it]\r 45%|████▍     | 75/167 [13:44<19:51, 12.95s/it]\r 46%|████▌     | 76/167 [13:58<20:14, 13.34s/it]\r 46%|████▌     | 77/167 [14:12<20:10, 13.45s/it]\r 47%|████▋     | 78/167 [14:22<18:30, 12.48s/it]\r 47%|████▋     | 79/167 [14:29<15:39, 10.67s/it]\r 48%|████▊     | 80/167 [14:35<13:35,  9.37s/it]\r 49%|████▊     | 81/167 [14:47<14:20, 10.00s/it]\r 49%|████▉     | 82/167 [14:58<14:47, 10.44s/it]\r 50%|████▉     | 83/167 [15:04<12:46,  9.12s/it]\r 50%|█████     | 84/167 [15:09<11:01,  7.97s/it]\r 51%|█████     | 85/167 [15:17<10:40,  7.81s/it]\r 51%|█████▏    | 86/167 [15:23<09:57,  7.38s/it]\r 52%|█████▏    | 87/167 [15:37<12:23,  9.29s/it]\r 53%|█████▎    | 88/167 [15:51<14:17, 10.86s/it]\r 53%|█████▎    | 89/167 [16:06<15:34, 11.98s/it]\r 54%|█████▍    | 90/167 [16:20<16:12, 12.63s/it]\r 54%|█████▍    | 91/167 [16:35<16:37, 13.13s/it]\r 55%|█████▌    | 92/167 [16:45<15:21, 12.29s/it]\r 56%|█████▌    | 93/167 [16:52<13:10, 10.69s/it]\r 56%|█████▋    | 94/167 [17:06<14:17, 11.75s/it]\r 57%|█████▋    | 95/167 [17:20<14:54, 12.43s/it]\r 57%|█████▋    | 96/167 [17:34<15:16, 12.91s/it]\r 58%|█████▊    | 97/167 [17:48<15:29, 13.27s/it]\r 59%|█████▊    | 98/167 [18:03<15:37, 13.58s/it]\r 59%|█████▉    | 99/167 [18:13<14:21, 12.67s/it]\r 60%|█████▉    | 100/167 [18:20<12:13, 10.94s/it]\r 60%|██████    | 101/167 [18:34<13:01, 11.84s/it]\r 61%|██████    | 102/167 [18:48<13:37, 12.57s/it]\r 62%|██████▏   | 103/167 [19:02<13:56, 13.08s/it]\r 62%|██████▏   | 104/167 [19:16<13:56, 13.28s/it]\r 63%|██████▎   | 105/167 [19:30<13:44, 13.30s/it]\r 63%|██████▎   | 106/167 [19:40<12:37, 12.43s/it]\r 64%|██████▍   | 107/167 [19:47<10:48, 10.81s/it]\r 65%|██████▍   | 108/167 [20:01<11:32, 11.74s/it]\r 65%|██████▌   | 109/167 [20:15<12:07, 12.54s/it]\r 66%|██████▌   | 110/167 [20:29<12:21, 13.01s/it]\r 66%|██████▋   | 111/167 [20:43<12:27, 13.34s/it]\r 67%|██████▋   | 112/167 [20:57<12:24, 13.54s/it]\r 68%|██████▊   | 113/167 [21:08<11:20, 12.60s/it]\r 68%|██████▊   | 114/167 [21:15<09:38, 10.92s/it]\r 69%|██████▉   | 115/167 [21:28<10:08, 11.71s/it]\r 69%|██████▉   | 116/167 [21:43<10:37, 12.49s/it]\r 70%|███████   | 117/167 [21:50<09:07, 10.95s/it]\r 71%|███████   | 118/167 [22:04<09:46, 11.97s/it]\r 71%|███████▏  | 119/167 [22:19<10:13, 12.78s/it]\r 72%|███████▏  | 120/167 [22:30<09:32, 12.19s/it]\r 72%|███████▏  | 121/167 [22:37<08:11, 10.68s/it]\r 73%|███████▎  | 122/167 [22:51<08:46, 11.71s/it]\r 74%|███████▎  | 123/167 [23:06<09:10, 12.50s/it]\r 74%|███████▍  | 124/167 [23:20<09:22, 13.07s/it]\r 75%|███████▍  | 125/167 [23:34<09:26, 13.49s/it]\r 75%|███████▌  | 126/167 [23:49<09:24, 13.78s/it]\r 76%|███████▌  | 127/167 [23:56<07:47, 11.68s/it]\r 77%|███████▋  | 128/167 [24:03<06:39, 10.25s/it]\r 77%|███████▋  | 129/167 [24:17<07:14, 11.42s/it]\r 78%|███████▊  | 130/167 [24:31<07:36, 12.35s/it]\r 78%|███████▊  | 131/167 [24:46<07:45, 12.93s/it]\r 79%|███████▉  | 132/167 [25:00<07:45, 13.31s/it]\r 80%|███████▉  | 133/167 [25:10<07:04, 12.49s/it]\r 80%|████████  | 134/167 [25:17<05:59, 10.89s/it]\r 81%|████████  | 135/167 [25:32<06:23, 11.98s/it]\r 81%|████████▏ | 136/167 [25:46<06:33, 12.70s/it]\r 82%|████████▏ | 137/167 [26:00<06:33, 13.11s/it]\r 83%|████████▎ | 138/167 [26:15<06:28, 13.40s/it]\r 83%|████████▎ | 139/167 [26:25<05:53, 12.63s/it]\r 84%|████████▍ | 140/167 [26:32<04:56, 10.97s/it]\r 84%|████████▍ | 141/167 [26:46<05:08, 11.88s/it]\r 85%|████████▌ | 142/167 [27:01<05:14, 12.58s/it]\r 86%|████████▌ | 143/167 [27:15<05:11, 12.97s/it]\r 86%|████████▌ | 144/167 [27:29<05:08, 13.39s/it]\r 87%|████████▋ | 145/167 [27:43<05:00, 13.65s/it]\r 87%|████████▋ | 146/167 [27:54<04:28, 12.79s/it]\r 88%|████████▊ | 147/167 [28:01<03:43, 11.16s/it]\r 89%|████████▊ | 148/167 [28:08<03:07,  9.88s/it]\r 89%|████████▉ | 149/167 [28:22<03:21, 11.17s/it]\r 90%|████████▉ | 150/167 [28:37<03:26, 12.15s/it]\r 90%|█████████ | 151/167 [28:51<03:26, 12.90s/it]\r 91%|█████████ | 152/167 [29:06<03:19, 13.29s/it]\r 92%|█████████▏| 153/167 [29:16<02:54, 12.44s/it]\r 92%|█████████▏| 154/167 [29:23<02:20, 10.80s/it]\r 93%|█████████▎| 155/167 [29:30<01:55,  9.60s/it]\r 93%|█████████▎| 156/167 [29:44<02:00, 10.97s/it]\r 94%|█████████▍| 157/167 [29:58<01:58, 11.84s/it]\r 95%|█████████▍| 158/167 [30:12<01:52, 12.47s/it]\r 95%|█████████▌| 159/167 [30:26<01:44, 13.02s/it]\r 96%|█████████▌| 160/167 [30:37<01:27, 12.46s/it]\r 96%|█████████▋| 161/167 [30:45<01:05, 11.00s/it]\r 97%|█████████▋| 162/167 [30:58<00:58, 11.74s/it]\r 98%|█████████▊| 163/167 [31:12<00:49, 12.35s/it]\r 98%|█████████▊| 164/167 [31:26<00:38, 12.73s/it]\r 99%|█████████▉| 165/167 [31:39<00:26, 13.02s/it]\r 99%|█████████▉| 166/167 [31:53<00:13, 13.19s/it]\r100%|██████████| 167/167 [32:04<00:00, 12.37s/it]\r100%|██████████| 167/167 [32:04<00:00, 11.52s/it]\n"
     ]
    },
    {
     "output_type": "stream",
     "name": "stdout",
     "output_type": "stream",
     "text": [
      "In  ValidacionZonal/ : 634719 unique subsidy cards\nIn  ValidacionZonal/ : ['(002) Adulto Mayor' '(006) Apoyo Ciudadano'\n '(009) Apoyo Ciudadano Reexpedición']\n"
     ]
    }
   ],
   "source": [
    "\n",
    "# Save all cards paying 2250 or 2500 COP\n",
    "\n",
    "for d in ['ValidacionDual/', 'ValidacionTroncal/', 'ValidacionZonal/']:\n",
    "    subsidy_cards = pd.DataFrame()\n",
    "    folder = path +  '/Workspace/Raw/since2020/' + d\n",
    "    files = [f.name for f in dbutils.fs.ls(folder) ]\n",
    "\n",
    "    files2024 = [f for f in files if '2024' in f[-12:-8]]\n",
    "\n",
    "    for f in tqdm(files2024):\n",
    "        df = pd.read_csv(\"/dbfs/\"+ folder + f)\n",
    "        scards = df.loc[df.Valor.isin([2250, 2500]), [\"Numero_Tarjeta\", \"Valor\", \"Nombre_Perfil\"]].reset_index(drop = True)\n",
    "        scards[\"n\"] = 1\n",
    "        subsidy_cards = pd.concat([subsidy_cards, scards], axis = 0)\n",
    "        subsidy_cards = subsidy_cards.groupby([\"Numero_Tarjeta\", \"Valor\", \"Nombre_Perfil\"], as_index = False).agg({\"n\": \"sum\"})\n",
    "       \n",
    "    print(\"In \", d, \":\", subsidy_cards.Numero_Tarjeta.nunique(), \"unique subsidy cards\")\n",
    "    print(\"In \", d, \":\", subsidy_cards.Nombre_Perfil.unique())\n",
    "    subsidy_cards.to_csv(\"/dbfs/\" + path + '/Workspace/Construct/'+d+'subsidy_cards-values-count_Jun24.csv', index = False )\n"
   ]
  },
  {
   "cell_type": "code",
   "execution_count": 0,
   "metadata": {
    "application/vnd.databricks.v1+cell": {
     "cellMetadata": {
      "byteLimit": 2048000,
      "rowLimit": 10000
     },
     "inputWidgets": {},
     "nuid": "32f6f65a-ef95-4db9-8f57-9f59af8c9cdd",
     "showTitle": false,
     "title": ""
    }
   },
   "outputs": [],
   "source": [
    "# Save Apoyo subsidy cards\n",
    "apoyo_subsidy_cards = pd.DataFrame()\n",
    "for d in ['ValidacionDual/', 'ValidacionTroncal/', 'ValidacionZonal/']:\n",
    "    df = pd.read_csv(\"/dbfs/\" + path + '/Workspace/Construct/'+d+'subsidy_cards-values-count_Jun24.csv')\n",
    "    apoyo_subsidy_cards = pd.concat([apoyo_subsidy_cards, df])\n",
    "apoyo_subsidy_cards = apoyo_subsidy_cards.groupby([\"Numero_Tarjeta\", \"Valor\", \"Nombre_Perfil\"], as_index = False).agg({\"n\": \"sum\"})\n",
    "apoyo_subsidy_cards = apoyo_subsidy_cards[apoyo_subsidy_cards.Nombre_Perfil.isin(['(006) Apoyo Ciudadano', '(009) Apoyo Ciudadano Reexpedición'])].reset_index(drop = True)"
   ]
  },
  {
   "cell_type": "code",
   "execution_count": 0,
   "metadata": {
    "application/vnd.databricks.v1+cell": {
     "cellMetadata": {
      "byteLimit": 2048000,
      "rowLimit": 10000
     },
     "inputWidgets": {},
     "nuid": "2a7819ab-240e-4107-b500-a3414680aca1",
     "showTitle": false,
     "title": ""
    }
   },
   "outputs": [],
   "source": [
    "apoyo_subsidy_cards = apoyo_subsidy_cards.groupby([\"Numero_Tarjeta\"], as_index = False).agg({\"n\": \"sum\"})"
   ]
  }
 ],
 "metadata": {
  "application/vnd.databricks.v1+notebook": {
   "dashboards": [],
   "environmentMetadata": null,
   "language": "python",
   "notebookMetadata": {
    "pythonIndentUnit": 4
   },
   "notebookName": "data-analyze-ScenariosSDM",
   "widgets": {}
  }
 },
 "nbformat": 4,
 "nbformat_minor": 0
}
