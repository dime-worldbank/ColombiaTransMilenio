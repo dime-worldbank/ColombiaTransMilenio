{
 "cells": [
  {
   "cell_type": "markdown",
   "metadata": {
    "application/vnd.databricks.v1+cell": {
     "cellMetadata": {},
     "inputWidgets": {},
     "nuid": "010889ed-e3f7-47eb-97f6-e2fff3c07b2a",
     "showTitle": false,
     "title": ""
    }
   },
   "source": [
    "# Reorganize data"
   ]
  },
  {
   "cell_type": "code",
   "execution_count": 0,
   "metadata": {
    "application/vnd.databricks.v1+cell": {
     "cellMetadata": {
      "byteLimit": 2048000,
      "rowLimit": 10000
     },
     "inputWidgets": {},
     "nuid": "b40b8802-8424-4b0f-90e9-0848abcfdd2e",
     "showTitle": false,
     "title": ""
    }
   },
   "outputs": [],
   "source": [
    "# Modules\n",
    "import os\n",
    "from pathlib import Path\n",
    "from shutil import rmtree\n",
    "import pandas as pd\n",
    "\n",
    "!pip install tqdm\n",
    "from tqdm import tqdm\n",
    "\n",
    "!pip install pyunpack\n",
    "!pip install patool\n",
    "from pyunpack import Archive\n",
    "\n"
   ]
  },
  {
   "cell_type": "code",
   "execution_count": 0,
   "metadata": {
    "application/vnd.databricks.v1+cell": {
     "cellMetadata": {
      "byteLimit": 2048000,
      "rowLimit": 10000
     },
     "inputWidgets": {},
     "nuid": "00423a9d-b728-4d14-8183-d0d5544b9db5",
     "showTitle": false,
     "title": ""
    }
   },
   "outputs": [],
   "source": [
    "# Directories\n",
    "path = '/mnt/DAP/data/ColombiaProject-TransMilenioRawData/'"
   ]
  },
  {
   "cell_type": "code",
   "execution_count": 0,
   "metadata": {
    "application/vnd.databricks.v1+cell": {
     "cellMetadata": {
      "byteLimit": 2048000,
      "rowLimit": 10000
     },
     "inputWidgets": {},
     "nuid": "675343d3-f3a7-4d68-868a-2963122b34b4",
     "showTitle": false,
     "title": ""
    }
   },
   "outputs": [],
   "source": [
    "# Check if the given file path already exists on DBFS\n",
    "def dbfs_file_exists(path):\n",
    "  try:\n",
    "    dbutils.fs.ls(path)\n",
    "    return True\n",
    "  except Exception as e:\n",
    "    if 'java.io.FileNotFoundException' in str(e):\n",
    "      return False\n",
    "    else:\n",
    "      raise"
   ]
  },
  {
   "cell_type": "code",
   "execution_count": 0,
   "metadata": {
    "application/vnd.databricks.v1+cell": {
     "cellMetadata": {},
     "inputWidgets": {},
     "nuid": "0a038b34-65fa-47ce-b39b-da03cfa20824",
     "showTitle": false,
     "title": ""
    }
   },
   "outputs": [],
   "source": [
    "# Trying to export from DBFS to local machine\n",
    "#dbutils.fs.put(\"/FileStore/my-stuff/my-file.txt\", \"This is the actual text that will be saved to disk. Like a 'Hello world!' example\")"
   ]
  },
  {
   "cell_type": "markdown",
   "metadata": {
    "application/vnd.databricks.v1+cell": {
     "cellMetadata": {},
     "inputWidgets": {},
     "nuid": "83c2d94e-dfbb-444a-801b-310ff46b2620",
     "showTitle": false,
     "title": ""
    }
   },
   "source": [
    "## 1. Create Workspace\n",
    "All files will be transferred there from:\n",
    "- Ingestion point for files we had on OneDrive: /mnt/DAP/data/ColombiaProject-TransMilenioRawData/Documents\n",
    "- Download point for files fetched from TM Google API: /mnt/DAP/data/ColombiaProject-TransMilenioRawData/Data"
   ]
  },
  {
   "cell_type": "code",
   "execution_count": 0,
   "metadata": {
    "application/vnd.databricks.v1+cell": {
     "cellMetadata": {
      "byteLimit": 2048000,
      "rowLimit": 10000
     },
     "inputWidgets": {},
     "nuid": "b31f48c2-6518-4e4c-a808-2c6a9ed7a796",
     "showTitle": false,
     "title": ""
    }
   },
   "outputs": [],
   "source": [
    "#  Create Workspace directory if it does not exist\n",
    "dbutils.fs.mkdirs(path + '/Workspace/')\n",
    "dbutils.fs.mkdirs(path + '/Workspace/Raw/')\n",
    "dbutils.fs.mkdirs(path + '/Workspace/Clean/')\n",
    "dbutils.fs.mkdirs(path + '/Workspace/variable_dicts/')"
   ]
  },
  {
   "cell_type": "code",
   "execution_count": 0,
   "metadata": {
    "application/vnd.databricks.v1+cell": {
     "cellMetadata": {
      "byteLimit": 2048000,
      "rowLimit": 10000
     },
     "inputWidgets": {},
     "nuid": "e1c9ae15-ced5-4770-af44-da028cad800b",
     "showTitle": false,
     "title": ""
    }
   },
   "outputs": [],
   "source": [
    "dbutils.fs.ls(path + '/Workspace/')"
   ]
  },
  {
   "cell_type": "code",
   "execution_count": 0,
   "metadata": {
    "application/vnd.databricks.v1+cell": {
     "cellMetadata": {
      "byteLimit": 2048000,
      "rowLimit": 10000
     },
     "inputWidgets": {},
     "nuid": "a08131c7-e18b-4067-9ca6-9e1b4904da39",
     "showTitle": false,
     "title": ""
    }
   },
   "outputs": [],
   "source": [
    "dbutils.fs.ls(path + '/Workspace/Clean/')"
   ]
  },
  {
   "cell_type": "markdown",
   "metadata": {
    "application/vnd.databricks.v1+cell": {
     "cellMetadata": {},
     "inputWidgets": {},
     "nuid": "c7233472-bdff-4d57-a508-5a045dce04ab",
     "showTitle": false,
     "title": ""
    }
   },
   "source": [
    "`/Workspace/Raw/` \n",
    "Is a unique folder for storing all raw data. It still has different file structures:\n",
    "\n",
    "- `/since2020`: data since 2020 is organized in ValidacionTroncal, ValidacionZonal, ValidacionDual, Salidas, Recargas folders. \n",
    "\n",
    "  - Recargas\n",
    "  - Salidas\n",
    "  - ValidacionDual\n",
    "  - ValidacionTroncal\n",
    "  - ValidacionZonal\n",
    "\n",
    "\n",
    "- `/2017`\n",
    "  [TO REORGANIZE]\n",
    "\n",
    "- `/byheader_dir`: raw validaciones files organized in folders by header\n",
    "\n",
    "`/Workspace/variable_dicts/` "
   ]
  },
  {
   "cell_type": "markdown",
   "metadata": {
    "application/vnd.databricks.v1+cell": {
     "cellMetadata": {},
     "inputWidgets": {},
     "nuid": "c2d8c6e2-20ad-41b7-8d22-272903af1fe8",
     "showTitle": false,
     "title": ""
    }
   },
   "source": [
    "## 2. Moving 2017 data [TO REORGANIZE]\n",
    "\n",
    "All of these data come from the Ingestion point."
   ]
  },
  {
   "cell_type": "code",
   "execution_count": 0,
   "metadata": {
    "application/vnd.databricks.v1+cell": {
     "cellMetadata": {
      "byteLimit": 2048000,
      "rowLimit": 10000
     },
     "inputWidgets": {},
     "nuid": "ededef20-9c0b-4b66-8ea8-3f77c2837d3d",
     "showTitle": false,
     "title": ""
    }
   },
   "outputs": [],
   "source": [
    "ingestion2017_dir = path +'/Documents/2017data'\n",
    "raw2017_dir = path + '/Workspace/Raw/2017'\n",
    "\n",
    "dbutils.fs.mkdirs(raw2017_dir)\n",
    "files = dbutils.fs.ls(ingestion2017_dir)\n",
    "[f.name for f in files]"
   ]
  },
  {
   "cell_type": "markdown",
   "metadata": {
    "application/vnd.databricks.v1+cell": {
     "cellMetadata": {},
     "inputWidgets": {},
     "nuid": "94cacda7-87be-41b0-a8d5-280e1636524e",
     "showTitle": false,
     "title": ""
    }
   },
   "source": [
    "**Moving individual files from Oct, Nov, and Dec 2017 to Raw/2017 folder:**\n",
    "- Troncal Dec:  extracted from 7z with patool from .7z file\n",
    "- Troncal and Zonal Oct, Zonal Dec: moved from decompressed individual folders\n",
    "- Troncal and Zonal Nov: extract from decompressed folder, but using patool\n",
    "  - _Note: valzonal_27nov2017_MCKENNEDY.gz is corrupted and cannot be extracted_ "
   ]
  },
  {
   "cell_type": "code",
   "execution_count": 0,
   "metadata": {
    "application/vnd.databricks.v1+cell": {
     "cellMetadata": {},
     "inputWidgets": {},
     "nuid": "4addd82c-d607-419f-8555-d391b05a33ce",
     "showTitle": false,
     "title": ""
    }
   },
   "outputs": [],
   "source": [
    "# Troncal December files can be extracted with patool\n",
    "f = 'ValTroncal Dic2017.7z'\n",
    "Archive( \"/dbfs\" + ingestion2017_dir  + \"/\" + f).extractall(\"/dbfs\" + raw2017_dir )"
   ]
  },
  {
   "cell_type": "code",
   "execution_count": 0,
   "metadata": {
    "application/vnd.databricks.v1+cell": {
     "cellMetadata": {},
     "inputWidgets": {},
     "nuid": "c620ae5f-de5f-450c-99bf-e3ec33aa4fe2",
     "showTitle": false,
     "title": ""
    }
   },
   "outputs": [],
   "source": [
    "# Take the others from the decompressed folder\n",
    "decompressed =  [f.name for f in dbutils.fs.ls(ingestion2017_dir + \"/decompressed\") ]\n",
    "print(decompressed)\n",
    "\n",
    "for folder in decompressed:\n",
    "    print(\"---------------\")\n",
    "    print( folder, \":\")\n",
    "    print([f.name for f in dbutils.fs.ls(ingestion2017_dir + \"/decompressed/\" + folder) ])"
   ]
  },
  {
   "cell_type": "code",
   "execution_count": 0,
   "metadata": {
    "application/vnd.databricks.v1+cell": {
     "cellMetadata": {},
     "inputWidgets": {},
     "nuid": "79c80f1b-09c7-4a88-8b40-ff7ba8d5ddb7",
     "showTitle": false,
     "title": ""
    }
   },
   "outputs": [],
   "source": [
    "# All but november's can be directly moved\n",
    "for folder in ['ValTroncal Oct2017/', 'ValZonal Dic2017/', 'ValZonal Oct2017/']:\n",
    "    files = [f.name for f in dbutils.fs.ls(ingestion2017_dir + \"/decompressed/\" + folder) ]\n",
    "    for f in tqdm(files):\n",
    "        dbutils.fs.cp(ingestion2017_dir + \"/decompressed/\" + folder + f, raw2017_dir)"
   ]
  },
  {
   "cell_type": "code",
   "execution_count": 0,
   "metadata": {
    "application/vnd.databricks.v1+cell": {
     "cellMetadata": {},
     "inputWidgets": {},
     "nuid": "5769e0bc-0ef5-4953-91e7-c0b7fc887074",
     "showTitle": false,
     "title": ""
    }
   },
   "outputs": [],
   "source": [
    "for folder in ['ValTroncal Nov2017/', 'ValZonal Nov2017/']:\n",
    "    d = \"/dbfs\" + ingestion2017_dir + \"/decompressed/\" + folder\n",
    "    subfolders = [d + f for f in os.listdir(d) ]\n",
    "    for fd in tqdm(subfolders):\n",
    "        files = os.listdir(fd)\n",
    "        for f in files:\n",
    "            if f == 'valzonal_27nov2017_MCKENNEDY.gz': # the file is corrupted and cannot be extracted\n",
    "                pass\n",
    "            else:\n",
    "                Archive( fd + \"/\" + f ).extractall(\"/dbfs\" + raw2017_dir )\n",
    "    "
   ]
  },
  {
   "cell_type": "code",
   "execution_count": 0,
   "metadata": {
    "application/vnd.databricks.v1+cell": {
     "cellMetadata": {},
     "inputWidgets": {},
     "nuid": "1bd6a6e1-8c19-4def-b17c-2d7b8d969bc7",
     "showTitle": false,
     "title": ""
    }
   },
   "outputs": [],
   "source": [
    "f = \"/dbfs\" + ingestion2017_dir + \"/decompressed/ValZonal Nov2017/16. valzonal_16nov2017/valzonal_16nov2017_ETIB.gz\"\n",
    "Archive( f ).extractall(\"/dbfs\" + raw2017_dir )\n",
    "df = pd.read_csv('/dbfs/mnt/DAP/data/ColombiaProject-TransMilenioRawData/Workspace/Raw/2017/valzonal_16nov2017_ETIB')"
   ]
  },
  {
   "cell_type": "markdown",
   "metadata": {
    "application/vnd.databricks.v1+cell": {
     "cellMetadata": {},
     "inputWidgets": {},
     "nuid": "5d4759fc-5499-44a3-a85a-2dd902d43746",
     "showTitle": false,
     "title": ""
    }
   },
   "source": [
    "## 3. Moving data since 2020\n",
    "To `Workspace/raw/since2020`, from both the Ingestion point (Documents folder) and the Download Point (Data folder). The folder will follow the same structure that the Data folder."
   ]
  },
  {
   "cell_type": "code",
   "execution_count": 0,
   "metadata": {
    "application/vnd.databricks.v1+cell": {
     "cellMetadata": {},
     "inputWidgets": {},
     "nuid": "b9ae558d-182f-4f41-a3fd-83b0e81c3dbd",
     "showTitle": false,
     "title": ""
    }
   },
   "outputs": [],
   "source": [
    "raw2020_dir = path + '/Workspace/Raw/since2020/'\n",
    "dbutils.fs.mkdirs(raw2020_dir)\n",
    "\n",
    "for d in ['Recargas/', 'Salidas/', 'ValidacionDual/', 'ValidacionTroncal/', 'ValidacionZonal/']:\n",
    "    dbutils.fs.mkdirs(raw2020_dir + d)\n",
    "\n",
    "os.listdir('/dbfs/mnt/DAP/data/ColombiaProject-TransMilenioRawData/Workspace/Raw/since2020/ValidacionZonal')"
   ]
  },
  {
   "cell_type": "markdown",
   "metadata": {
    "application/vnd.databricks.v1+cell": {
     "cellMetadata": {
      "byteLimit": 2048000,
      "rowLimit": 10000
     },
     "inputWidgets": {},
     "nuid": "e6bec434-fa94-4c5e-8ad0-2b088b715c65",
     "showTitle": false,
     "title": ""
    }
   },
   "source": [
    "### Ingestion point (Documents folder)"
   ]
  },
  {
   "cell_type": "code",
   "execution_count": 0,
   "metadata": {
    "application/vnd.databricks.v1+cell": {
     "cellMetadata": {
      "byteLimit": 2048000,
      "rowLimit": 10000
     },
     "inputWidgets": {},
     "nuid": "90ca340c-9c27-4398-9067-102e40a31791",
     "showTitle": false,
     "title": ""
    }
   },
   "outputs": [],
   "source": [
    "os.listdir('/dbfs' + path + '/Documents/')\n"
   ]
  },
  {
   "cell_type": "code",
   "execution_count": 0,
   "metadata": {
    "application/vnd.databricks.v1+cell": {
     "cellMetadata": {
      "byteLimit": 2048000,
      "rowLimit": 10000
     },
     "inputWidgets": {},
     "nuid": "b0014689-2bb4-4abb-80e8-d6c7b1ab277f",
     "showTitle": false,
     "title": ""
    }
   },
   "outputs": [],
   "source": [
    "folders = [\"Zonal2023\",\n",
    "           \"Zonal2022\",\n",
    "           \"Zonal2021\",\n",
    "           \"Zonal2020\",\n",
    "           \"Troncal2023\",\n",
    "           \"Troncal2022\",\n",
    "           \"Troncal2021\",\n",
    "           \"Troncal2020\",\n",
    "           \"Dual2023\",\n",
    "           \"Dual2022\",\n",
    "           \"Dual2021\",\n",
    "           \"Dual2020\",\n",
    "           \"salidas2023\"]\n",
    "\n",
    "for f in folders:\n",
    "    files = dbutils.fs.ls('/mnt/DAP/data/ColombiaProject-TransMilenioRawData/Documents/' + f)\n",
    "    print(f, \"-\", len(files))"
   ]
  },
  {
   "cell_type": "code",
   "execution_count": 0,
   "metadata": {
    "application/vnd.databricks.v1+cell": {
     "cellMetadata": {
      "byteLimit": 2048000,
      "rowLimit": 10000
     },
     "inputWidgets": {},
     "nuid": "c2eaa58a-80f2-4aeb-a6d6-7e35906feb7a",
     "showTitle": false,
     "title": ""
    }
   },
   "outputs": [],
   "source": [
    "names = [f[0][77:] for f in files]\n",
    "# check for duplicates\n",
    "rawnames = [n[:15] for n in names]\n",
    "print(len(rawnames) == len(names))"
   ]
  },
  {
   "cell_type": "markdown",
   "metadata": {
    "application/vnd.databricks.v1+cell": {
     "cellMetadata": {},
     "inputWidgets": {},
     "nuid": "170efaec-2d22-4a03-b74d-3c09041ff8a3",
     "showTitle": false,
     "title": ""
    }
   },
   "source": [
    "### Download point (Data folder)"
   ]
  },
  {
   "cell_type": "code",
   "execution_count": 0,
   "metadata": {
    "application/vnd.databricks.v1+cell": {
     "cellMetadata": {
      "byteLimit": 2048000,
      "rowLimit": 10000
     },
     "inputWidgets": {},
     "nuid": "19be1fdd-98f5-4806-93a6-22cd0db8fea3",
     "showTitle": false,
     "title": ""
    }
   },
   "outputs": [],
   "source": [
    "os.listdir('/dbfs' + path + '/Data/')"
   ]
  },
  {
   "cell_type": "code",
   "execution_count": 0,
   "metadata": {
    "application/vnd.databricks.v1+cell": {
     "cellMetadata": {
      "byteLimit": 2048000,
      "rowLimit": 10000
     },
     "inputWidgets": {},
     "nuid": "1c37e376-462a-4ecc-a593-70bb21904ad4",
     "showTitle": false,
     "title": ""
    }
   },
   "outputs": [],
   "source": [
    "os.listdir('/dbfs' + path + '/Data/Recargas/')[0:10]"
   ]
  },
  {
   "cell_type": "code",
   "execution_count": 0,
   "metadata": {
    "application/vnd.databricks.v1+cell": {
     "cellMetadata": {
      "byteLimit": 2048000,
      "rowLimit": 10000
     },
     "inputWidgets": {},
     "nuid": "487b935f-18a6-4306-897d-da763caf619b",
     "showTitle": false,
     "title": ""
    }
   },
   "outputs": [],
   "source": [
    "os.listdir('/dbfs' + path + '/Data/Recargas/2023')"
   ]
  },
  {
   "cell_type": "code",
   "execution_count": 0,
   "metadata": {
    "application/vnd.databricks.v1+cell": {
     "cellMetadata": {
      "byteLimit": 2048000,
      "rowLimit": 10000
     },
     "inputWidgets": {},
     "nuid": "b7d5bc30-7b8e-4680-bc71-402842012076",
     "showTitle": false,
     "title": ""
    }
   },
   "outputs": [],
   "source": [
    "os.listdir('/dbfs' + path + '/Data/ValidacionZonal')[0:30]\n",
    "# os.listdir('/dbfs' + path + '/Data/ValidacionZonal/2024')"
   ]
  },
  {
   "cell_type": "code",
   "execution_count": 0,
   "metadata": {
    "application/vnd.databricks.v1+cell": {
     "cellMetadata": {},
     "inputWidgets": {},
     "nuid": "f09df03f-974c-4c51-bc4d-ce00560bef41",
     "showTitle": false,
     "title": ""
    }
   },
   "outputs": [],
   "source": [
    "os.listdir('/dbfs' + path + '/Data/ValidacionZonal/2024')"
   ]
  },
  {
   "cell_type": "markdown",
   "metadata": {
    "application/vnd.databricks.v1+cell": {
     "cellMetadata": {},
     "inputWidgets": {},
     "nuid": "435bedbe-8e0a-4080-aa6e-d6a85d7c9711",
     "showTitle": false,
     "title": ""
    }
   },
   "source": [
    "### Move"
   ]
  },
  {
   "cell_type": "markdown",
   "metadata": {
    "application/vnd.databricks.v1+cell": {
     "cellMetadata": {},
     "inputWidgets": {},
     "nuid": "5e491ae4-a42b-4177-a9c5-d361e3a260c2",
     "showTitle": false,
     "title": ""
    }
   },
   "source": [
    "#### 1. Move from query point (Data folder) [this should be moved to the Mondays Job]\n"
   ]
  },
  {
   "cell_type": "code",
   "execution_count": 0,
   "metadata": {
    "application/vnd.databricks.v1+cell": {
     "cellMetadata": {
      "byteLimit": 2048000,
      "rowLimit": 10000
     },
     "inputWidgets": {},
     "nuid": "70a596c7-f001-484e-b6b5-c74aae033d94",
     "showTitle": false,
     "title": ""
    }
   },
   "outputs": [],
   "source": [
    "raw2020_dir = path + '/Workspace/Raw/since2020/'\n",
    "\n",
    "# Validaciones\n",
    "for d in ['ValidacionDual/', 'ValidacionTroncal/', 'ValidacionZonal/']:\n",
    "    files = [f.name for f in dbutils.fs.ls(path + \"/Data/\" + d) ]\n",
    "    vfiles = [f for f in files if 'validacion' in f]\n",
    "    print(len(vfiles))\n",
    "    \n",
    "    for f in tqdm(vfiles):\n",
    "        origin = f'{path}/Data/{d}{f}'\n",
    "        target = f'{raw2020_dir}{d}{f}'\n",
    "        # Only copy new files\n",
    "        if not dbfs_file_exists(target):\n",
    "            dbutils.fs.cp(origin, target)\n",
    "            print(f'{target} COPIED')"
   ]
  },
  {
   "cell_type": "markdown",
   "metadata": {
    "application/vnd.databricks.v1+cell": {
     "cellMetadata": {},
     "inputWidgets": {},
     "nuid": "9f259240-e651-485c-a63b-6d607354713d",
     "showTitle": false,
     "title": ""
    }
   },
   "source": [
    "#### 2. Move from ingestion point (Documents folder)"
   ]
  },
  {
   "cell_type": "code",
   "execution_count": 0,
   "metadata": {
    "application/vnd.databricks.v1+cell": {
     "cellMetadata": {},
     "inputWidgets": {},
     "nuid": "58d7548e-7414-41de-9af6-afa35fea046e",
     "showTitle": false,
     "title": ""
    }
   },
   "outputs": [],
   "source": [
    "dic_d =  {\"Zonal2023/\"  : 'ValidacionZonal/'    ,\n",
    "          \"Zonal2022/\"  : 'ValidacionZonal/'    ,\n",
    "          \"Zonal2021/\"  : 'ValidacionZonal/'    ,\n",
    "          \"Zonal2020/\"  : 'ValidacionZonal/'    ,\n",
    "          \"Troncal2023/\": 'ValidacionTroncal/'  ,\n",
    "          \"Troncal2022/\": 'ValidacionTroncal/'  ,\n",
    "          \"Troncal2021/\": 'ValidacionTroncal/'  ,\n",
    "          \"Troncal2020/\": 'ValidacionTroncal/'  ,\n",
    "          \"Dual2023/\"   : 'ValidacionDual/'     ,\n",
    "          \"Dual2022/\"   : 'ValidacionDual/'     ,\n",
    "          \"Dual2021/\"   : 'ValidacionDual/'     ,\n",
    "          \"Dual2020/\"   : 'ValidacionDual/'     }"
   ]
  },
  {
   "cell_type": "code",
   "execution_count": 0,
   "metadata": {
    "application/vnd.databricks.v1+cell": {
     "cellMetadata": {},
     "inputWidgets": {},
     "nuid": "9afb215a-2d05-4527-bde9-8c2befbc1c72",
     "showTitle": false,
     "title": ""
    }
   },
   "outputs": [],
   "source": [
    "for d in [ \"Zonal2023/\"   ,\n",
    "            \"Zonal2022/\"  ,\n",
    "            \"Zonal2021/\"  ,\n",
    "            \"Zonal2020/\"  ,\n",
    "            \"Troncal2023/\",\n",
    "            \"Troncal2022/\",\n",
    "            \"Troncal2021/\",\n",
    "            \"Troncal2020/\",\n",
    "            \"Dual2023/\"   ,\n",
    "            \"Dual2022/\"   ,\n",
    "            \"Dual2021/\"   ,\n",
    "            \"Dual2020/\"   ]:\n",
    "   df = dic_d[d]\n",
    "   files = [f.name for f in dbutils.fs.ls(path + \"/Documents/\" + d) ]\n",
    "   vfiles = [f for f in files if 'validacion' in f]\n",
    "   print(len(vfiles))\n",
    "    \n",
    "   for f in tqdm(vfiles):\n",
    "              dbutils.fs.cp(path + \"/Documents/\" + d + f, \n",
    "                      path + '/Workspace/Raw/since2020/'+ df + f)\n",
    "    "
   ]
  },
  {
   "cell_type": "markdown",
   "metadata": {
    "application/vnd.databricks.v1+cell": {
     "cellMetadata": {},
     "inputWidgets": {},
     "nuid": "8ab552ef-8909-4077-b381-212a83fe341b",
     "showTitle": false,
     "title": ""
    }
   },
   "source": [
    "### Check files in /Workspace/Raw/since2020/\n"
   ]
  }
 ],
 "metadata": {
  "application/vnd.databricks.v1+notebook": {
   "dashboards": [],
   "environmentMetadata": null,
   "language": "python",
   "notebookMetadata": {
    "pythonIndentUnit": 4
   },
   "notebookName": "data-organize",
   "widgets": {}
  },
  "language_info": {
   "name": "python"
  }
 },
 "nbformat": 4,
 "nbformat_minor": 0
}
