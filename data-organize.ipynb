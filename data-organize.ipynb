{
 "cells": [
  {
   "cell_type": "code",
   "execution_count": 0,
   "metadata": {
    "application/vnd.databricks.v1+cell": {
     "cellMetadata": {
      "byteLimit": 2048000,
      "rowLimit": 10000
     },
     "inputWidgets": {},
     "nuid": "96947d56-a3f1-4e8a-a86b-bdb9e92a646e",
     "showTitle": false,
     "title": ""
    }
   },
   "outputs": [
    {
     "output_type": "stream",
     "name": "stdout",
     "output_type": "stream",
     "text": [
      "Collecting tqdm\r\n  Downloading tqdm-4.66.4-py3-none-any.whl (78 kB)\r\n\u001B[?25l     \u001B[90m━━━━━━━━━━━━━━━━━━━━━━━━━━━━━━━━━━━━━━━━\u001B[0m \u001B[32m0.0/78.3 kB\u001B[0m \u001B[31m?\u001B[0m eta \u001B[36m-:--:--\u001B[0m\r\u001B[2K     \u001B[90m━━━━━━━━━━━━━━━━━━━━━━━━━━━━━━━━━━━━━━━━\u001B[0m \u001B[32m78.3/78.3 kB\u001B[0m \u001B[31m2.9 MB/s\u001B[0m eta \u001B[36m0:00:00\u001B[0m\r\n\u001B[?25hInstalling collected packages: tqdm\r\nSuccessfully installed tqdm-4.66.4\r\n\r\n\u001B[1m[\u001B[0m\u001B[34;49mnotice\u001B[0m\u001B[1;39;49m]\u001B[0m\u001B[39;49m A new release of pip available: \u001B[0m\u001B[31;49m22.2.2\u001B[0m\u001B[39;49m -> \u001B[0m\u001B[32;49m24.1\u001B[0m\r\n\u001B[1m[\u001B[0m\u001B[34;49mnotice\u001B[0m\u001B[1;39;49m]\u001B[0m\u001B[39;49m To update, run: \u001B[0m\u001B[32;49mpip install --upgrade pip\u001B[0m\r\nCollecting pyunpack\r\n  Downloading pyunpack-0.3-py2.py3-none-any.whl (4.1 kB)\r\nCollecting easyprocess\r\n  Downloading EasyProcess-1.1-py3-none-any.whl (8.7 kB)\r\nCollecting entrypoint2\r\n  Downloading entrypoint2-1.1-py2.py3-none-any.whl (9.9 kB)\r\nInstalling collected packages: entrypoint2, easyprocess, pyunpack\r\nSuccessfully installed easyprocess-1.1 entrypoint2-1.1 pyunpack-0.3\r\n\r\n\u001B[1m[\u001B[0m\u001B[34;49mnotice\u001B[0m\u001B[1;39;49m]\u001B[0m\u001B[39;49m A new release of pip available: \u001B[0m\u001B[31;49m22.2.2\u001B[0m\u001B[39;49m -> \u001B[0m\u001B[32;49m24.1\u001B[0m\r\n\u001B[1m[\u001B[0m\u001B[34;49mnotice\u001B[0m\u001B[1;39;49m]\u001B[0m\u001B[39;49m To update, run: \u001B[0m\u001B[32;49mpip install --upgrade pip\u001B[0m\r\nCollecting patool\r\n  Downloading patool-2.2.0-py2.py3-none-any.whl (96 kB)\r\n\u001B[?25l     \u001B[90m━━━━━━━━━━━━━━━━━━━━━━━━━━━━━━━━━━━━━━━━\u001B[0m \u001B[32m0.0/96.0 kB\u001B[0m \u001B[31m?\u001B[0m eta \u001B[36m-:--:--\u001B[0m\r\u001B[2K     \u001B[90m━━━━━━━━━━━━━━━━━━━━━━━━━━━━━━━━━━━━━━━━\u001B[0m \u001B[32m96.0/96.0 kB\u001B[0m \u001B[31m3.0 MB/s\u001B[0m eta \u001B[36m0:00:00\u001B[0m\r\n\u001B[?25hInstalling collected packages: patool\r\nSuccessfully installed patool-2.2.0\r\n\r\n\u001B[1m[\u001B[0m\u001B[34;49mnotice\u001B[0m\u001B[1;39;49m]\u001B[0m\u001B[39;49m A new release of pip available: \u001B[0m\u001B[31;49m22.2.2\u001B[0m\u001B[39;49m -> \u001B[0m\u001B[32;49m24.1\u001B[0m\r\n\u001B[1m[\u001B[0m\u001B[34;49mnotice\u001B[0m\u001B[1;39;49m]\u001B[0m\u001B[39;49m To update, run: \u001B[0m\u001B[32;49mpip install --upgrade pip\u001B[0m\r\n"
     ]
    }
   ],
   "source": [
    "import os\n",
    "from pathlib import Path\n",
    "from shutil import rmtree\n",
    "import pandas as pd\n",
    "\n",
    "!pip install tqdm\n",
    "from tqdm import tqdm\n",
    "\n",
    "!pip install pyunpack\n",
    "!pip install patool\n",
    "from pyunpack import Archive\n",
    "\n"
   ]
  },
  {
   "cell_type": "code",
   "execution_count": 0,
   "metadata": {
    "application/vnd.databricks.v1+cell": {
     "cellMetadata": {
      "byteLimit": 2048000,
      "rowLimit": 10000
     },
     "inputWidgets": {},
     "nuid": "3965cce6-4ceb-4805-8352-358900a253ff",
     "showTitle": false,
     "title": ""
    }
   },
   "outputs": [],
   "source": [
    "# Trying to export from DBFS to local machine\n",
    "#dbutils.fs.put(\"/FileStore/my-stuff/my-file.txt\", \"This is the actual text that will be saved to disk. Like a 'Hello world!' example\")"
   ]
  },
  {
   "cell_type": "markdown",
   "metadata": {
    "application/vnd.databricks.v1+cell": {
     "cellMetadata": {
      "byteLimit": 2048000,
      "rowLimit": 10000
     },
     "inputWidgets": {},
     "nuid": "7acbf071-13cc-46f6-9c19-0324fd675932",
     "showTitle": false,
     "title": ""
    }
   },
   "source": [
    "# Create Workspace to transfer files from ingestion point and download point\n",
    "- Ingestion point from OneDrive: /mnt/DAP/data/ColombiaProject-TransMilenioRawData/Documents\n",
    "- Download point from TM Google API: /mnt/DAP/data/ColombiaProject-TransMilenioRawData/Data"
   ]
  },
  {
   "cell_type": "code",
   "execution_count": 0,
   "metadata": {
    "application/vnd.databricks.v1+cell": {
     "cellMetadata": {
      "byteLimit": 2048000,
      "rowLimit": 10000
     },
     "inputWidgets": {},
     "nuid": "8e455e30-e942-4dc8-8d7d-8c758db54f80",
     "showTitle": false,
     "title": ""
    }
   },
   "outputs": [],
   "source": [
    "path = '/mnt/DAP/data/ColombiaProject-TransMilenioRawData/'"
   ]
  },
  {
   "cell_type": "code",
   "execution_count": 0,
   "metadata": {
    "application/vnd.databricks.v1+cell": {
     "cellMetadata": {
      "byteLimit": 2048000,
      "rowLimit": 10000
     },
     "inputWidgets": {},
     "nuid": "fe141b37-0952-460f-bf70-5397797e49fc",
     "showTitle": false,
     "title": ""
    }
   },
   "outputs": [],
   "source": [
    "#  Create Workspace directory if it does not exist\n",
    "dbutils.fs.mkdirs(path + '/Workspace/')\n",
    "dbutils.fs.mkdirs(path + '/Workspace/Raw/')\n",
    "dbutils.fs.mkdirs(path + '/Workspace/Clean/')"
   ]
  },
  {
   "cell_type": "markdown",
   "metadata": {
    "application/vnd.databricks.v1+cell": {
     "cellMetadata": {
      "byteLimit": 2048000,
      "rowLimit": 10000
     },
     "inputWidgets": {},
     "nuid": "6c562a27-ef0c-4c25-8f85-3ab6c272ee43",
     "showTitle": false,
     "title": ""
    }
   },
   "source": [
    "Two different structures\n",
    "- Since 2020, I have data organized by Troncal, Zonal, Dual, Salidas, Recargas. All daily files in one of the following folders **path + '/Workspace/Raw/since2020/ + ...**\n",
    "  - Recargas\n",
    "  - Salidas\n",
    "  - ValidacionDual\n",
    "  - ValidacionTroncal\n",
    "  - ValidacionZonal\n",
    "\n",
    "\n",
    "- For 2017, I have\n",
    "  - Monthly csv files with all validations until September\n",
    "  - Zonal and Troncal separate folders with daily files"
   ]
  },
  {
   "cell_type": "markdown",
   "metadata": {
    "application/vnd.databricks.v1+cell": {
     "cellMetadata": {
      "byteLimit": 2048000,
      "rowLimit": 10000
     },
     "inputWidgets": {},
     "nuid": "fa3ffe76-da39-4010-b64a-7aa70b1474e9",
     "showTitle": false,
     "title": ""
    }
   },
   "source": [
    "# Organize 2017 data"
   ]
  },
  {
   "cell_type": "code",
   "execution_count": 0,
   "metadata": {
    "application/vnd.databricks.v1+cell": {
     "cellMetadata": {
      "byteLimit": 2048000,
      "rowLimit": 10000
     },
     "inputWidgets": {},
     "nuid": "ad76a501-4b45-41a8-9b31-ef56b24f3f80",
     "showTitle": false,
     "title": ""
    }
   },
   "outputs": [
    {
     "output_type": "execute_result",
     "data": {
      "text/plain": [
       "['01_ValidacionesEnero2017.rar',\n",
       " '02_ValidacionesFeb2017.rar',\n",
       " '03_ValidacionesMar2017.rar',\n",
       " '04_ValidacionesAbr2017.csv',\n",
       " '04_ValidacionesAbr2017.rar',\n",
       " '05_ValidacionesMay2017.rar',\n",
       " '06_ValidacionesJun2017.rar',\n",
       " '07_ValidacionesJul2017.rar',\n",
       " '08_ValidacionesAgo2017.rar',\n",
       " '09_ValidacionesSept2017.rar',\n",
       " 'ValTroncal Dic2017.7z',\n",
       " 'ValTroncal Nov2017.7z',\n",
       " 'ValTroncal Oct2017.7z',\n",
       " 'ValZonal Dic2017.7z',\n",
       " 'ValZonal Nov2017.7z',\n",
       " 'ValZonal Oct2017.7z',\n",
       " 'decompressed/']"
      ]
     },
     "execution_count": 11,
     "metadata": {},
     "output_type": "execute_result"
    }
   ],
   "source": [
    "ingestion2017_dir = '/mnt/DAP/data/ColombiaProject-TransMilenioRawData/Documents/2017data'\n",
    "raw2017_dir = '/mnt/DAP/data/ColombiaProject-TransMilenioRawData/Workspace/Raw/2017'\n",
    "\n",
    "dbutils.fs.mkdirs(raw2017_dir)\n",
    "files = dbutils.fs.ls(ingestion2017_dir)\n",
    "[f.name for f in files]"
   ]
  },
  {
   "cell_type": "markdown",
   "metadata": {
    "application/vnd.databricks.v1+cell": {
     "cellMetadata": {
      "byteLimit": 2048000,
      "rowLimit": 10000
     },
     "inputWidgets": {},
     "nuid": "2c1947cc-df30-4da3-8bad-c8a101789832",
     "showTitle": false,
     "title": ""
    }
   },
   "source": [
    "**Moving individual files from Oct, Nov, and Dec 2017 to Raw/2017 folder:**\n",
    "- Troncal Dec:  extracted from 7z with patool from .7z file\n",
    "- Troncal and Zonal Oct, Zonal Dec: moved from decompressed individual folders\n",
    "- Troncal and Zonal Nov: extract from decompressed folder, but using patool\n",
    "  - _Note: valzonal_27nov2017_MCKENNEDY.gz is corrupted and cannot be extracted_ "
   ]
  },
  {
   "cell_type": "markdown",
   "metadata": {
    "application/vnd.databricks.v1+cell": {
     "cellMetadata": {
      "byteLimit": 2048000,
      "rowLimit": 10000
     },
     "inputWidgets": {},
     "nuid": "3f58b325-d26f-4a09-a5f0-edb3a03892ce",
     "showTitle": false,
     "title": ""
    }
   },
   "source": [
    "**[TBC: check that we have the right amount of files]**"
   ]
  },
  {
   "cell_type": "code",
   "execution_count": 0,
   "metadata": {
    "application/vnd.databricks.v1+cell": {
     "cellMetadata": {
      "byteLimit": 2048000,
      "rowLimit": 10000
     },
     "inputWidgets": {},
     "nuid": "535f416f-d3c6-47db-b9a0-d0fadec5c337",
     "showTitle": false,
     "title": ""
    }
   },
   "outputs": [
    {
     "output_type": "display_data",
     "data": {
      "text/html": [
       "<style scoped>\n",
       "  .ansiout {\n",
       "    display: block;\n",
       "    unicode-bidi: embed;\n",
       "    white-space: pre-wrap;\n",
       "    word-wrap: break-word;\n",
       "    word-break: break-all;\n",
       "    font-family: \"Menlo\", \"Monaco\", \"Consolas\", \"Ubuntu Mono\", \"Source Code Pro\", monospace;\n",
       "    font-size: 13px;\n",
       "    color: #555;\n",
       "    margin-left: 4px;\n",
       "    line-height: 19px;\n",
       "  }\n",
       "</style>"
      ]
     },
     "metadata": {
      "application/vnd.databricks.v1+output": {
       "arguments": {},
       "data": "",
       "errorSummary": "Cancelled",
       "errorTraceType": "html",
       "metadata": {},
       "type": "ipynbError"
      }
     },
     "output_type": "display_data"
    }
   ],
   "source": [
    "# Troncal December files can be extracted with patool\n",
    "f = 'ValTroncal Dic2017.7z'\n",
    "Archive( \"/dbfs\" + ingestion2017_dir  + \"/\" + f).extractall(\"/dbfs\" + raw2017_dir )"
   ]
  },
  {
   "cell_type": "code",
   "execution_count": 0,
   "metadata": {
    "application/vnd.databricks.v1+cell": {
     "cellMetadata": {
      "byteLimit": 2048000,
      "rowLimit": 10000
     },
     "inputWidgets": {},
     "nuid": "6cdfdcde-8e4d-4dc9-8f6d-e6562f4af03b",
     "showTitle": false,
     "title": ""
    }
   },
   "outputs": [
    {
     "output_type": "display_data",
     "data": {
      "text/html": [
       "<style scoped>\n",
       "  .ansiout {\n",
       "    display: block;\n",
       "    unicode-bidi: embed;\n",
       "    white-space: pre-wrap;\n",
       "    word-wrap: break-word;\n",
       "    word-break: break-all;\n",
       "    font-family: \"Menlo\", \"Monaco\", \"Consolas\", \"Ubuntu Mono\", \"Source Code Pro\", monospace;\n",
       "    font-size: 13px;\n",
       "    color: #555;\n",
       "    margin-left: 4px;\n",
       "    line-height: 19px;\n",
       "  }\n",
       "</style>"
      ]
     },
     "metadata": {
      "application/vnd.databricks.v1+output": {
       "arguments": {},
       "data": "",
       "errorSummary": "Cancelled",
       "errorTraceType": "html",
       "metadata": {},
       "type": "ipynbError"
      }
     },
     "output_type": "display_data"
    }
   ],
   "source": [
    "# Take the others from the decompressed folder\n",
    "decompressed =  [f.name for f in dbutils.fs.ls(ingestion2017_dir + \"/decompressed\") ]\n",
    "print(decompressed)\n",
    "\n",
    "for folder in decompressed:\n",
    "    print(\"---------------\")\n",
    "    print( folder, \":\")\n",
    "    print([f.name for f in dbutils.fs.ls(ingestion2017_dir + \"/decompressed/\" + folder) ])"
   ]
  },
  {
   "cell_type": "code",
   "execution_count": 0,
   "metadata": {
    "application/vnd.databricks.v1+cell": {
     "cellMetadata": {
      "byteLimit": 2048000,
      "rowLimit": 10000
     },
     "collapsed": true,
     "inputWidgets": {},
     "nuid": "46b6b5bb-f119-41c9-aaa3-0b84c044adf5",
     "showTitle": false,
     "title": ""
    }
   },
   "outputs": [
    {
     "output_type": "display_data",
     "data": {
      "text/html": [
       "<style scoped>\n",
       "  .ansiout {\n",
       "    display: block;\n",
       "    unicode-bidi: embed;\n",
       "    white-space: pre-wrap;\n",
       "    word-wrap: break-word;\n",
       "    word-break: break-all;\n",
       "    font-family: \"Menlo\", \"Monaco\", \"Consolas\", \"Ubuntu Mono\", \"Source Code Pro\", monospace;\n",
       "    font-size: 13px;\n",
       "    color: #555;\n",
       "    margin-left: 4px;\n",
       "    line-height: 19px;\n",
       "  }\n",
       "</style>"
      ]
     },
     "metadata": {
      "application/vnd.databricks.v1+output": {
       "arguments": {},
       "data": "",
       "errorSummary": "Cancelled",
       "errorTraceType": "html",
       "metadata": {},
       "type": "ipynbError"
      }
     },
     "output_type": "display_data"
    }
   ],
   "source": [
    "# All but november's can be directly moved\n",
    "for folder in ['ValTroncal Oct2017/', 'ValZonal Dic2017/', 'ValZonal Oct2017/']:\n",
    "    files = [f.name for f in dbutils.fs.ls(ingestion2017_dir + \"/decompressed/\" + folder) ]\n",
    "    for f in tqdm(files):\n",
    "        dbutils.fs.cp(ingestion2017_dir + \"/decompressed/\" + folder + f, raw2017_dir)"
   ]
  },
  {
   "cell_type": "code",
   "execution_count": 0,
   "metadata": {
    "application/vnd.databricks.v1+cell": {
     "cellMetadata": {
      "byteLimit": 2048000,
      "rowLimit": 10000
     },
     "inputWidgets": {},
     "nuid": "10346f42-b748-4d5f-ad76-e13155b51d03",
     "showTitle": false,
     "title": ""
    }
   },
   "outputs": [
    {
     "output_type": "display_data",
     "data": {
      "text/html": [
       "<style scoped>\n",
       "  .ansiout {\n",
       "    display: block;\n",
       "    unicode-bidi: embed;\n",
       "    white-space: pre-wrap;\n",
       "    word-wrap: break-word;\n",
       "    word-break: break-all;\n",
       "    font-family: \"Menlo\", \"Monaco\", \"Consolas\", \"Ubuntu Mono\", \"Source Code Pro\", monospace;\n",
       "    font-size: 13px;\n",
       "    color: #555;\n",
       "    margin-left: 4px;\n",
       "    line-height: 19px;\n",
       "  }\n",
       "</style>"
      ]
     },
     "metadata": {
      "application/vnd.databricks.v1+output": {
       "arguments": {},
       "data": "",
       "errorSummary": "Cancelled",
       "errorTraceType": "html",
       "metadata": {},
       "type": "ipynbError"
      }
     },
     "output_type": "display_data"
    }
   ],
   "source": [
    "for folder in ['ValTroncal Nov2017/', 'ValZonal Nov2017/']:\n",
    "    d = \"/dbfs\" + ingestion2017_dir + \"/decompressed/\" + folder\n",
    "    subfolders = [d + f for f in os.listdir(d) ]\n",
    "    for fd in tqdm(subfolders):\n",
    "        files = os.listdir(fd)\n",
    "        for f in files:\n",
    "            if f == 'valzonal_27nov2017_MCKENNEDY.gz': # the file is corrupted and cannot be extracted\n",
    "                pass\n",
    "            else:\n",
    "                Archive( fd + \"/\" + f ).extractall(\"/dbfs\" + raw2017_dir )\n",
    "    "
   ]
  },
  {
   "cell_type": "code",
   "execution_count": 0,
   "metadata": {
    "application/vnd.databricks.v1+cell": {
     "cellMetadata": {
      "byteLimit": 2048000,
      "rowLimit": 10000
     },
     "inputWidgets": {},
     "nuid": "b417e9b0-eed0-4381-ad45-5c84f4e9171b",
     "showTitle": false,
     "title": ""
    }
   },
   "outputs": [
    {
     "output_type": "display_data",
     "data": {
      "text/html": [
       "<style scoped>\n",
       "  .ansiout {\n",
       "    display: block;\n",
       "    unicode-bidi: embed;\n",
       "    white-space: pre-wrap;\n",
       "    word-wrap: break-word;\n",
       "    word-break: break-all;\n",
       "    font-family: \"Menlo\", \"Monaco\", \"Consolas\", \"Ubuntu Mono\", \"Source Code Pro\", monospace;\n",
       "    font-size: 13px;\n",
       "    color: #555;\n",
       "    margin-left: 4px;\n",
       "    line-height: 19px;\n",
       "  }\n",
       "</style>"
      ]
     },
     "metadata": {
      "application/vnd.databricks.v1+output": {
       "arguments": {},
       "data": "",
       "errorSummary": "Cancelled",
       "errorTraceType": "html",
       "metadata": {},
       "type": "ipynbError"
      }
     },
     "output_type": "display_data"
    }
   ],
   "source": [
    "f = \"/dbfs\" + ingestion2017_dir + \"/decompressed/ValZonal Nov2017/16. valzonal_16nov2017/valzonal_16nov2017_ETIB.gz\"\n",
    "Archive( f ).extractall(\"/dbfs\" + raw2017_dir )\n",
    "df = pd.read_csv('/dbfs/mnt/DAP/data/ColombiaProject-TransMilenioRawData/Workspace/Raw/2017/valzonal_16nov2017_ETIB')"
   ]
  },
  {
   "cell_type": "markdown",
   "metadata": {
    "application/vnd.databricks.v1+cell": {
     "cellMetadata": {
      "byteLimit": 2048000,
      "rowLimit": 10000
     },
     "inputWidgets": {},
     "nuid": "258e70b3-b22c-4645-b33a-50c08f80395e",
     "showTitle": false,
     "title": ""
    }
   },
   "source": [
    "# Organize data since 2020"
   ]
  },
  {
   "cell_type": "markdown",
   "metadata": {
    "application/vnd.databricks.v1+cell": {
     "cellMetadata": {
      "byteLimit": 2048000,
      "rowLimit": 10000
     },
     "inputWidgets": {},
     "nuid": "329b48ac-5ecb-4354-976a-4914c6a83fb8",
     "showTitle": false,
     "title": ""
    }
   },
   "source": [
    "Create a folder inside the Workspace folder that follows the same structure that the Data folder to put both the data in the Data folder and in the Documents folder."
   ]
  },
  {
   "cell_type": "markdown",
   "metadata": {
    "application/vnd.databricks.v1+cell": {
     "cellMetadata": {
      "byteLimit": 2048000,
      "rowLimit": 10000
     },
     "inputWidgets": {},
     "nuid": "1d89bb49-c1db-45da-8f70-3409724357a6",
     "showTitle": false,
     "title": ""
    }
   },
   "source": [
    "## Ingestion point: check that we have the right amount of files"
   ]
  },
  {
   "cell_type": "code",
   "execution_count": 0,
   "metadata": {
    "application/vnd.databricks.v1+cell": {
     "cellMetadata": {
      "byteLimit": 2048000,
      "rowLimit": 10000
     },
     "inputWidgets": {},
     "nuid": "cef28877-d7b3-4075-8bbc-6c4897c0ddaf",
     "showTitle": false,
     "title": ""
    }
   },
   "outputs": [
    {
     "output_type": "display_data",
     "data": {
      "text/html": [
       "<style scoped>\n",
       "  .ansiout {\n",
       "    display: block;\n",
       "    unicode-bidi: embed;\n",
       "    white-space: pre-wrap;\n",
       "    word-wrap: break-word;\n",
       "    word-break: break-all;\n",
       "    font-family: \"Menlo\", \"Monaco\", \"Consolas\", \"Ubuntu Mono\", \"Source Code Pro\", monospace;\n",
       "    font-size: 13px;\n",
       "    color: #555;\n",
       "    margin-left: 4px;\n",
       "    line-height: 19px;\n",
       "  }\n",
       "</style>"
      ]
     },
     "metadata": {
      "application/vnd.databricks.v1+output": {
       "arguments": {},
       "data": "",
       "errorSummary": "Cancelled",
       "errorTraceType": "html",
       "metadata": {},
       "type": "ipynbError"
      }
     },
     "output_type": "display_data"
    }
   ],
   "source": [
    "dbutils.fs.ls('/mnt/DAP/data/ColombiaProject-TransMilenioRawData/Documents/')"
   ]
  },
  {
   "cell_type": "code",
   "execution_count": 0,
   "metadata": {
    "application/vnd.databricks.v1+cell": {
     "cellMetadata": {
      "byteLimit": 2048000,
      "rowLimit": 10000
     },
     "inputWidgets": {},
     "nuid": "a31531ce-4ff8-4c2e-9def-758d69472bc6",
     "showTitle": false,
     "title": ""
    }
   },
   "outputs": [
    {
     "output_type": "display_data",
     "data": {
      "text/html": [
       "<style scoped>\n",
       "  .ansiout {\n",
       "    display: block;\n",
       "    unicode-bidi: embed;\n",
       "    white-space: pre-wrap;\n",
       "    word-wrap: break-word;\n",
       "    word-break: break-all;\n",
       "    font-family: \"Menlo\", \"Monaco\", \"Consolas\", \"Ubuntu Mono\", \"Source Code Pro\", monospace;\n",
       "    font-size: 13px;\n",
       "    color: #555;\n",
       "    margin-left: 4px;\n",
       "    line-height: 19px;\n",
       "  }\n",
       "</style>"
      ]
     },
     "metadata": {
      "application/vnd.databricks.v1+output": {
       "arguments": {},
       "data": "",
       "errorSummary": "Cancelled",
       "errorTraceType": "html",
       "metadata": {},
       "type": "ipynbError"
      }
     },
     "output_type": "display_data"
    }
   ],
   "source": [
    "folders = [\"Zonal2023\",\n",
    "           \"Zonal2022\",\n",
    "           \"Zonal2021\",\n",
    "           \"Zonal2020\",\n",
    "           \"Troncal2023\",\n",
    "           \"Troncal2022\",\n",
    "           \"Troncal2021\",\n",
    "           \"Troncal2020\",\n",
    "           \"Dual2023\",\n",
    "           \"Dual2022\",\n",
    "           \"Dual2021\",\n",
    "           \"Dual2020\",\n",
    "           \"salidas2023\"]\n",
    "\n",
    "for f in folders:\n",
    "    files = dbutils.fs.ls('/mnt/DAP/data/ColombiaProject-TransMilenioRawData/Documents/' + f)\n",
    "    print(f, \"-\", len(files))"
   ]
  },
  {
   "cell_type": "code",
   "execution_count": 0,
   "metadata": {
    "application/vnd.databricks.v1+cell": {
     "cellMetadata": {
      "byteLimit": 2048000,
      "rowLimit": 10000
     },
     "inputWidgets": {},
     "nuid": "ec6b3210-2e44-44b8-bbce-4deb4fb36107",
     "showTitle": false,
     "title": ""
    }
   },
   "outputs": [
    {
     "output_type": "display_data",
     "data": {
      "text/html": [
       "<style scoped>\n",
       "  .ansiout {\n",
       "    display: block;\n",
       "    unicode-bidi: embed;\n",
       "    white-space: pre-wrap;\n",
       "    word-wrap: break-word;\n",
       "    word-break: break-all;\n",
       "    font-family: \"Menlo\", \"Monaco\", \"Consolas\", \"Ubuntu Mono\", \"Source Code Pro\", monospace;\n",
       "    font-size: 13px;\n",
       "    color: #555;\n",
       "    margin-left: 4px;\n",
       "    line-height: 19px;\n",
       "  }\n",
       "</style>"
      ]
     },
     "metadata": {
      "application/vnd.databricks.v1+output": {
       "arguments": {},
       "data": "",
       "errorSummary": "Cancelled",
       "errorTraceType": "html",
       "metadata": {},
       "type": "ipynbError"
      }
     },
     "output_type": "display_data"
    }
   ],
   "source": [
    "names = [f[0][77:] for f in files]\n",
    "# check for duplicates\n",
    "rawnames = [n[:15] for n in names]\n",
    "print(len(rawnames) == len(names))"
   ]
  },
  {
   "cell_type": "markdown",
   "metadata": {
    "application/vnd.databricks.v1+cell": {
     "cellMetadata": {
      "byteLimit": 2048000,
      "rowLimit": 10000
     },
     "inputWidgets": {},
     "nuid": "1d62fdc5-63a2-4e35-a2f4-611f7bedf61d",
     "showTitle": false,
     "title": ""
    }
   },
   "source": [
    "## Check Data folder structure"
   ]
  },
  {
   "cell_type": "code",
   "execution_count": 0,
   "metadata": {
    "application/vnd.databricks.v1+cell": {
     "cellMetadata": {
      "byteLimit": 2048000,
      "rowLimit": 10000
     },
     "inputWidgets": {},
     "nuid": "2af18a65-85d1-4448-be3f-5b869dfec772",
     "showTitle": false,
     "title": ""
    }
   },
   "outputs": [
    {
     "output_type": "execute_result",
     "data": {
      "text/plain": [
       "['Recargas',\n",
       " 'Recargas.html',\n",
       " 'Salidas',\n",
       " 'Salidas.html',\n",
       " 'ValidacionDual',\n",
       " 'ValidacionDual.html',\n",
       " 'ValidacionTroncal',\n",
       " 'ValidacionTroncal.html',\n",
       " 'ValidacionZonal',\n",
       " 'ValidacionZonal.html',\n",
       " 'css',\n",
       " 'index.html',\n",
       " 'salidas_mensuales.html',\n",
       " 'validaciones_diarias.html',\n",
       " 'validaciones_mensuales.html']"
      ]
     },
     "execution_count": 14,
     "metadata": {},
     "output_type": "execute_result"
    }
   ],
   "source": [
    "os.listdir('/dbfs' + path + '/Data/')"
   ]
  },
  {
   "cell_type": "code",
   "execution_count": 0,
   "metadata": {
    "application/vnd.databricks.v1+cell": {
     "cellMetadata": {
      "byteLimit": 2048000,
      "rowLimit": 10000
     },
     "inputWidgets": {},
     "nuid": "231a741a-039c-4748-b522-6b6733223344",
     "showTitle": false,
     "title": ""
    }
   },
   "outputs": [
    {
     "output_type": "display_data",
     "data": {
      "text/html": [
       "<style scoped>\n",
       "  .ansiout {\n",
       "    display: block;\n",
       "    unicode-bidi: embed;\n",
       "    white-space: pre-wrap;\n",
       "    word-wrap: break-word;\n",
       "    word-break: break-all;\n",
       "    font-family: \"Menlo\", \"Monaco\", \"Consolas\", \"Ubuntu Mono\", \"Source Code Pro\", monospace;\n",
       "    font-size: 13px;\n",
       "    color: #555;\n",
       "    margin-left: 4px;\n",
       "    line-height: 19px;\n",
       "  }\n",
       "</style>"
      ]
     },
     "metadata": {
      "application/vnd.databricks.v1+output": {
       "arguments": {},
       "data": "",
       "errorSummary": "Cancelled",
       "errorTraceType": "html",
       "metadata": {},
       "type": "ipynbError"
      }
     },
     "output_type": "display_data"
    }
   ],
   "source": [
    "# os.listdir('/dbfs' + path + '/Data/Recargas/')\n",
    "# os.listdir('/dbfs' + path + '/Data/Recargas/2023')"
   ]
  },
  {
   "cell_type": "code",
   "execution_count": 0,
   "metadata": {
    "application/vnd.databricks.v1+cell": {
     "cellMetadata": {
      "byteLimit": 2048000,
      "rowLimit": 10000
     },
     "inputWidgets": {},
     "nuid": "67fee8d5-228a-4881-84ee-647398e538aa",
     "showTitle": false,
     "title": ""
    }
   },
   "outputs": [
    {
     "output_type": "display_data",
     "data": {
      "text/html": [
       "<style scoped>\n",
       "  .ansiout {\n",
       "    display: block;\n",
       "    unicode-bidi: embed;\n",
       "    white-space: pre-wrap;\n",
       "    word-wrap: break-word;\n",
       "    word-break: break-all;\n",
       "    font-family: \"Menlo\", \"Monaco\", \"Consolas\", \"Ubuntu Mono\", \"Source Code Pro\", monospace;\n",
       "    font-size: 13px;\n",
       "    color: #555;\n",
       "    margin-left: 4px;\n",
       "    line-height: 19px;\n",
       "  }\n",
       "</style>"
      ]
     },
     "metadata": {
      "application/vnd.databricks.v1+output": {
       "arguments": {},
       "data": "",
       "errorSummary": "Cancelled",
       "errorTraceType": "html",
       "metadata": {},
       "type": "ipynbError"
      }
     },
     "output_type": "display_data"
    }
   ],
   "source": [
    "# os.listdir('/dbfs' + path + '/Data/ValidacionZonal')\n",
    "# os.listdir('/dbfs' + path + '/Data/ValidacionZonal/2024')"
   ]
  },
  {
   "cell_type": "markdown",
   "metadata": {
    "application/vnd.databricks.v1+cell": {
     "cellMetadata": {
      "byteLimit": 2048000,
      "rowLimit": 10000
     },
     "inputWidgets": {},
     "nuid": "25453157-49a4-437b-881d-1d290d3bef4c",
     "showTitle": false,
     "title": ""
    }
   },
   "source": [
    "## Create folders"
   ]
  },
  {
   "cell_type": "code",
   "execution_count": 0,
   "metadata": {
    "application/vnd.databricks.v1+cell": {
     "cellMetadata": {
      "byteLimit": 2048000,
      "rowLimit": 10000
     },
     "inputWidgets": {},
     "nuid": "97d47c1d-832a-4cac-8ecc-3ecd797f45bf",
     "showTitle": false,
     "title": ""
    }
   },
   "outputs": [
    {
     "output_type": "display_data",
     "data": {
      "text/html": [
       "<style scoped>\n",
       "  .ansiout {\n",
       "    display: block;\n",
       "    unicode-bidi: embed;\n",
       "    white-space: pre-wrap;\n",
       "    word-wrap: break-word;\n",
       "    word-break: break-all;\n",
       "    font-family: \"Menlo\", \"Monaco\", \"Consolas\", \"Ubuntu Mono\", \"Source Code Pro\", monospace;\n",
       "    font-size: 13px;\n",
       "    color: #555;\n",
       "    margin-left: 4px;\n",
       "    line-height: 19px;\n",
       "  }\n",
       "</style>"
      ]
     },
     "metadata": {
      "application/vnd.databricks.v1+output": {
       "arguments": {},
       "data": "",
       "errorSummary": "Cancelled",
       "errorTraceType": "html",
       "metadata": {},
       "type": "ipynbError"
      }
     },
     "output_type": "display_data"
    }
   ],
   "source": [
    "raw2020_dir = path + '/Workspace/Raw/since2020/'\n",
    "dbutils.fs.mkdirs(raw2020_dir)"
   ]
  },
  {
   "cell_type": "code",
   "execution_count": 0,
   "metadata": {
    "application/vnd.databricks.v1+cell": {
     "cellMetadata": {
      "byteLimit": 2048000,
      "rowLimit": 10000
     },
     "inputWidgets": {},
     "nuid": "ff78418c-bde2-4c1a-916c-3ff6f4216589",
     "showTitle": false,
     "title": ""
    }
   },
   "outputs": [
    {
     "output_type": "display_data",
     "data": {
      "text/html": [
       "<style scoped>\n",
       "  .ansiout {\n",
       "    display: block;\n",
       "    unicode-bidi: embed;\n",
       "    white-space: pre-wrap;\n",
       "    word-wrap: break-word;\n",
       "    word-break: break-all;\n",
       "    font-family: \"Menlo\", \"Monaco\", \"Consolas\", \"Ubuntu Mono\", \"Source Code Pro\", monospace;\n",
       "    font-size: 13px;\n",
       "    color: #555;\n",
       "    margin-left: 4px;\n",
       "    line-height: 19px;\n",
       "  }\n",
       "</style>"
      ]
     },
     "metadata": {
      "application/vnd.databricks.v1+output": {
       "arguments": {},
       "data": "",
       "errorSummary": "Cancelled",
       "errorTraceType": "html",
       "metadata": {},
       "type": "ipynbError"
      }
     },
     "output_type": "display_data"
    }
   ],
   "source": [
    "for d in ['Recargas/', 'Salidas/', 'ValidacionDual/', 'ValidacionTroncal/', 'ValidacionZonal/']:\n",
    "    dbutils.fs.mkdirs(raw2020_dir + d)"
   ]
  },
  {
   "cell_type": "code",
   "execution_count": 0,
   "metadata": {
    "application/vnd.databricks.v1+cell": {
     "cellMetadata": {
      "byteLimit": 2048000,
      "rowLimit": 10000
     },
     "inputWidgets": {},
     "nuid": "d510b0f8-9334-472b-acd1-f7b9b25207e0",
     "showTitle": false,
     "title": ""
    }
   },
   "outputs": [
    {
     "output_type": "display_data",
     "data": {
      "text/html": [
       "<style scoped>\n",
       "  .ansiout {\n",
       "    display: block;\n",
       "    unicode-bidi: embed;\n",
       "    white-space: pre-wrap;\n",
       "    word-wrap: break-word;\n",
       "    word-break: break-all;\n",
       "    font-family: \"Menlo\", \"Monaco\", \"Consolas\", \"Ubuntu Mono\", \"Source Code Pro\", monospace;\n",
       "    font-size: 13px;\n",
       "    color: #555;\n",
       "    margin-left: 4px;\n",
       "    line-height: 19px;\n",
       "  }\n",
       "</style>"
      ]
     },
     "metadata": {
      "application/vnd.databricks.v1+output": {
       "arguments": {},
       "data": "",
       "errorSummary": "Cancelled",
       "errorTraceType": "html",
       "metadata": {},
       "type": "ipynbError"
      }
     },
     "output_type": "display_data"
    }
   ],
   "source": [
    "os.listdir('/dbfs/mnt/DAP/data/ColombiaProject-TransMilenioRawData/Workspace/Raw/since2020/ValidacionZonal')"
   ]
  },
  {
   "cell_type": "markdown",
   "metadata": {
    "application/vnd.databricks.v1+cell": {
     "cellMetadata": {
      "byteLimit": 2048000,
      "rowLimit": 10000
     },
     "inputWidgets": {},
     "nuid": "5f85f5bb-88e3-40d6-a3dd-eff11adedb5e",
     "showTitle": false,
     "title": ""
    }
   },
   "source": [
    "## Move daily validaciones files\n",
    "\n"
   ]
  },
  {
   "cell_type": "markdown",
   "metadata": {
    "application/vnd.databricks.v1+cell": {
     "cellMetadata": {
      "byteLimit": 2048000,
      "rowLimit": 10000
     },
     "inputWidgets": {},
     "nuid": "ab9d1250-7af2-4cb7-947f-457ad1c07a76",
     "showTitle": false,
     "title": ""
    }
   },
   "source": [
    "**1. Move from query point (Data folder)**"
   ]
  },
  {
   "cell_type": "code",
   "execution_count": 0,
   "metadata": {
    "application/vnd.databricks.v1+cell": {
     "cellMetadata": {
      "byteLimit": 2048000,
      "rowLimit": 10000
     },
     "inputWidgets": {},
     "nuid": "40bf6dfe-8074-4e1e-b194-e10f61fdad4a",
     "showTitle": false,
     "title": ""
    }
   },
   "outputs": [
    {
     "output_type": "stream",
     "name": "stdout",
     "output_type": "stream",
     "text": [
      "373\n"
     ]
    },
    {
     "output_type": "stream",
     "name": "stderr",
     "output_type": "stream",
     "text": [
      "\r  0%|          | 0/373 [00:00<?, ?it/s]\r  0%|          | 1/373 [00:00<05:01,  1.24it/s]\r  1%|          | 2/373 [00:01<04:02,  1.53it/s]\r  1%|          | 3/373 [00:01<03:39,  1.68it/s]\r  1%|          | 4/373 [00:02<03:46,  1.63it/s]\r  1%|▏         | 5/373 [00:03<03:48,  1.61it/s]\r  2%|▏         | 6/373 [00:03<03:56,  1.55it/s]\r  2%|▏         | 7/373 [00:04<03:43,  1.63it/s]\r  2%|▏         | 8/373 [00:04<03:26,  1.77it/s]\r  2%|▏         | 9/373 [00:05<03:16,  1.85it/s]\r  3%|▎         | 10/373 [00:05<03:29,  1.73it/s]\r  3%|▎         | 11/373 [00:06<03:27,  1.74it/s]\r  3%|▎         | 12/373 [00:07<03:23,  1.78it/s]\r  3%|▎         | 13/373 [00:07<03:32,  1.70it/s]\r  4%|▍         | 14/373 [00:08<03:27,  1.73it/s]\r  4%|▍         | 15/373 [00:08<03:17,  1.82it/s]\r  4%|▍         | 16/373 [00:09<03:07,  1.90it/s]\r  5%|▍         | 17/373 [00:09<03:20,  1.78it/s]\r  5%|▍         | 18/373 [00:10<03:19,  1.78it/s]\r  5%|▌         | 19/373 [00:11<03:20,  1.76it/s]\r  5%|▌         | 20/373 [00:11<03:23,  1.73it/s]\r  6%|▌         | 21/373 [00:12<03:23,  1.73it/s]\r  6%|▌         | 22/373 [00:12<03:18,  1.77it/s]\r  6%|▌         | 23/373 [00:13<03:46,  1.54it/s]\r  6%|▋         | 24/373 [00:14<03:39,  1.59it/s]\r  7%|▋         | 25/373 [00:14<03:31,  1.65it/s]\r  7%|▋         | 26/373 [00:15<03:34,  1.61it/s]\r  7%|▋         | 27/373 [00:15<03:27,  1.66it/s]\r  8%|▊         | 28/373 [00:16<03:17,  1.75it/s]\r  8%|▊         | 29/373 [00:16<03:03,  1.88it/s]\r  8%|▊         | 30/373 [00:17<02:54,  1.97it/s]\r  8%|▊         | 31/373 [00:18<03:19,  1.72it/s]\r  9%|▊         | 32/373 [00:18<03:25,  1.66it/s]\r  9%|▉         | 33/373 [00:19<03:27,  1.64it/s]\r  9%|▉         | 34/373 [00:19<03:22,  1.68it/s]\r  9%|▉         | 35/373 [00:20<03:21,  1.68it/s]\r 10%|▉         | 36/373 [00:21<03:10,  1.77it/s]\r 10%|▉         | 37/373 [00:21<03:21,  1.67it/s]\r 10%|█         | 38/373 [00:22<03:19,  1.68it/s]\r 10%|█         | 39/373 [00:22<03:29,  1.60it/s]\r 11%|█         | 40/373 [00:23<03:30,  1.58it/s]\r 11%|█         | 41/373 [00:24<03:21,  1.65it/s]\r 11%|█▏        | 42/373 [00:24<03:10,  1.74it/s]\r 12%|█▏        | 43/373 [00:25<02:58,  1.85it/s]\r 12%|█▏        | 44/373 [00:25<03:11,  1.72it/s]\r 12%|█▏        | 45/373 [00:26<03:13,  1.70it/s]\r 12%|█▏        | 46/373 [00:27<03:16,  1.67it/s]\r 13%|█▎        | 47/373 [00:27<03:01,  1.80it/s]\r 13%|█▎        | 48/373 [00:28<03:09,  1.72it/s]\r 13%|█▎        | 49/373 [00:28<03:03,  1.76it/s]\r 13%|█▎        | 50/373 [00:29<02:52,  1.87it/s]\r 14%|█▎        | 51/373 [00:29<03:00,  1.79it/s]\r 14%|█▍        | 52/373 [00:30<03:04,  1.74it/s]\r 14%|█▍        | 53/373 [00:31<03:09,  1.69it/s]\r 14%|█▍        | 54/373 [00:31<03:09,  1.68it/s]\r 15%|█▍        | 55/373 [00:32<03:10,  1.67it/s]\r 15%|█▌        | 56/373 [00:32<03:05,  1.70it/s]\r 15%|█▌        | 57/373 [00:33<02:50,  1.85it/s]\r 16%|█▌        | 58/373 [00:33<02:52,  1.82it/s]\r 16%|█▌        | 59/373 [00:34<03:02,  1.72it/s]\r 16%|█▌        | 60/373 [00:35<03:05,  1.69it/s]\r 16%|█▋        | 61/373 [00:35<03:07,  1.66it/s]\r 17%|█▋        | 62/373 [00:36<03:08,  1.65it/s]\r 17%|█▋        | 63/373 [00:37<03:17,  1.57it/s]\r 17%|█▋        | 64/373 [00:37<03:03,  1.68it/s]\r 17%|█▋        | 65/373 [00:38<02:57,  1.74it/s]\r 18%|█▊        | 66/373 [00:38<03:04,  1.67it/s]\r 18%|█▊        | 67/373 [00:39<03:04,  1.66it/s]\r 18%|█▊        | 68/373 [00:39<03:05,  1.65it/s]\r 18%|█▊        | 69/373 [00:40<02:58,  1.70it/s]\r 19%|█▉        | 70/373 [00:40<02:32,  1.99it/s]\r 19%|█▉        | 71/373 [00:41<02:33,  1.96it/s]\r 19%|█▉        | 72/373 [00:41<02:40,  1.88it/s]\r 20%|█▉        | 73/373 [00:42<02:48,  1.78it/s]\r 20%|█▉        | 74/373 [00:43<02:48,  1.78it/s]\r 20%|██        | 75/373 [00:43<02:49,  1.76it/s]\r 20%|██        | 76/373 [00:44<02:45,  1.79it/s]\r 21%|██        | 77/373 [00:44<02:38,  1.87it/s]\r 21%|██        | 78/373 [00:45<02:29,  1.97it/s]\r 21%|██        | 79/373 [00:45<02:26,  2.00it/s]\r 21%|██▏       | 80/373 [00:46<02:39,  1.84it/s]\r 22%|██▏       | 81/373 [00:46<02:44,  1.77it/s]\r 22%|██▏       | 82/373 [00:47<02:44,  1.77it/s]\r 22%|██▏       | 83/373 [00:48<02:48,  1.72it/s]\r 23%|██▎       | 84/373 [00:48<02:46,  1.74it/s]\r 23%|██▎       | 85/373 [00:49<02:36,  1.84it/s]\r 23%|██▎       | 86/373 [00:49<02:36,  1.83it/s]\r 23%|██▎       | 87/373 [00:50<02:43,  1.75it/s]\r 24%|██▎       | 88/373 [00:50<02:45,  1.73it/s]\r 24%|██▍       | 89/373 [00:51<02:45,  1.71it/s]\r 24%|██▍       | 90/373 [00:52<02:45,  1.71it/s]\r 24%|██▍       | 91/373 [00:52<02:44,  1.71it/s]\r 25%|██▍       | 92/373 [00:53<02:32,  1.85it/s]\r 25%|██▍       | 93/373 [00:53<02:34,  1.81it/s]\r 25%|██▌       | 94/373 [00:54<02:47,  1.67it/s]\r 25%|██▌       | 95/373 [00:54<02:47,  1.66it/s]\r 26%|██▌       | 96/373 [00:55<02:44,  1.68it/s]\r 26%|██▌       | 97/373 [00:56<02:41,  1.70it/s]\r 26%|██▋       | 98/373 [00:56<02:36,  1.76it/s]\r 27%|██▋       | 99/373 [00:57<02:29,  1.83it/s]\r 27%|██▋       | 100/373 [00:57<02:34,  1.77it/s]\r 27%|██▋       | 101/373 [00:58<02:36,  1.74it/s]\r 27%|██▋       | 102/373 [00:58<02:42,  1.67it/s]\r 28%|██▊       | 103/373 [00:59<02:49,  1.59it/s]\r 28%|██▊       | 104/373 [01:00<02:45,  1.63it/s]\r 28%|██▊       | 105/373 [01:00<02:41,  1.66it/s]\r 28%|██▊       | 106/373 [01:01<02:32,  1.75it/s]\r 29%|██▊       | 107/373 [01:02<02:42,  1.64it/s]\r 29%|██▉       | 108/373 [01:02<02:43,  1.62it/s]\r 29%|██▉       | 109/373 [01:03<02:43,  1.61it/s]\r 29%|██▉       | 110/373 [01:03<02:49,  1.55it/s]\r 30%|██▉       | 111/373 [01:04<02:49,  1.55it/s]\r 30%|███       | 112/373 [01:05<02:48,  1.55it/s]\r 30%|███       | 113/373 [01:05<02:37,  1.65it/s]\r 31%|███       | 114/373 [01:06<02:35,  1.66it/s]\r 31%|███       | 115/373 [01:07<02:37,  1.64it/s]\r 31%|███       | 116/373 [01:07<02:35,  1.65it/s]\r 31%|███▏      | 117/373 [01:08<02:36,  1.63it/s]\r 32%|███▏      | 118/373 [01:08<02:39,  1.60it/s]\r 32%|███▏      | 119/373 [01:09<02:35,  1.63it/s]\r 32%|███▏      | 120/373 [01:09<02:25,  1.73it/s]\r 32%|███▏      | 121/373 [01:10<02:29,  1.68it/s]\r 33%|███▎      | 122/373 [01:11<02:26,  1.71it/s]\r 33%|███▎      | 123/373 [01:11<02:30,  1.66it/s]\r 33%|███▎      | 124/373 [01:12<02:41,  1.54it/s]\r 34%|███▎      | 125/373 [01:13<02:38,  1.57it/s]\r 34%|███▍      | 126/373 [01:13<02:26,  1.69it/s]\r 34%|███▍      | 127/373 [01:14<02:21,  1.74it/s]\r 34%|███▍      | 128/373 [01:14<02:23,  1.70it/s]\r 35%|███▍      | 129/373 [01:15<02:27,  1.65it/s]\r 35%|███▍      | 130/373 [01:16<02:30,  1.62it/s]\r 35%|███▌      | 131/373 [01:16<02:28,  1.63it/s]\r 35%|███▌      | 132/373 [01:17<02:24,  1.66it/s]\r 36%|███▌      | 133/373 [01:17<02:15,  1.77it/s]\r 36%|███▌      | 134/373 [01:18<02:05,  1.90it/s]\r 36%|███▌      | 135/373 [01:18<02:02,  1.94it/s]\r 36%|███▋      | 136/373 [01:19<02:13,  1.77it/s]\r 37%|███▋      | 137/373 [01:20<02:24,  1.64it/s]\r 37%|███▋      | 138/373 [01:20<02:20,  1.67it/s]\r 37%|███▋      | 139/373 [01:21<02:24,  1.62it/s]\r 38%|███▊      | 140/373 [01:21<02:16,  1.71it/s]\r 38%|███▊      | 141/373 [01:22<02:05,  1.84it/s]\r 38%|███▊      | 142/373 [01:22<02:09,  1.79it/s]\r 38%|███▊      | 143/373 [01:23<02:13,  1.73it/s]\r 39%|███▊      | 144/373 [01:24<02:11,  1.74it/s]\r 39%|███▉      | 145/373 [01:24<02:18,  1.65it/s]\r 39%|███▉      | 146/373 [01:25<02:21,  1.61it/s]\r 39%|███▉      | 147/373 [01:25<02:12,  1.70it/s]\r 40%|███▉      | 148/373 [01:26<02:14,  1.68it/s]\r 40%|███▉      | 149/373 [01:27<02:13,  1.68it/s]\r 40%|████      | 150/373 [01:27<02:13,  1.67it/s]\r 40%|████      | 151/373 [01:28<02:18,  1.60it/s]\r 41%|████      | 152/373 [01:29<02:17,  1.60it/s]\r 41%|████      | 153/373 [01:29<02:09,  1.69it/s]\r 41%|████▏     | 154/373 [01:30<02:02,  1.78it/s]\r 42%|████▏     | 155/373 [01:30<01:58,  1.84it/s]\r 42%|████▏     | 156/373 [01:31<02:07,  1.70it/s]\r 42%|████▏     | 157/373 [01:31<02:09,  1.66it/s]\r 42%|████▏     | 158/373 [01:32<02:09,  1.66it/s]\r 43%|████▎     | 159/373 [01:33<02:04,  1.72it/s]\r 43%|████▎     | 160/373 [01:33<01:57,  1.81it/s]\r 43%|████▎     | 161/373 [01:33<01:51,  1.91it/s]\r 43%|████▎     | 162/373 [01:34<01:45,  2.00it/s]\r 44%|████▎     | 163/373 [01:34<01:49,  1.91it/s]\r 44%|████▍     | 164/373 [01:35<01:56,  1.79it/s]\r 44%|████▍     | 165/373 [01:36<02:00,  1.72it/s]\r 45%|████▍     | 166/373 [01:36<02:02,  1.69it/s]\r 45%|████▍     | 167/373 [01:37<01:55,  1.78it/s]\r 45%|████▌     | 168/373 [01:37<01:48,  1.90it/s]\r 45%|████▌     | 169/373 [01:38<01:54,  1.79it/s]\r 46%|████▌     | 170/373 [01:39<01:58,  1.72it/s]\r 46%|████▌     | 171/373 [01:39<02:00,  1.67it/s]\r 46%|████▌     | 172/373 [01:40<01:57,  1.72it/s]\r 46%|████▋     | 173/373 [01:40<01:57,  1.70it/s]\r 47%|████▋     | 174/373 [01:41<01:51,  1.78it/s]\r 47%|████▋     | 175/373 [01:41<01:51,  1.78it/s]\r 47%|████▋     | 176/373 [01:42<01:54,  1.72it/s]\r 47%|████▋     | 177/373 [01:43<01:56,  1.69it/s]\r 48%|████▊     | 178/373 [01:43<02:03,  1.58it/s]\r 48%|████▊     | 179/373 [01:44<01:59,  1.62it/s]\r 48%|████▊     | 180/373 [01:45<01:57,  1.64it/s]\r 49%|████▊     | 181/373 [01:45<01:57,  1.63it/s]\r 49%|████▉     | 182/373 [01:46<01:57,  1.62it/s]\r 49%|████▉     | 183/373 [01:46<01:59,  1.59it/s]\r 49%|████▉     | 184/373 [01:47<01:56,  1.62it/s]\r 50%|████▉     | 185/373 [01:48<01:49,  1.72it/s]\r 50%|████▉     | 186/373 [01:48<01:46,  1.75it/s]\r 50%|█████     | 187/373 [01:49<01:42,  1.81it/s]\r 50%|█████     | 188/373 [01:49<01:44,  1.78it/s]\r 51%|█████     | 189/373 [01:50<01:44,  1.76it/s]\r 51%|█████     | 190/373 [01:50<01:44,  1.74it/s]\r 51%|█████     | 191/373 [01:51<01:42,  1.77it/s]\r 51%|█████▏    | 192/373 [01:51<01:42,  1.77it/s]\r 52%|█████▏    | 193/373 [01:52<01:40,  1.78it/s]\r 52%|█████▏    | 194/373 [01:53<01:37,  1.83it/s]\r 52%|█████▏    | 195/373 [01:53<01:39,  1.79it/s]\r 53%|█████▎    | 196/373 [01:54<01:39,  1.78it/s]\r 53%|█████▎    | 197/373 [01:54<01:38,  1.78it/s]\r 53%|█████▎    | 198/373 [01:55<01:39,  1.75it/s]\r 53%|█████▎    | 199/373 [01:55<01:37,  1.79it/s]\r 54%|█████▎    | 200/373 [01:56<01:33,  1.84it/s]\r 54%|█████▍    | 201/373 [01:56<01:34,  1.82it/s]\r 54%|█████▍    | 202/373 [01:57<01:33,  1.83it/s]\r 54%|█████▍    | 203/373 [01:58<01:34,  1.80it/s]\r 55%|█████▍    | 204/373 [01:58<01:32,  1.83it/s]\r 55%|█████▍    | 205/373 [01:59<01:28,  1.89it/s]\r 55%|█████▌    | 206/373 [01:59<01:26,  1.93it/s]\r 55%|█████▌    | 207/373 [01:59<01:20,  2.06it/s]\r 56%|█████▌    | 208/373 [02:00<01:21,  2.03it/s]\r 56%|█████▌    | 209/373 [02:01<01:27,  1.88it/s]\r 56%|█████▋    | 210/373 [02:01<01:28,  1.85it/s]\r 57%|█████▋    | 211/373 [02:02<01:30,  1.79it/s]\r 57%|█████▋    | 212/373 [02:02<01:29,  1.81it/s]\r 57%|█████▋    | 213/373 [02:03<01:24,  1.90it/s]\r 57%|█████▋    | 214/373 [02:03<01:21,  1.95it/s]\r 58%|█████▊    | 215/373 [02:04<01:24,  1.88it/s]\r 58%|█████▊    | 216/373 [02:04<01:25,  1.83it/s]\r 58%|█████▊    | 217/373 [02:05<01:29,  1.75it/s]\r 58%|█████▊    | 218/373 [02:06<01:28,  1.75it/s]\r 59%|█████▊    | 219/373 [02:06<01:24,  1.83it/s]\r 59%|█████▉    | 220/373 [02:07<01:19,  1.94it/s]\r 59%|█████▉    | 221/373 [02:07<01:22,  1.84it/s]\r 60%|█████▉    | 222/373 [02:08<01:25,  1.76it/s]\r 60%|█████▉    | 223/373 [02:08<01:25,  1.75it/s]\r 60%|██████    | 224/373 [02:09<01:24,  1.76it/s]\r 60%|██████    | 225/373 [02:09<01:22,  1.80it/s]\r 61%|██████    | 226/373 [02:10<01:18,  1.88it/s]\r 61%|██████    | 227/373 [02:10<01:18,  1.86it/s]\r 61%|██████    | 228/373 [02:11<01:21,  1.79it/s]\r 61%|██████▏   | 229/373 [02:12<01:21,  1.77it/s]\r 62%|██████▏   | 230/373 [02:12<01:23,  1.71it/s]\r 62%|██████▏   | 231/373 [02:13<01:23,  1.70it/s]\r 62%|██████▏   | 232/373 [02:13<01:22,  1.71it/s]\r 62%|██████▏   | 233/373 [02:14<01:18,  1.78it/s]\r 63%|██████▎   | 234/373 [02:14<01:14,  1.88it/s]\r 63%|██████▎   | 235/373 [02:15<01:15,  1.83it/s]\r 63%|██████▎   | 236/373 [02:16<01:15,  1.82it/s]\r 64%|██████▎   | 237/373 [02:16<01:18,  1.73it/s]\r 64%|██████▍   | 238/373 [02:17<01:20,  1.68it/s]\r 64%|██████▍   | 239/373 [02:17<01:19,  1.68it/s]\r 64%|██████▍   | 240/373 [02:18<01:16,  1.73it/s]\r 65%|██████▍   | 241/373 [02:19<01:18,  1.67it/s]\r 65%|██████▍   | 242/373 [02:19<01:16,  1.70it/s]\r 65%|██████▌   | 243/373 [02:20<01:14,  1.73it/s]\r 65%|██████▌   | 244/373 [02:20<01:12,  1.77it/s]\r 66%|██████▌   | 245/373 [02:21<01:12,  1.76it/s]\r 66%|██████▌   | 246/373 [02:21<01:12,  1.74it/s]\r 66%|██████▌   | 247/373 [02:22<01:10,  1.78it/s]\r 66%|██████▋   | 248/373 [02:22<01:05,  1.90it/s]\r 67%|██████▋   | 249/373 [02:23<01:06,  1.86it/s]\r 67%|██████▋   | 250/373 [02:24<01:05,  1.88it/s]\r 67%|██████▋   | 251/373 [02:24<01:02,  1.95it/s]\r 68%|██████▊   | 252/373 [02:25<01:10,  1.71it/s]\r 68%|██████▊   | 253/373 [02:25<01:11,  1.68it/s]\r 68%|██████▊   | 254/373 [02:26<01:09,  1.71it/s]\r 68%|██████▊   | 255/373 [02:27<01:08,  1.71it/s]\r 69%|██████▊   | 256/373 [02:27<01:07,  1.74it/s]\r 69%|██████▉   | 257/373 [02:28<01:05,  1.77it/s]\r 69%|██████▉   | 258/373 [02:28<01:05,  1.77it/s]\r 69%|██████▉   | 259/373 [02:29<01:06,  1.72it/s]\r 70%|██████▉   | 260/373 [02:29<01:08,  1.65it/s]\r 70%|██████▉   | 261/373 [02:30<01:07,  1.66it/s]\r 70%|███████   | 262/373 [02:31<01:07,  1.65it/s]\r 71%|███████   | 263/373 [02:31<01:05,  1.68it/s]\r 71%|███████   | 264/373 [02:32<01:04,  1.69it/s]\r 71%|███████   | 265/373 [02:32<01:02,  1.72it/s]\r 71%|███████▏  | 266/373 [02:33<01:04,  1.65it/s]\r 72%|███████▏  | 267/373 [02:34<01:02,  1.70it/s]\r 72%|███████▏  | 268/373 [02:34<01:02,  1.68it/s]\r 72%|███████▏  | 269/373 [02:35<01:00,  1.73it/s]\r 72%|███████▏  | 270/373 [02:35<00:57,  1.79it/s]\r 73%|███████▎  | 271/373 [02:36<00:57,  1.77it/s]\r 73%|███████▎  | 272/373 [02:36<00:59,  1.70it/s]\r 73%|███████▎  | 273/373 [02:37<00:58,  1.71it/s]\r 73%|███████▎  | 274/373 [02:38<00:57,  1.71it/s]\r 74%|███████▎  | 275/373 [02:38<01:04,  1.51it/s]\r 74%|███████▍  | 276/373 [02:39<01:03,  1.54it/s]\r 74%|███████▍  | 277/373 [02:40<00:57,  1.67it/s]\r 75%|███████▍  | 278/373 [02:40<00:52,  1.82it/s]\r 75%|███████▍  | 279/373 [02:41<00:52,  1.78it/s]\r 75%|███████▌  | 280/373 [02:41<00:54,  1.70it/s]\r 75%|███████▌  | 281/373 [02:42<00:55,  1.66it/s]\r 76%|███████▌  | 282/373 [02:42<00:54,  1.67it/s]\r 76%|███████▌  | 283/373 [02:43<00:53,  1.69it/s]\r 76%|███████▌  | 284/373 [02:44<00:50,  1.75it/s]\r 76%|███████▋  | 285/373 [02:44<00:47,  1.84it/s]\r 77%|███████▋  | 286/373 [02:45<00:45,  1.90it/s]\r 77%|███████▋  | 287/373 [02:45<00:46,  1.83it/s]\r 77%|███████▋  | 288/373 [02:46<00:45,  1.86it/s]\r 77%|███████▋  | 289/373 [02:46<00:44,  1.89it/s]\r 78%|███████▊  | 290/373 [02:47<00:42,  1.95it/s]\r 78%|███████▊  | 291/373 [02:47<00:43,  1.88it/s]\r 78%|███████▊  | 292/373 [02:48<00:41,  1.95it/s]\r 79%|███████▊  | 293/373 [02:48<00:43,  1.84it/s]\r 79%|███████▉  | 294/373 [02:49<00:43,  1.81it/s]\r 79%|███████▉  | 295/373 [02:49<00:42,  1.83it/s]\r 79%|███████▉  | 296/373 [02:50<00:44,  1.74it/s]\r 80%|███████▉  | 297/373 [02:51<00:43,  1.74it/s]\r 80%|███████▉  | 298/373 [02:51<00:42,  1.77it/s]\r 80%|████████  | 299/373 [02:52<00:41,  1.78it/s]\r 80%|████████  | 300/373 [02:52<00:41,  1.77it/s]\r 81%|████████  | 301/373 [02:53<00:42,  1.69it/s]\r 81%|████████  | 302/373 [02:54<00:42,  1.67it/s]\r 81%|████████  | 303/373 [02:54<00:41,  1.71it/s]\r 82%|████████▏ | 304/373 [02:55<00:42,  1.62it/s]\r 82%|████████▏ | 305/373 [02:55<00:39,  1.71it/s]\r 82%|████████▏ | 306/373 [02:56<00:37,  1.77it/s]\r 82%|████████▏ | 307/373 [02:56<00:38,  1.71it/s]\r 83%|████████▎ | 308/373 [02:57<00:38,  1.68it/s]\r 83%|████████▎ | 309/373 [02:58<00:38,  1.64it/s]\r 83%|████████▎ | 310/373 [02:58<00:37,  1.69it/s]\r 83%|████████▎ | 311/373 [02:59<00:35,  1.75it/s]\r 84%|████████▎ | 312/373 [02:59<00:34,  1.76it/s]\r 84%|████████▍ | 313/373 [03:00<00:32,  1.85it/s]\r 84%|████████▍ | 314/373 [03:00<00:31,  1.86it/s]\r 84%|████████▍ | 315/373 [03:01<00:31,  1.83it/s]\r 85%|████████▍ | 316/373 [03:02<00:32,  1.77it/s]\r 85%|████████▍ | 317/373 [03:02<00:32,  1.73it/s]\r 85%|████████▌ | 318/373 [03:03<00:32,  1.71it/s]\r 86%|████████▌ | 319/373 [03:03<00:30,  1.79it/s]\r 86%|████████▌ | 320/373 [03:04<00:27,  1.92it/s]\r 86%|████████▌ | 321/373 [03:04<00:27,  1.89it/s]\r 86%|████████▋ | 322/373 [03:05<00:29,  1.76it/s]\r 87%|████████▋ | 323/373 [03:05<00:27,  1.83it/s]\r 87%|████████▋ | 324/373 [03:06<00:28,  1.74it/s]\r 87%|████████▋ | 325/373 [03:07<00:27,  1.73it/s]\r 87%|████████▋ | 326/373 [03:07<00:25,  1.82it/s]\r 88%|████████▊ | 327/373 [03:08<00:24,  1.90it/s]\r 88%|████████▊ | 328/373 [03:08<00:25,  1.80it/s]\r 88%|████████▊ | 329/373 [03:09<00:25,  1.74it/s]\r 88%|████████▊ | 330/373 [03:09<00:25,  1.68it/s]\r 89%|████████▊ | 331/373 [03:10<00:26,  1.59it/s]\r 89%|████████▉ | 332/373 [03:11<00:28,  1.45it/s]\r 89%|████████▉ | 333/373 [03:11<00:24,  1.62it/s]\r 90%|████████▉ | 334/373 [03:12<00:22,  1.72it/s]\r 90%|████████▉ | 335/373 [03:13<00:22,  1.71it/s]\r 90%|█████████ | 336/373 [03:13<00:22,  1.66it/s]\r 90%|█████████ | 337/373 [03:14<00:22,  1.60it/s]\r 91%|█████████ | 338/373 [03:14<00:21,  1.61it/s]\r 91%|█████████ | 339/373 [03:15<00:19,  1.74it/s]\r 91%|█████████ | 340/373 [03:15<00:18,  1.79it/s]\r 91%|█████████▏| 341/373 [03:16<00:18,  1.73it/s]\r 92%|█████████▏| 342/373 [03:17<00:18,  1.69it/s]\r 92%|█████████▏| 343/373 [03:17<00:18,  1.66it/s]\r 92%|█████████▏| 344/373 [03:18<00:17,  1.68it/s]\r 92%|█████████▏| 345/373 [03:18<00:15,  1.79it/s]\r 93%|█████████▎| 346/373 [03:19<00:14,  1.92it/s]\r 93%|█████████▎| 347/373 [03:19<00:14,  1.80it/s]\r 93%|█████████▎| 348/373 [03:20<00:14,  1.74it/s]\r 94%|█████████▎| 349/373 [03:21<00:14,  1.71it/s]\r 94%|█████████▍| 350/373 [03:21<00:13,  1.69it/s]\r 94%|█████████▍| 351/373 [03:22<00:13,  1.64it/s]\r 94%|█████████▍| 352/373 [03:22<00:12,  1.73it/s]\r 95%|█████████▍| 353/373 [03:23<00:10,  1.83it/s]\r 95%|█████████▍| 354/373 [03:23<00:09,  1.92it/s]\r 95%|█████████▌| 355/373 [03:24<00:09,  1.83it/s]\r 95%|█████████▌| 356/373 [03:25<00:09,  1.70it/s]\r 96%|█████████▌| 357/373 [03:25<00:09,  1.70it/s]\r 96%|█████████▌| 358/373 [03:26<00:08,  1.76it/s]\r 96%|█████████▌| 359/373 [03:26<00:08,  1.63it/s]\r 97%|█████████▋| 360/373 [03:27<00:07,  1.73it/s]\r 97%|█████████▋| 361/373 [03:27<00:06,  1.81it/s]\r 97%|█████████▋| 362/373 [03:28<00:06,  1.78it/s]\r 97%|█████████▋| 363/373 [03:29<00:05,  1.73it/s]\r 98%|█████████▊| 364/373 [03:29<00:05,  1.68it/s]\r 98%|█████████▊| 365/373 [03:30<00:04,  1.68it/s]\r 98%|█████████▊| 366/373 [03:30<00:03,  1.76it/s]\r 98%|█████████▊| 367/373 [03:31<00:03,  1.81it/s]\r 99%|█████████▊| 368/373 [03:31<00:02,  1.82it/s]\r 99%|█████████▉| 369/373 [03:32<00:02,  1.81it/s]\r 99%|█████████▉| 370/373 [03:33<00:01,  1.78it/s]\r 99%|█████████▉| 371/373 [03:33<00:01,  1.82it/s]\r100%|█████████▉| 372/373 [03:34<00:00,  1.84it/s]\r100%|██████████| 373/373 [03:34<00:00,  1.87it/s]\r100%|██████████| 373/373 [03:34<00:00,  1.74it/s]\n"
     ]
    },
    {
     "output_type": "stream",
     "name": "stdout",
     "output_type": "stream",
     "text": [
      "527\n"
     ]
    },
    {
     "output_type": "stream",
     "name": "stderr",
     "output_type": "stream",
     "text": [
      "\r  0%|          | 0/527 [00:00<?, ?it/s]\r  0%|          | 1/527 [00:00<08:00,  1.10it/s]\r  0%|          | 2/527 [00:02<12:43,  1.45s/it]\r  1%|          | 3/527 [00:04<15:11,  1.74s/it]\r  1%|          | 4/527 [00:06<15:36,  1.79s/it]\r  1%|          | 5/527 [00:08<16:00,  1.84s/it]\r  1%|          | 6/527 [00:10<16:52,  1.94s/it]\r  1%|▏         | 7/527 [00:12<15:27,  1.78s/it]\r  2%|▏         | 8/527 [00:13<13:40,  1.58s/it]\r  2%|▏         | 9/527 [00:14<12:05,  1.40s/it]\r  2%|▏         | 10/527 [00:17<15:30,  1.80s/it]\r  2%|▏         | 11/527 [00:19<17:39,  2.05s/it]\r  2%|▏         | 12/527 [00:22<19:06,  2.23s/it]\r  2%|▏         | 13/527 [00:24<20:01,  2.34s/it]\r  3%|▎         | 14/527 [00:26<18:16,  2.14s/it]\r  3%|▎         | 15/527 [00:27<16:01,  1.88s/it]\r  3%|▎         | 16/527 [00:30<18:18,  2.15s/it]\r  3%|▎         | 17/527 [00:33<19:15,  2.27s/it]\r  3%|▎         | 18/527 [00:35<19:52,  2.34s/it]\r  4%|▎         | 19/527 [00:38<20:31,  2.42s/it]\r  4%|▍         | 20/527 [00:40<20:57,  2.48s/it]\r  4%|▍         | 21/527 [00:43<20:28,  2.43s/it]\r  4%|▍         | 22/527 [00:44<17:29,  2.08s/it]\r  4%|▍         | 23/527 [00:47<19:37,  2.34s/it]\r  5%|▍         | 24/527 [00:49<20:08,  2.40s/it]\r  5%|▍         | 25/527 [00:52<20:40,  2.47s/it]\r  5%|▍         | 26/527 [00:55<21:15,  2.55s/it]\r  5%|▌         | 27/527 [00:57<21:14,  2.55s/it]\r  5%|▌         | 28/527 [00:59<19:52,  2.39s/it]\r  6%|▌         | 29/527 [01:01<16:53,  2.04s/it]\r  6%|▌         | 30/527 [01:04<19:07,  2.31s/it]\r  6%|▌         | 31/527 [01:06<20:22,  2.46s/it]\r  6%|▌         | 32/527 [01:09<21:39,  2.62s/it]\r  6%|▋         | 33/527 [01:12<22:40,  2.75s/it]\r  6%|▋         | 34/527 [01:15<22:44,  2.77s/it]\r  7%|▋         | 35/527 [01:17<20:43,  2.53s/it]\r  7%|▋         | 36/527 [01:18<17:22,  2.12s/it]\r  7%|▋         | 37/527 [01:21<19:12,  2.35s/it]\r  7%|▋         | 38/527 [01:24<20:34,  2.52s/it]\r  7%|▋         | 39/527 [01:27<21:06,  2.60s/it]\r  8%|▊         | 40/527 [01:30<22:19,  2.75s/it]\r  8%|▊         | 41/527 [01:33<22:20,  2.76s/it]\r  8%|▊         | 42/527 [01:35<20:42,  2.56s/it]\r  8%|▊         | 43/527 [01:36<17:12,  2.13s/it]\r  8%|▊         | 44/527 [01:39<19:55,  2.47s/it]\r  9%|▊         | 45/527 [01:42<21:10,  2.64s/it]\r  9%|▊         | 46/527 [01:45<21:20,  2.66s/it]\r  9%|▉         | 47/527 [01:48<21:31,  2.69s/it]\r  9%|▉         | 48/527 [01:51<22:03,  2.76s/it]\r  9%|▉         | 49/527 [01:53<20:28,  2.57s/it]\r  9%|▉         | 50/527 [01:54<17:22,  2.18s/it]\r 10%|▉         | 51/527 [01:57<19:26,  2.45s/it]\r 10%|▉         | 52/527 [02:00<20:31,  2.59s/it]\r 10%|█         | 53/527 [02:03<20:57,  2.65s/it]\r 10%|█         | 54/527 [02:07<23:04,  2.93s/it]\r 10%|█         | 55/527 [02:10<23:46,  3.02s/it]\r 11%|█         | 56/527 [02:12<22:11,  2.83s/it]\r 11%|█         | 57/527 [02:13<18:27,  2.36s/it]\r 11%|█         | 58/527 [02:17<21:09,  2.71s/it]\r 11%|█         | 59/527 [02:20<22:19,  2.86s/it]\r 11%|█▏        | 60/527 [02:23<23:01,  2.96s/it]\r 12%|█▏        | 61/527 [02:27<24:15,  3.12s/it]\r 12%|█▏        | 62/527 [02:30<24:04,  3.11s/it]\r 12%|█▏        | 63/527 [02:32<22:19,  2.89s/it]\r 12%|█▏        | 64/527 [02:34<18:31,  2.40s/it]\r 12%|█▏        | 65/527 [02:37<20:30,  2.66s/it]\r 13%|█▎        | 66/527 [02:40<22:06,  2.88s/it]\r 13%|█▎        | 67/527 [02:43<22:56,  2.99s/it]\r 13%|█▎        | 68/527 [02:47<22:56,  3.00s/it]\r 13%|█▎        | 69/527 [02:50<23:10,  3.04s/it]\r 13%|█▎        | 70/527 [02:52<20:53,  2.74s/it]\r 13%|█▎        | 71/527 [02:53<17:09,  2.26s/it]\r 14%|█▎        | 72/527 [02:56<18:39,  2.46s/it]\r 14%|█▍        | 73/527 [02:59<19:52,  2.63s/it]\r 14%|█▍        | 74/527 [03:02<21:24,  2.84s/it]\r 14%|█▍        | 75/527 [03:05<21:29,  2.85s/it]\r 14%|█▍        | 76/527 [03:08<21:10,  2.82s/it]\r 15%|█▍        | 77/527 [03:10<19:26,  2.59s/it]\r 15%|█▍        | 78/527 [03:11<16:15,  2.17s/it]\r 15%|█▍        | 79/527 [03:12<13:52,  1.86s/it]\r 15%|█▌        | 80/527 [03:15<16:14,  2.18s/it]\r 15%|█▌        | 81/527 [03:18<17:53,  2.41s/it]\r 16%|█▌        | 82/527 [03:21<18:56,  2.55s/it]\r 16%|█▌        | 83/527 [03:24<19:38,  2.65s/it]\r 16%|█▌        | 84/527 [03:26<17:59,  2.44s/it]\r 16%|█▌        | 85/527 [03:27<15:09,  2.06s/it]\r 16%|█▋        | 86/527 [03:30<16:47,  2.28s/it]\r 17%|█▋        | 87/527 [03:33<18:11,  2.48s/it]\r 17%|█▋        | 88/527 [03:35<18:51,  2.58s/it]\r 17%|█▋        | 89/527 [03:38<19:56,  2.73s/it]\r 17%|█▋        | 90/527 [03:41<19:59,  2.75s/it]\r 17%|█▋        | 91/527 [03:43<18:33,  2.55s/it]\r 17%|█▋        | 92/527 [03:45<15:24,  2.13s/it]\r 18%|█▊        | 93/527 [03:47<16:01,  2.21s/it]\r 18%|█▊        | 94/527 [03:49<16:20,  2.26s/it]\r 18%|█▊        | 95/527 [03:52<16:23,  2.28s/it]\r 18%|█▊        | 96/527 [03:53<13:54,  1.94s/it]\r 18%|█▊        | 97/527 [03:54<11:59,  1.67s/it]\r 19%|█▊        | 98/527 [03:55<11:08,  1.56s/it]\r 19%|█▉        | 99/527 [03:56<10:20,  1.45s/it]\r 19%|█▉        | 100/527 [03:59<13:09,  1.85s/it]\r 19%|█▉        | 101/527 [04:02<15:17,  2.15s/it]\r 19%|█▉        | 102/527 [04:05<17:02,  2.41s/it]\r 20%|█▉        | 103/527 [04:08<18:11,  2.57s/it]\r 20%|█▉        | 104/527 [04:11<18:33,  2.63s/it]\r 20%|█▉        | 105/527 [04:13<17:54,  2.55s/it]\r 20%|██        | 106/527 [04:14<15:01,  2.14s/it]\r 20%|██        | 107/527 [04:17<16:18,  2.33s/it]\r 20%|██        | 108/527 [04:20<17:51,  2.56s/it]\r 21%|██        | 109/527 [04:23<18:29,  2.65s/it]\r 21%|██        | 110/527 [04:26<18:57,  2.73s/it]\r 21%|██        | 111/527 [04:29<19:18,  2.78s/it]\r 21%|██▏       | 112/527 [04:31<17:59,  2.60s/it]\r 21%|██▏       | 113/527 [04:32<15:09,  2.20s/it]\r 22%|██▏       | 114/527 [04:35<16:31,  2.40s/it]\r 22%|██▏       | 115/527 [04:38<17:44,  2.58s/it]\r 22%|██▏       | 116/527 [04:42<19:26,  2.84s/it]\r 22%|██▏       | 117/527 [04:44<19:15,  2.82s/it]\r 22%|██▏       | 118/527 [04:47<19:16,  2.83s/it]\r 23%|██▎       | 119/527 [04:49<17:50,  2.62s/it]\r 23%|██▎       | 120/527 [04:51<15:06,  2.23s/it]\r 23%|██▎       | 121/527 [04:52<13:04,  1.93s/it]\r 23%|██▎       | 122/527 [04:55<15:25,  2.29s/it]\r 23%|██▎       | 123/527 [04:58<16:48,  2.50s/it]\r 24%|██▎       | 124/527 [05:01<17:25,  2.59s/it]\r 24%|██▎       | 125/527 [05:04<18:26,  2.75s/it]\r 24%|██▍       | 126/527 [05:06<16:58,  2.54s/it]\r 24%|██▍       | 127/527 [05:07<14:20,  2.15s/it]\r 24%|██▍       | 128/527 [05:10<15:29,  2.33s/it]\r 24%|██▍       | 129/527 [05:13<16:32,  2.49s/it]\r 25%|██▍       | 130/527 [05:16<17:58,  2.72s/it]\r 25%|██▍       | 131/527 [05:19<18:48,  2.85s/it]\r 25%|██▌       | 132/527 [05:22<18:48,  2.86s/it]\r 25%|██▌       | 133/527 [05:24<17:13,  2.62s/it]\r 25%|██▌       | 134/527 [05:25<14:34,  2.23s/it]\r 26%|██▌       | 135/527 [05:28<16:09,  2.47s/it]\r 26%|██▌       | 136/527 [05:31<16:52,  2.59s/it]\r 26%|██▌       | 137/527 [05:34<17:12,  2.65s/it]\r 26%|██▌       | 138/527 [05:37<17:41,  2.73s/it]\r 26%|██▋       | 139/527 [05:40<18:34,  2.87s/it]\r 27%|██▋       | 140/527 [05:42<16:35,  2.57s/it]\r 27%|██▋       | 141/527 [05:43<13:47,  2.14s/it]\r 27%|██▋       | 142/527 [05:44<11:58,  1.87s/it]\r 27%|██▋       | 143/527 [05:48<14:16,  2.23s/it]\r 27%|██▋       | 144/527 [05:51<15:38,  2.45s/it]\r 28%|██▊       | 145/527 [05:54<17:00,  2.67s/it]\r 28%|██▊       | 146/527 [05:56<17:09,  2.70s/it]\r 28%|██▊       | 147/527 [05:59<16:14,  2.57s/it]\r 28%|██▊       | 148/527 [06:00<13:48,  2.18s/it]\r 28%|██▊       | 149/527 [06:03<14:58,  2.38s/it]\r 28%|██▊       | 150/527 [06:06<15:48,  2.52s/it]\r 29%|██▊       | 151/527 [06:09<17:04,  2.73s/it]\r 29%|██▉       | 152/527 [06:12<17:37,  2.82s/it]\r 29%|██▉       | 153/527 [06:15<18:04,  2.90s/it]\r 29%|██▉       | 154/527 [06:17<17:05,  2.75s/it]\r 29%|██▉       | 155/527 [06:19<14:11,  2.29s/it]\r 30%|██▉       | 156/527 [06:22<15:14,  2.46s/it]\r 30%|██▉       | 157/527 [06:25<16:25,  2.66s/it]\r 30%|██▉       | 158/527 [06:28<16:44,  2.72s/it]\r 30%|███       | 159/527 [06:31<17:18,  2.82s/it]\r 30%|███       | 160/527 [06:34<17:36,  2.88s/it]\r 31%|███       | 161/527 [06:36<16:01,  2.63s/it]\r 31%|███       | 162/527 [06:37<13:31,  2.22s/it]\r 31%|███       | 163/527 [06:38<11:34,  1.91s/it]\r 31%|███       | 164/527 [06:41<13:21,  2.21s/it]\r 31%|███▏      | 165/527 [06:44<14:36,  2.42s/it]\r 31%|███▏      | 166/527 [06:47<15:43,  2.61s/it]\r 32%|███▏      | 167/527 [06:50<16:24,  2.73s/it]\r 32%|███▏      | 168/527 [06:52<15:21,  2.57s/it]\r 32%|███▏      | 169/527 [06:53<12:55,  2.17s/it]\r 32%|███▏      | 170/527 [06:55<11:06,  1.87s/it]\r 32%|███▏      | 171/527 [06:58<13:00,  2.19s/it]\r 33%|███▎      | 172/527 [07:01<14:23,  2.43s/it]\r 33%|███▎      | 173/527 [07:03<15:02,  2.55s/it]\r 33%|███▎      | 174/527 [07:06<15:36,  2.65s/it]\r 33%|███▎      | 175/527 [07:08<14:49,  2.53s/it]\r 33%|███▎      | 176/527 [07:10<12:36,  2.15s/it]\r 34%|███▎      | 177/527 [07:12<13:30,  2.32s/it]\r 34%|███▍      | 178/527 [07:15<14:16,  2.45s/it]\r 34%|███▍      | 179/527 [07:18<14:54,  2.57s/it]\r 34%|███▍      | 180/527 [07:21<15:53,  2.75s/it]\r 34%|███▍      | 181/527 [07:24<15:58,  2.77s/it]\r 35%|███▍      | 182/527 [07:26<14:32,  2.53s/it]\r 35%|███▍      | 183/527 [07:27<12:31,  2.19s/it]\r 35%|███▍      | 184/527 [07:29<10:42,  1.87s/it]\r 35%|███▌      | 185/527 [07:31<12:21,  2.17s/it]\r 35%|███▌      | 186/527 [07:34<13:42,  2.41s/it]\r 35%|███▌      | 187/527 [07:37<14:29,  2.56s/it]\r 36%|███▌      | 188/527 [07:40<15:09,  2.68s/it]\r 36%|███▌      | 189/527 [07:42<14:12,  2.52s/it]\r 36%|███▌      | 190/527 [07:44<12:10,  2.17s/it]\r 36%|███▌      | 191/527 [07:47<13:17,  2.37s/it]\r 36%|███▋      | 192/527 [07:49<13:55,  2.49s/it]\r 37%|███▋      | 193/527 [07:52<14:27,  2.60s/it]\r 37%|███▋      | 194/527 [07:55<15:14,  2.75s/it]\r 37%|███▋      | 195/527 [07:58<15:27,  2.79s/it]\r 37%|███▋      | 196/527 [08:01<14:41,  2.66s/it]\r 37%|███▋      | 197/527 [08:02<12:21,  2.25s/it]\r 38%|███▊      | 198/527 [08:05<13:47,  2.52s/it]\r 38%|███▊      | 199/527 [08:08<14:58,  2.74s/it]\r 38%|███▊      | 200/527 [08:11<15:27,  2.84s/it]\r 38%|███▊      | 201/527 [08:13<13:09,  2.42s/it]\r 38%|███▊      | 202/527 [08:16<13:47,  2.55s/it]\r 39%|███▊      | 203/527 [08:18<13:06,  2.43s/it]\r 39%|███▊      | 204/527 [08:19<11:22,  2.11s/it]\r 39%|███▉      | 205/527 [08:22<12:27,  2.32s/it]\r 39%|███▉      | 206/527 [08:25<13:56,  2.61s/it]\r 39%|███▉      | 207/527 [08:28<14:45,  2.77s/it]\r 39%|███▉      | 208/527 [08:31<15:11,  2.86s/it]\r 40%|███▉      | 209/527 [08:35<15:35,  2.94s/it]\r 40%|███▉      | 210/527 [08:37<14:14,  2.70s/it]\r 40%|████      | 211/527 [08:38<11:47,  2.24s/it]\r 40%|████      | 212/527 [08:41<13:23,  2.55s/it]\r 40%|████      | 213/527 [08:44<14:18,  2.73s/it]\r 41%|████      | 214/527 [08:47<14:54,  2.86s/it]\r 41%|████      | 215/527 [08:51<15:11,  2.92s/it]\r 41%|████      | 216/527 [08:57<21:12,  4.09s/it]\r 41%|████      | 217/527 [09:00<18:35,  3.60s/it]\r 41%|████▏     | 218/527 [09:01<15:01,  2.92s/it]\r 42%|████▏     | 219/527 [09:02<12:19,  2.40s/it]\r 42%|████▏     | 220/527 [09:05<13:28,  2.63s/it]\r 42%|████▏     | 221/527 [09:09<14:05,  2.76s/it]\r 42%|████▏     | 222/527 [09:12<14:40,  2.89s/it]\r 42%|████▏     | 223/527 [09:15<15:11,  3.00s/it]\r 43%|████▎     | 224/527 [09:17<14:04,  2.79s/it]\r 43%|████▎     | 225/527 [09:19<11:45,  2.34s/it]\r 43%|████▎     | 226/527 [09:22<13:21,  2.66s/it]\r 43%|████▎     | 227/527 [09:25<14:11,  2.84s/it]\r 43%|████▎     | 228/527 [09:28<14:33,  2.92s/it]\r 43%|████▎     | 229/527 [09:32<14:52,  2.99s/it]\r 44%|████▎     | 230/527 [09:35<14:53,  3.01s/it]\r 44%|████▍     | 231/527 [09:37<13:34,  2.75s/it]\r 44%|████▍     | 232/527 [09:38<11:22,  2.31s/it]\r 44%|████▍     | 233/527 [09:39<09:39,  1.97s/it]\r 44%|████▍     | 234/527 [09:43<11:57,  2.45s/it]\r 45%|████▍     | 235/527 [09:46<13:01,  2.68s/it]\r 45%|████▍     | 236/527 [09:49<13:50,  2.85s/it]\r 45%|████▍     | 237/527 [09:52<14:06,  2.92s/it]\r 45%|████▌     | 238/527 [09:55<13:15,  2.75s/it]\r 45%|████▌     | 239/527 [09:56<11:08,  2.32s/it]\r 46%|████▌     | 240/527 [09:59<12:24,  2.59s/it]\r 46%|████▌     | 241/527 [10:02<13:00,  2.73s/it]\r 46%|████▌     | 242/527 [10:05<13:24,  2.82s/it]\r 46%|████▌     | 243/527 [10:09<14:11,  3.00s/it]\r 46%|████▋     | 244/527 [10:13<15:19,  3.25s/it]\r 46%|████▋     | 245/527 [10:15<14:26,  3.07s/it]\r 47%|████▋     | 246/527 [10:17<12:04,  2.58s/it]\r 47%|████▋     | 247/527 [10:20<13:49,  2.96s/it]\r 47%|████▋     | 248/527 [10:24<14:24,  3.10s/it]\r 47%|████▋     | 249/527 [10:27<14:54,  3.22s/it]\r 47%|████▋     | 250/527 [10:31<15:21,  3.33s/it]\r 48%|████▊     | 251/527 [10:35<15:43,  3.42s/it]\r 48%|████▊     | 252/527 [10:37<14:37,  3.19s/it]\r 48%|████▊     | 253/527 [10:39<12:06,  2.65s/it]\r 48%|████▊     | 254/527 [10:42<13:19,  2.93s/it]\r 48%|████▊     | 255/527 [10:46<14:09,  3.12s/it]\r 49%|████▊     | 256/527 [10:50<14:56,  3.31s/it]\r 49%|████▉     | 257/527 [10:53<14:37,  3.25s/it]\r 49%|████▉     | 258/527 [10:56<14:30,  3.24s/it]\r 49%|████▉     | 259/527 [10:58<13:22,  3.00s/it]\r 49%|████▉     | 260/527 [11:00<11:10,  2.51s/it]\r 50%|████▉     | 261/527 [11:03<11:52,  2.68s/it]\r 50%|████▉     | 262/527 [11:06<12:24,  2.81s/it]\r 50%|████▉     | 263/527 [11:09<13:07,  2.98s/it]\r 50%|█████     | 264/527 [11:13<13:28,  3.07s/it]\r 50%|█████     | 265/527 [11:16<13:54,  3.18s/it]\r 50%|█████     | 266/527 [11:18<12:37,  2.90s/it]\r 51%|█████     | 267/527 [11:20<10:36,  2.45s/it]\r 51%|█████     | 268/527 [11:23<11:28,  2.66s/it]\r 51%|█████     | 269/527 [11:26<12:24,  2.88s/it]\r 51%|█████     | 270/527 [11:29<12:32,  2.93s/it]\r 51%|█████▏    | 271/527 [11:33<13:19,  3.12s/it]\r 52%|█████▏    | 272/527 [11:36<13:12,  3.11s/it]\r 52%|█████▏    | 273/527 [11:38<12:26,  2.94s/it]\r 52%|█████▏    | 274/527 [11:40<10:28,  2.48s/it]\r 52%|█████▏    | 275/527 [11:43<11:10,  2.66s/it]\r 52%|█████▏    | 276/527 [11:46<12:19,  2.94s/it]\r 53%|█████▎    | 277/527 [11:50<12:42,  3.05s/it]\r 53%|█████▎    | 278/527 [11:53<12:49,  3.09s/it]\r 53%|█████▎    | 279/527 [11:56<12:46,  3.09s/it]\r 53%|█████▎    | 280/527 [11:58<11:54,  2.89s/it]\r 53%|█████▎    | 281/527 [12:00<09:53,  2.41s/it]\r 54%|█████▎    | 282/527 [12:03<10:50,  2.66s/it]\r 54%|█████▎    | 283/527 [12:06<11:34,  2.85s/it]\r 54%|█████▍    | 284/527 [12:09<11:54,  2.94s/it]\r 54%|█████▍    | 285/527 [12:12<12:00,  2.98s/it]\r 54%|█████▍    | 286/527 [12:16<12:05,  3.01s/it]\r 54%|█████▍    | 287/527 [12:18<10:59,  2.75s/it]\r 55%|█████▍    | 288/527 [12:19<09:09,  2.30s/it]\r 55%|█████▍    | 289/527 [12:20<07:56,  2.00s/it]\r 55%|█████▌    | 290/527 [12:23<09:16,  2.35s/it]\r 55%|█████▌    | 291/527 [12:27<10:23,  2.64s/it]\r 55%|█████▌    | 292/527 [12:30<10:55,  2.79s/it]\r 56%|█████▌    | 293/527 [12:33<11:41,  3.00s/it]\r 56%|█████▌    | 294/527 [12:36<10:47,  2.78s/it]\r 56%|█████▌    | 295/527 [12:37<09:05,  2.35s/it]\r 56%|█████▌    | 296/527 [12:40<09:56,  2.58s/it]\r 56%|█████▋    | 297/527 [12:43<10:43,  2.80s/it]\r 57%|█████▋    | 298/527 [12:46<10:54,  2.86s/it]\r 57%|█████▋    | 299/527 [12:50<11:21,  2.99s/it]\r 57%|█████▋    | 300/527 [12:53<11:52,  3.14s/it]\r 57%|█████▋    | 301/527 [12:56<10:56,  2.90s/it]\r 57%|█████▋    | 302/527 [12:59<11:09,  2.97s/it]\r 57%|█████▋    | 303/527 [13:02<11:14,  3.01s/it]\r 58%|█████▊    | 304/527 [13:05<11:18,  3.04s/it]\r 58%|█████▊    | 305/527 [13:08<11:16,  3.05s/it]\r 58%|█████▊    | 306/527 [13:11<11:21,  3.09s/it]\r 58%|█████▊    | 307/527 [13:13<10:25,  2.84s/it]\r 58%|█████▊    | 308/527 [13:15<08:42,  2.39s/it]\r 59%|█████▊    | 309/527 [13:16<07:28,  2.06s/it]\r 59%|█████▉    | 310/527 [13:19<08:49,  2.44s/it]\r 59%|█████▉    | 311/527 [13:23<09:48,  2.72s/it]\r 59%|█████▉    | 312/527 [13:26<10:11,  2.84s/it]\r 59%|█████▉    | 313/527 [13:30<11:35,  3.25s/it]\r 60%|█████▉    | 314/527 [13:32<10:24,  2.93s/it]\r 60%|█████▉    | 315/527 [13:34<08:49,  2.50s/it]\r 60%|█████▉    | 316/527 [13:35<07:29,  2.13s/it]\r 60%|██████    | 317/527 [13:39<09:09,  2.61s/it]\r 60%|██████    | 318/527 [13:42<09:35,  2.75s/it]\r 61%|██████    | 319/527 [13:45<09:52,  2.85s/it]\r 61%|██████    | 320/527 [13:48<10:03,  2.92s/it]\r 61%|██████    | 321/527 [13:50<09:25,  2.74s/it]\r 61%|██████    | 322/527 [13:52<07:58,  2.34s/it]\r 61%|██████▏   | 323/527 [13:55<08:59,  2.65s/it]\r 61%|██████▏   | 324/527 [13:58<09:19,  2.75s/it]\r 62%|██████▏   | 325/527 [14:01<09:46,  2.91s/it]\r 62%|██████▏   | 326/527 [14:05<10:04,  3.01s/it]\r 62%|██████▏   | 327/527 [14:08<10:14,  3.07s/it]\r 62%|██████▏   | 328/527 [14:10<09:27,  2.85s/it]\r 62%|██████▏   | 329/527 [14:13<09:45,  2.95s/it]\r 63%|██████▎   | 330/527 [14:16<09:49,  2.99s/it]\r 63%|██████▎   | 331/527 [14:20<10:16,  3.15s/it]\r 63%|██████▎   | 332/527 [14:23<10:08,  3.12s/it]\r 63%|██████▎   | 333/527 [14:26<10:07,  3.13s/it]\r 63%|██████▎   | 334/527 [14:29<09:28,  2.94s/it]\r 64%|██████▎   | 335/527 [14:32<09:41,  3.03s/it]\r 64%|██████▍   | 336/527 [14:35<09:56,  3.12s/it]\r 64%|██████▍   | 337/527 [14:38<09:49,  3.10s/it]\r 64%|██████▍   | 338/527 [14:41<09:47,  3.11s/it]\r 64%|██████▍   | 339/527 [14:43<08:00,  2.56s/it]\r 65%|██████▍   | 340/527 [14:45<07:36,  2.44s/it]\r 65%|██████▍   | 341/527 [14:46<06:41,  2.16s/it]\r 65%|██████▍   | 342/527 [14:49<07:22,  2.39s/it]\r 65%|██████▌   | 343/527 [14:53<08:12,  2.68s/it]\r 65%|██████▌   | 344/527 [14:56<08:35,  2.82s/it]\r 65%|██████▌   | 345/527 [14:59<08:57,  2.95s/it]\r 66%|██████▌   | 346/527 [15:02<08:55,  2.96s/it]\r 66%|██████▌   | 347/527 [15:04<08:20,  2.78s/it]\r 66%|██████▌   | 348/527 [15:06<07:21,  2.47s/it]\r 66%|██████▌   | 349/527 [15:09<07:45,  2.62s/it]\r 66%|██████▋   | 350/527 [15:12<08:08,  2.76s/it]\r 67%|██████▋   | 351/527 [15:15<08:21,  2.85s/it]\r 67%|██████▋   | 352/527 [15:18<08:22,  2.87s/it]\r 67%|██████▋   | 353/527 [15:21<08:28,  2.92s/it]\r 67%|██████▋   | 354/527 [15:23<07:45,  2.69s/it]\r 67%|██████▋   | 355/527 [15:26<07:31,  2.62s/it]\r 68%|██████▊   | 356/527 [15:29<07:34,  2.66s/it]\r 68%|██████▊   | 357/527 [15:31<07:22,  2.60s/it]\r 68%|██████▊   | 358/527 [15:33<07:01,  2.49s/it]\r 68%|██████▊   | 359/527 [15:35<06:14,  2.23s/it]\r 68%|██████▊   | 360/527 [15:36<05:18,  1.91s/it]\r 69%|██████▊   | 361/527 [15:37<04:19,  1.56s/it]\r 69%|██████▊   | 362/527 [15:38<04:21,  1.59s/it]\r 69%|██████▉   | 363/527 [15:41<04:44,  1.74s/it]\r 69%|██████▉   | 364/527 [15:43<04:55,  1.81s/it]\r 69%|██████▉   | 365/527 [15:45<05:05,  1.88s/it]\r 69%|██████▉   | 366/527 [15:46<04:46,  1.78s/it]\r 70%|██████▉   | 367/527 [15:47<04:12,  1.58s/it]\r 70%|██████▉   | 368/527 [15:48<03:45,  1.42s/it]\r 70%|███████   | 369/527 [15:51<04:33,  1.73s/it]\r 70%|███████   | 370/527 [15:53<05:11,  1.99s/it]\r 70%|███████   | 371/527 [15:56<05:40,  2.18s/it]\r 71%|███████   | 372/527 [15:58<05:53,  2.28s/it]\r 71%|███████   | 373/527 [16:01<05:42,  2.23s/it]\r 71%|███████   | 374/527 [16:02<04:54,  1.93s/it]\r 71%|███████   | 375/527 [16:05<05:46,  2.28s/it]\r 71%|███████▏  | 376/527 [16:08<06:07,  2.43s/it]\r 72%|███████▏  | 377/527 [16:10<06:17,  2.52s/it]\r 72%|███████▏  | 378/527 [16:13<06:28,  2.61s/it]\r 72%|███████▏  | 379/527 [16:16<06:32,  2.65s/it]\r 72%|███████▏  | 380/527 [16:18<06:04,  2.48s/it]\r 72%|███████▏  | 381/527 [16:19<05:09,  2.12s/it]\r 72%|███████▏  | 382/527 [16:22<05:40,  2.35s/it]\r 73%|███████▎  | 383/527 [16:25<06:06,  2.55s/it]\r 73%|███████▎  | 384/527 [16:28<06:19,  2.65s/it]\r 73%|███████▎  | 385/527 [16:31<06:18,  2.67s/it]\r 73%|███████▎  | 386/527 [16:34<06:25,  2.74s/it]\r 73%|███████▎  | 387/527 [16:36<05:50,  2.50s/it]\r 74%|███████▎  | 388/527 [16:37<04:53,  2.11s/it]\r 74%|███████▍  | 389/527 [16:40<05:20,  2.32s/it]\r 74%|███████▍  | 390/527 [16:43<05:39,  2.48s/it]\r 74%|███████▍  | 391/527 [16:46<06:00,  2.65s/it]\r 74%|███████▍  | 392/527 [16:49<06:25,  2.86s/it]\r 75%|███████▍  | 393/527 [16:52<06:41,  3.00s/it]\r 75%|███████▍  | 394/527 [16:53<05:29,  2.48s/it]\r 75%|███████▍  | 395/527 [16:57<05:54,  2.68s/it]\r 75%|███████▌  | 396/527 [17:00<06:19,  2.90s/it]\r 75%|███████▌  | 397/527 [17:02<05:50,  2.70s/it]\r 76%|███████▌  | 398/527 [17:04<04:51,  2.26s/it]\r 76%|███████▌  | 399/527 [17:07<05:19,  2.50s/it]\r 76%|███████▌  | 400/527 [17:10<05:41,  2.69s/it]\r 76%|███████▌  | 401/527 [17:13<05:58,  2.84s/it]\r 76%|███████▋  | 402/527 [17:16<06:04,  2.91s/it]\r 76%|███████▋  | 403/527 [17:19<06:12,  3.00s/it]\r 77%|███████▋  | 404/527 [17:21<05:41,  2.78s/it]\r 77%|███████▋  | 405/527 [17:23<04:41,  2.31s/it]\r 77%|███████▋  | 406/527 [17:26<05:13,  2.59s/it]\r 77%|███████▋  | 407/527 [17:29<05:37,  2.81s/it]\r 77%|███████▋  | 408/527 [17:32<05:50,  2.94s/it]\r 78%|███████▊  | 409/527 [17:36<06:13,  3.16s/it]\r 78%|███████▊  | 410/527 [17:39<06:11,  3.18s/it]\r 78%|███████▊  | 411/527 [17:42<05:40,  2.93s/it]\r 78%|███████▊  | 412/527 [17:43<04:41,  2.45s/it]\r 78%|███████▊  | 413/527 [17:46<05:04,  2.67s/it]\r 79%|███████▊  | 414/527 [17:49<05:17,  2.81s/it]\r 79%|███████▊  | 415/527 [17:53<05:33,  2.98s/it]\r 79%|███████▉  | 416/527 [17:56<05:35,  3.03s/it]\r 79%|███████▉  | 417/527 [17:58<05:11,  2.83s/it]\r 79%|███████▉  | 418/527 [18:00<04:23,  2.41s/it]\r 80%|███████▉  | 419/527 [18:03<04:52,  2.71s/it]\r 80%|███████▉  | 420/527 [18:06<05:06,  2.87s/it]\r 80%|███████▉  | 421/527 [18:10<05:14,  2.96s/it]\r 80%|████████  | 422/527 [18:13<05:18,  3.04s/it]\r 80%|████████  | 423/527 [18:16<05:17,  3.06s/it]\r 80%|████████  | 424/527 [18:18<04:49,  2.81s/it]\r 81%|████████  | 425/527 [18:19<04:00,  2.36s/it]\r 81%|████████  | 426/527 [18:23<04:22,  2.60s/it]\r 81%|████████  | 427/527 [18:26<04:40,  2.80s/it]\r 81%|████████  | 428/527 [18:29<04:51,  2.95s/it]\r 81%|████████▏ | 429/527 [18:32<04:51,  2.97s/it]\r 82%|████████▏ | 430/527 [18:35<04:55,  3.05s/it]\r 82%|████████▏ | 431/527 [18:38<04:30,  2.82s/it]\r 82%|████████▏ | 432/527 [18:39<03:47,  2.40s/it]\r 82%|████████▏ | 433/527 [18:42<04:03,  2.59s/it]\r 82%|████████▏ | 434/527 [18:45<04:15,  2.75s/it]\r 83%|████████▎ | 435/527 [18:49<04:28,  2.92s/it]\r 83%|████████▎ | 436/527 [18:52<04:33,  3.01s/it]\r 83%|████████▎ | 437/527 [18:55<04:30,  3.00s/it]\r 83%|████████▎ | 438/527 [18:57<04:06,  2.76s/it]\r 83%|████████▎ | 439/527 [18:58<03:26,  2.34s/it]\r 83%|████████▎ | 440/527 [19:00<02:55,  2.02s/it]\r 84%|████████▎ | 441/527 [19:02<03:08,  2.19s/it]\r 84%|████████▍ | 442/527 [19:05<03:17,  2.33s/it]\r 84%|████████▍ | 443/527 [19:06<02:47,  2.00s/it]\r 84%|████████▍ | 444/527 [19:07<02:23,  1.73s/it]\r 84%|████████▍ | 445/527 [19:09<02:15,  1.65s/it]\r 85%|████████▍ | 446/527 [19:10<02:02,  1.52s/it]\r 85%|████████▍ | 447/527 [19:13<02:39,  2.00s/it]\r 85%|████████▌ | 448/527 [19:16<03:05,  2.34s/it]\r 85%|████████▌ | 449/527 [19:20<03:27,  2.67s/it]\r 85%|████████▌ | 450/527 [19:23<03:35,  2.80s/it]\r 86%|████████▌ | 451/527 [19:26<03:41,  2.91s/it]\r 86%|████████▌ | 452/527 [19:29<03:37,  2.90s/it]\r 86%|████████▌ | 453/527 [19:30<02:59,  2.43s/it]\r 86%|████████▌ | 454/527 [19:33<03:18,  2.72s/it]\r 86%|████████▋ | 455/527 [19:37<03:28,  2.90s/it]\r 87%|████████▋ | 456/527 [19:40<03:29,  2.95s/it]\r 87%|████████▋ | 457/527 [19:43<03:27,  2.96s/it]\r 87%|████████▋ | 458/527 [19:46<03:28,  3.02s/it]\r 87%|████████▋ | 459/527 [19:48<03:11,  2.81s/it]\r 87%|████████▋ | 460/527 [19:50<02:38,  2.36s/it]\r 87%|████████▋ | 461/527 [19:53<02:47,  2.54s/it]\r 88%|████████▊ | 462/527 [19:56<02:56,  2.72s/it]\r 88%|████████▊ | 463/527 [19:59<03:04,  2.88s/it]\r 88%|████████▊ | 464/527 [20:02<03:06,  2.96s/it]\r 88%|████████▊ | 465/527 [20:05<03:05,  3.00s/it]\r 88%|████████▊ | 466/527 [20:07<02:49,  2.78s/it]\r 89%|████████▊ | 467/527 [20:09<02:23,  2.40s/it]\r 89%|████████▉ | 468/527 [20:12<02:37,  2.67s/it]\r 89%|████████▉ | 469/527 [20:15<02:43,  2.81s/it]\r 89%|████████▉ | 470/527 [20:19<02:48,  2.96s/it]\r 89%|████████▉ | 471/527 [20:22<02:48,  3.02s/it]\r 90%|████████▉ | 472/527 [20:25<02:47,  3.04s/it]\r 90%|████████▉ | 473/527 [20:27<02:32,  2.82s/it]\r 90%|████████▉ | 474/527 [20:29<02:06,  2.38s/it]\r 90%|█████████ | 475/527 [20:32<02:19,  2.68s/it]\r 90%|█████████ | 476/527 [20:35<02:28,  2.91s/it]\r 91%|█████████ | 477/527 [20:37<02:04,  2.50s/it]\r 91%|█████████ | 478/527 [20:40<02:13,  2.71s/it]\r 91%|█████████ | 479/527 [20:43<02:14,  2.80s/it]\r 91%|█████████ | 480/527 [20:46<02:06,  2.70s/it]\r 91%|█████████▏| 481/527 [20:47<01:46,  2.32s/it]\r 91%|█████████▏| 482/527 [20:50<01:53,  2.53s/it]\r 92%|█████████▏| 483/527 [20:53<02:00,  2.74s/it]\r 92%|█████████▏| 484/527 [20:56<02:02,  2.86s/it]\r 92%|█████████▏| 485/527 [21:00<02:07,  3.03s/it]\r 92%|█████████▏| 486/527 [21:03<02:06,  3.08s/it]\r 92%|█████████▏| 487/527 [21:04<01:41,  2.54s/it]\r 93%|█████████▎| 488/527 [21:06<01:24,  2.16s/it]\r 93%|█████████▎| 489/527 [21:09<01:34,  2.48s/it]\r 93%|█████████▎| 490/527 [21:12<01:44,  2.82s/it]\r 93%|█████████▎| 491/527 [21:16<01:46,  2.96s/it]\r 93%|█████████▎| 492/527 [21:19<01:48,  3.10s/it]\r 94%|█████████▎| 493/527 [21:22<01:38,  2.89s/it]\r 94%|█████████▎| 494/527 [21:23<01:20,  2.43s/it]\r 94%|█████████▍| 495/527 [21:26<01:23,  2.61s/it]\r 94%|█████████▍| 496/527 [21:30<01:30,  2.91s/it]\r 94%|█████████▍| 497/527 [21:33<01:29,  2.97s/it]\r 94%|█████████▍| 498/527 [21:36<01:26,  2.98s/it]\r 95%|█████████▍| 499/527 [21:38<01:20,  2.88s/it]\r 95%|█████████▍| 500/527 [21:40<01:05,  2.44s/it]\r 95%|█████████▌| 501/527 [21:43<01:08,  2.65s/it]\r 95%|█████████▌| 502/527 [21:46<01:09,  2.80s/it]\r 95%|█████████▌| 503/527 [21:49<01:09,  2.92s/it]\r 96%|█████████▌| 504/527 [21:53<01:11,  3.10s/it]\r 96%|█████████▌| 505/527 [21:56<01:08,  3.11s/it]\r 96%|█████████▌| 506/527 [21:58<01:00,  2.87s/it]\r 96%|█████████▌| 507/527 [22:00<00:48,  2.42s/it]\r 96%|█████████▋| 508/527 [22:01<00:39,  2.07s/it]\r 97%|█████████▋| 509/527 [22:04<00:42,  2.38s/it]\r 97%|█████████▋| 510/527 [22:07<00:44,  2.61s/it]\r 97%|█████████▋| 511/527 [22:10<00:43,  2.74s/it]\r 97%|█████████▋| 512/527 [22:13<00:42,  2.86s/it]\r 97%|█████████▋| 513/527 [22:16<00:38,  2.73s/it]\r 98%|█████████▊| 514/527 [22:17<00:30,  2.31s/it]\r 98%|█████████▊| 515/527 [22:18<00:24,  2.01s/it]\r 98%|█████████▊| 516/527 [22:21<00:25,  2.34s/it]\r 98%|█████████▊| 517/527 [22:24<00:25,  2.55s/it]\r 98%|█████████▊| 518/527 [22:27<00:24,  2.69s/it]\r 98%|█████████▊| 519/527 [22:31<00:22,  2.85s/it]\r 99%|█████████▊| 520/527 [22:33<00:18,  2.66s/it]\r 99%|█████████▉| 521/527 [22:34<00:13,  2.27s/it]\r 99%|█████████▉| 522/527 [22:37<00:12,  2.45s/it]\r 99%|█████████▉| 523/527 [22:40<00:10,  2.71s/it]\r 99%|█████████▉| 524/527 [22:44<00:08,  2.84s/it]\r100%|█████████▉| 525/527 [22:46<00:05,  2.85s/it]\r100%|█████████▉| 526/527 [22:50<00:03,  3.01s/it]\r100%|██████████| 527/527 [22:52<00:00,  2.81s/it]\r100%|██████████| 527/527 [22:52<00:00,  2.60s/it]\n"
     ]
    },
    {
     "output_type": "stream",
     "name": "stdout",
     "output_type": "stream",
     "text": [
      "373\n"
     ]
    },
    {
     "output_type": "stream",
     "name": "stderr",
     "output_type": "stream",
     "text": [
      "\r  0%|          | 0/373 [00:00<?, ?it/s]\r  0%|          | 1/373 [00:03<19:46,  3.19s/it]\r  1%|          | 2/373 [00:06<19:05,  3.09s/it]\r  1%|          | 3/373 [00:08<15:27,  2.51s/it]\r  1%|          | 4/373 [00:11<17:10,  2.79s/it]\r  1%|▏         | 5/373 [00:14<18:24,  3.00s/it]\r  2%|▏         | 6/373 [00:18<19:14,  3.15s/it]\r  2%|▏         | 7/373 [00:20<17:42,  2.90s/it]\r  2%|▏         | 8/373 [00:21<15:01,  2.47s/it]\r  2%|▏         | 9/373 [00:23<13:17,  2.19s/it]\r  3%|▎         | 10/373 [00:26<15:25,  2.55s/it]\r  3%|▎         | 11/373 [00:30<17:22,  2.88s/it]\r  3%|▎         | 12/373 [00:33<18:08,  3.02s/it]\r  3%|▎         | 13/373 [00:37<18:31,  3.09s/it]\r  4%|▍         | 14/373 [00:39<17:38,  2.95s/it]\r  4%|▍         | 15/373 [00:41<15:19,  2.57s/it]\r  4%|▍         | 16/373 [00:42<13:18,  2.24s/it]\r  5%|▍         | 17/373 [00:46<14:54,  2.51s/it]\r  5%|▍         | 18/373 [00:49<15:57,  2.70s/it]\r  5%|▌         | 19/373 [00:52<16:42,  2.83s/it]\r  5%|▌         | 20/373 [00:55<17:03,  2.90s/it]\r  6%|▌         | 21/373 [00:57<16:05,  2.74s/it]\r  6%|▌         | 22/373 [00:59<14:07,  2.41s/it]\r  6%|▌         | 23/373 [01:02<15:29,  2.65s/it]\r  6%|▋         | 24/373 [01:06<16:57,  2.92s/it]\r  7%|▋         | 25/373 [01:09<17:21,  2.99s/it]\r  7%|▋         | 26/373 [01:12<18:02,  3.12s/it]\r  7%|▋         | 27/373 [01:16<18:19,  3.18s/it]\r  8%|▊         | 28/373 [01:18<16:48,  2.92s/it]\r  8%|▊         | 29/373 [01:19<14:23,  2.51s/it]\r  8%|▊         | 30/373 [01:21<12:27,  2.18s/it]\r  8%|▊         | 31/373 [01:24<14:04,  2.47s/it]\r  9%|▊         | 32/373 [01:27<15:05,  2.65s/it]\r  9%|▉         | 33/373 [01:30<16:09,  2.85s/it]\r  9%|▉         | 34/373 [01:33<16:24,  2.90s/it]\r  9%|▉         | 35/373 [01:36<15:22,  2.73s/it]\r 10%|▉         | 36/373 [01:37<13:34,  2.42s/it]\r 10%|▉         | 37/373 [01:41<15:05,  2.69s/it]\r 10%|█         | 38/373 [01:44<15:58,  2.86s/it]\r 10%|█         | 39/373 [01:47<16:43,  3.00s/it]\r 11%|█         | 40/373 [01:51<17:18,  3.12s/it]\r 11%|█         | 41/373 [01:54<17:32,  3.17s/it]\r 11%|█▏        | 42/373 [01:56<16:17,  2.95s/it]\r 12%|█▏        | 43/373 [01:58<14:03,  2.56s/it]\r 12%|█▏        | 44/373 [02:01<15:09,  2.76s/it]\r 12%|█▏        | 45/373 [02:05<16:32,  3.03s/it]\r 12%|█▏        | 46/373 [02:08<16:57,  3.11s/it]\r 13%|█▎        | 47/373 [02:10<14:27,  2.66s/it]\r 13%|█▎        | 48/373 [02:13<15:13,  2.81s/it]\r 13%|█▎        | 49/373 [02:16<14:45,  2.73s/it]\r 13%|█▎        | 50/373 [02:17<12:54,  2.40s/it]\r 14%|█▎        | 51/373 [02:20<14:13,  2.65s/it]\r 14%|█▍        | 52/373 [02:24<15:22,  2.87s/it]\r 14%|█▍        | 53/373 [02:27<16:24,  3.08s/it]\r 14%|█▍        | 54/373 [02:31<17:21,  3.26s/it]\r 15%|█▍        | 55/373 [02:34<17:17,  3.26s/it]\r 15%|█▌        | 56/373 [02:37<15:57,  3.02s/it]\r 15%|█▌        | 57/373 [02:38<13:32,  2.57s/it]\r 16%|█▌        | 58/373 [02:42<14:33,  2.77s/it]\r 16%|█▌        | 59/373 [02:45<15:40,  2.99s/it]\r 16%|█▌        | 60/373 [02:49<16:20,  3.13s/it]\r 16%|█▋        | 61/373 [02:52<16:48,  3.23s/it]\r 17%|█▋        | 62/373 [02:55<16:56,  3.27s/it]\r 17%|█▋        | 63/373 [02:58<15:50,  3.07s/it]\r 17%|█▋        | 64/373 [03:00<13:45,  2.67s/it]\r 17%|█▋        | 65/373 [03:01<11:53,  2.32s/it]\r 18%|█▊        | 66/373 [03:05<14:00,  2.74s/it]\r 18%|█▊        | 67/373 [03:09<15:20,  3.01s/it]\r 18%|█▊        | 68/373 [03:12<16:18,  3.21s/it]\r 18%|█▊        | 69/373 [03:16<16:54,  3.34s/it]\r 19%|█▉        | 70/373 [03:17<13:51,  2.75s/it]\r 19%|█▉        | 71/373 [03:19<12:21,  2.45s/it]\r 19%|█▉        | 72/373 [03:22<13:34,  2.71s/it]\r 20%|█▉        | 73/373 [03:26<15:06,  3.02s/it]\r 20%|█▉        | 74/373 [03:30<15:43,  3.15s/it]\r 20%|██        | 75/373 [03:33<15:50,  3.19s/it]\r 20%|██        | 76/373 [03:36<16:13,  3.28s/it]\r 21%|██        | 77/373 [03:39<14:50,  3.01s/it]\r 21%|██        | 78/373 [03:40<12:46,  2.60s/it]\r 21%|██        | 79/373 [03:42<11:15,  2.30s/it]\r 21%|██▏       | 80/373 [03:45<12:51,  2.63s/it]\r 22%|██▏       | 81/373 [03:49<13:55,  2.86s/it]\r 22%|██▏       | 82/373 [03:52<14:40,  3.02s/it]\r 22%|██▏       | 83/373 [03:56<15:22,  3.18s/it]\r 23%|██▎       | 84/373 [03:58<14:13,  2.95s/it]\r 23%|██▎       | 85/373 [04:00<12:19,  2.57s/it]\r 23%|██▎       | 86/373 [04:03<13:20,  2.79s/it]\r 23%|██▎       | 87/373 [04:07<14:16,  2.99s/it]\r 24%|██▎       | 88/373 [04:10<14:46,  3.11s/it]\r 24%|██▍       | 89/373 [04:13<15:05,  3.19s/it]\r 24%|██▍       | 90/373 [04:17<15:26,  3.27s/it]\r 24%|██▍       | 91/373 [04:19<14:27,  3.07s/it]\r 25%|██▍       | 92/373 [04:21<12:34,  2.68s/it]\r 25%|██▍       | 93/373 [04:25<13:41,  2.93s/it]\r 25%|██▌       | 94/373 [04:28<14:22,  3.09s/it]\r 25%|██▌       | 95/373 [04:31<14:39,  3.16s/it]\r 26%|██▌       | 96/373 [04:35<14:57,  3.24s/it]\r 26%|██▌       | 97/373 [04:38<15:22,  3.34s/it]\r 26%|██▋       | 98/373 [04:40<12:48,  2.80s/it]\r 27%|██▋       | 99/373 [04:42<11:12,  2.45s/it]\r 27%|██▋       | 100/373 [04:45<12:28,  2.74s/it]\r 27%|██▋       | 101/373 [04:48<13:13,  2.92s/it]\r 27%|██▋       | 102/373 [04:52<13:54,  3.08s/it]\r 28%|██▊       | 103/373 [04:55<14:19,  3.18s/it]\r 28%|██▊       | 104/373 [04:59<14:51,  3.31s/it]\r 28%|██▊       | 105/373 [05:01<13:44,  3.07s/it]\r 28%|██▊       | 106/373 [05:03<11:48,  2.65s/it]\r 29%|██▊       | 107/373 [05:06<12:47,  2.88s/it]\r 29%|██▉       | 108/373 [05:10<13:46,  3.12s/it]\r 29%|██▉       | 109/373 [05:14<14:23,  3.27s/it]\r 29%|██▉       | 110/373 [05:18<15:05,  3.44s/it]\r 30%|██▉       | 111/373 [05:21<15:08,  3.47s/it]\r 30%|███       | 112/373 [05:24<14:10,  3.26s/it]\r 30%|███       | 113/373 [05:26<12:11,  2.81s/it]\r 31%|███       | 114/373 [05:29<12:38,  2.93s/it]\r 31%|███       | 115/373 [05:32<13:04,  3.04s/it]\r 31%|███       | 116/373 [05:35<13:14,  3.09s/it]\r 31%|███▏      | 117/373 [05:39<13:50,  3.25s/it]\r 32%|███▏      | 118/373 [05:42<13:57,  3.28s/it]\r 32%|███▏      | 119/373 [05:45<12:56,  3.06s/it]\r 32%|███▏      | 120/373 [05:47<11:16,  2.68s/it]\r 32%|███▏      | 121/373 [05:50<12:11,  2.90s/it]\r 33%|███▎      | 122/373 [05:54<12:54,  3.09s/it]\r 33%|███▎      | 123/373 [05:57<13:14,  3.18s/it]\r 33%|███▎      | 124/373 [06:01<13:40,  3.29s/it]\r 34%|███▎      | 125/373 [06:04<14:00,  3.39s/it]\r 34%|███▍      | 126/373 [06:07<12:49,  3.11s/it]\r 34%|███▍      | 127/373 [06:08<11:03,  2.70s/it]\r 34%|███▍      | 128/373 [06:12<11:47,  2.89s/it]\r 35%|███▍      | 129/373 [06:15<12:15,  3.01s/it]\r 35%|███▍      | 130/373 [06:18<12:29,  3.08s/it]\r 35%|███▌      | 131/373 [06:21<12:29,  3.10s/it]\r 35%|███▌      | 132/373 [06:25<12:28,  3.11s/it]\r 36%|███▌      | 133/373 [06:27<11:33,  2.89s/it]\r 36%|███▌      | 134/373 [06:29<10:02,  2.52s/it]\r 36%|███▌      | 135/373 [06:30<09:09,  2.31s/it]\r 36%|███▋      | 136/373 [06:34<10:30,  2.66s/it]\r 37%|███▋      | 137/373 [06:38<11:39,  2.97s/it]\r 37%|███▋      | 138/373 [06:41<12:38,  3.23s/it]\r 37%|███▋      | 139/373 [06:45<12:54,  3.31s/it]\r 38%|███▊      | 140/373 [06:48<12:06,  3.12s/it]\r 38%|███▊      | 141/373 [06:49<10:23,  2.69s/it]\r 38%|███▊      | 142/373 [06:53<11:32,  3.00s/it]\r 38%|███▊      | 143/373 [06:57<12:34,  3.28s/it]\r 39%|███▊      | 144/373 [07:00<12:38,  3.31s/it]\r 39%|███▉      | 145/373 [07:04<12:40,  3.33s/it]\r 39%|███▉      | 146/373 [07:07<12:31,  3.31s/it]\r 39%|███▉      | 147/373 [07:10<11:38,  3.09s/it]\r 40%|███▉      | 148/373 [07:13<12:01,  3.21s/it]\r 40%|███▉      | 149/373 [07:16<12:16,  3.29s/it]\r 40%|████      | 150/373 [07:20<12:30,  3.36s/it]\r 40%|████      | 151/373 [07:23<12:26,  3.36s/it]\r 41%|████      | 152/373 [07:27<12:36,  3.42s/it]\r 41%|████      | 153/373 [07:30<11:42,  3.19s/it]\r 41%|████▏     | 154/373 [07:31<10:02,  2.75s/it]\r 42%|████▏     | 155/373 [07:33<08:51,  2.44s/it]\r 42%|████▏     | 156/373 [07:37<10:08,  2.81s/it]\r 42%|████▏     | 157/373 [07:40<11:01,  3.06s/it]\r 42%|████▏     | 158/373 [07:44<11:10,  3.12s/it]\r 43%|████▎     | 159/373 [07:47<11:24,  3.20s/it]\r 43%|████▎     | 160/373 [07:50<10:39,  3.00s/it]\r 43%|████▎     | 161/373 [07:51<09:11,  2.60s/it]\r 43%|████▎     | 162/373 [07:53<08:19,  2.37s/it]\r 44%|████▎     | 163/373 [07:57<09:32,  2.73s/it]\r 44%|████▍     | 164/373 [08:00<10:18,  2.96s/it]\r 44%|████▍     | 165/373 [08:04<10:43,  3.09s/it]\r 45%|████▍     | 166/373 [08:07<11:03,  3.21s/it]\r 45%|████▍     | 167/373 [08:10<10:26,  3.04s/it]\r 45%|████▌     | 168/373 [08:11<09:03,  2.65s/it]\r 45%|████▌     | 169/373 [08:15<09:38,  2.84s/it]\r 46%|████▌     | 170/373 [08:18<10:09,  3.00s/it]\r 46%|████▌     | 171/373 [08:22<10:39,  3.16s/it]\r 46%|████▌     | 172/373 [08:25<10:43,  3.20s/it]\r 46%|████▋     | 173/373 [08:28<10:47,  3.24s/it]\r 47%|████▋     | 174/373 [08:31<09:58,  3.01s/it]\r 47%|████▋     | 175/373 [08:34<10:21,  3.14s/it]\r 47%|████▋     | 176/373 [08:38<10:42,  3.26s/it]\r 47%|████▋     | 177/373 [08:41<10:38,  3.26s/it]\r 48%|████▊     | 178/373 [08:44<10:46,  3.32s/it]\r 48%|████▊     | 179/373 [08:48<11:05,  3.43s/it]\r 48%|████▊     | 180/373 [08:51<10:21,  3.22s/it]\r 49%|████▊     | 181/373 [08:54<10:32,  3.29s/it]\r 49%|████▉     | 182/373 [08:58<10:33,  3.31s/it]\r 49%|████▉     | 183/373 [09:01<10:35,  3.34s/it]\r 49%|████▉     | 184/373 [09:04<10:19,  3.28s/it]\r 50%|████▉     | 185/373 [09:06<08:52,  2.83s/it]\r 50%|████▉     | 186/373 [09:08<08:23,  2.69s/it]\r 50%|█████     | 187/373 [09:10<07:38,  2.46s/it]\r 50%|█████     | 188/373 [09:13<08:19,  2.70s/it]\r 51%|█████     | 189/373 [09:17<08:49,  2.88s/it]\r 51%|█████     | 190/373 [09:20<09:14,  3.03s/it]\r 51%|█████     | 191/373 [09:23<09:19,  3.08s/it]\r 51%|█████▏    | 192/373 [09:27<09:24,  3.12s/it]\r 52%|█████▏    | 193/373 [09:29<08:58,  2.99s/it]\r 52%|█████▏    | 194/373 [09:31<07:55,  2.66s/it]\r 52%|█████▏    | 195/373 [09:34<08:15,  2.78s/it]\r 53%|█████▎    | 196/373 [09:37<08:34,  2.91s/it]\r 53%|█████▎    | 197/373 [09:41<08:44,  2.98s/it]\r 53%|█████▎    | 198/373 [09:44<08:55,  3.06s/it]\r 53%|█████▎    | 199/373 [09:47<08:58,  3.09s/it]\r 54%|█████▎    | 200/373 [09:49<08:16,  2.87s/it]\r 54%|█████▍    | 201/373 [09:52<08:06,  2.83s/it]\r 54%|█████▍    | 202/373 [09:55<08:06,  2.85s/it]\r 54%|█████▍    | 203/373 [09:58<08:02,  2.84s/it]\r 55%|█████▍    | 204/373 [10:00<07:51,  2.79s/it]\r 55%|█████▍    | 205/373 [10:02<07:03,  2.52s/it]\r 55%|█████▌    | 206/373 [10:04<06:04,  2.18s/it]\r 55%|█████▌    | 207/373 [10:05<05:04,  1.83s/it]\r 56%|█████▌    | 208/373 [10:07<05:15,  1.91s/it]\r 56%|█████▌    | 209/373 [10:09<05:34,  2.04s/it]\r 56%|█████▋    | 210/373 [10:12<05:55,  2.18s/it]\r 57%|█████▋    | 211/373 [10:14<06:06,  2.26s/it]\r 57%|█████▋    | 212/373 [10:16<05:54,  2.20s/it]\r 57%|█████▋    | 213/373 [10:18<05:44,  2.15s/it]\r 57%|█████▋    | 214/373 [10:20<05:11,  1.96s/it]\r 58%|█████▊    | 215/373 [10:23<05:49,  2.21s/it]\r 58%|█████▊    | 216/373 [10:25<06:18,  2.41s/it]\r 58%|█████▊    | 217/373 [10:28<06:39,  2.56s/it]\r 58%|█████▊    | 218/373 [10:31<06:54,  2.67s/it]\r 59%|█████▊    | 219/373 [10:33<06:28,  2.52s/it]\r 59%|█████▉    | 220/373 [10:35<05:41,  2.23s/it]\r 59%|█████▉    | 221/373 [10:38<06:12,  2.45s/it]\r 60%|█████▉    | 222/373 [10:41<06:39,  2.64s/it]\r 60%|█████▉    | 223/373 [10:44<06:56,  2.78s/it]\r 60%|██████    | 224/373 [10:47<07:08,  2.87s/it]\r 60%|██████    | 225/373 [10:50<07:13,  2.93s/it]\r 61%|██████    | 226/373 [10:53<06:52,  2.80s/it]\r 61%|██████    | 227/373 [10:54<05:51,  2.41s/it]\r 61%|██████    | 228/373 [10:57<06:21,  2.63s/it]\r 61%|██████▏   | 229/373 [11:01<06:44,  2.81s/it]\r 62%|██████▏   | 230/373 [11:04<07:04,  2.97s/it]\r 62%|██████▏   | 231/373 [11:07<07:05,  3.00s/it]\r 62%|██████▏   | 232/373 [11:10<07:09,  3.05s/it]\r 62%|██████▏   | 233/373 [11:13<06:43,  2.88s/it]\r 63%|██████▎   | 234/373 [11:14<05:46,  2.49s/it]\r 63%|██████▎   | 235/373 [11:18<06:19,  2.75s/it]\r 63%|██████▎   | 236/373 [11:21<06:38,  2.91s/it]\r 64%|██████▎   | 237/373 [11:24<06:53,  3.04s/it]\r 64%|██████▍   | 238/373 [11:28<07:19,  3.26s/it]\r 64%|██████▍   | 239/373 [11:32<07:34,  3.39s/it]\r 64%|██████▍   | 240/373 [11:33<06:19,  2.85s/it]\r 65%|██████▍   | 241/373 [11:37<06:42,  3.05s/it]\r 65%|██████▍   | 242/373 [11:40<06:55,  3.17s/it]\r 65%|██████▌   | 243/373 [11:43<06:29,  3.00s/it]\r 65%|██████▌   | 244/373 [11:45<05:36,  2.61s/it]\r 66%|██████▌   | 245/373 [11:49<06:35,  3.09s/it]\r 66%|██████▌   | 246/373 [11:52<06:47,  3.21s/it]\r 66%|██████▌   | 247/373 [11:56<06:56,  3.31s/it]\r 66%|██████▋   | 248/373 [11:59<06:38,  3.19s/it]\r 67%|██████▋   | 249/373 [12:02<06:41,  3.24s/it]\r 67%|██████▋   | 250/373 [12:05<06:11,  3.02s/it]\r 67%|██████▋   | 251/373 [12:06<05:15,  2.59s/it]\r 68%|██████▊   | 252/373 [12:10<05:52,  2.91s/it]\r 68%|██████▊   | 253/373 [12:14<06:16,  3.14s/it]\r 68%|██████▊   | 254/373 [12:17<06:28,  3.26s/it]\r 68%|██████▊   | 255/373 [12:21<06:34,  3.34s/it]\r 69%|██████▊   | 256/373 [12:24<06:41,  3.43s/it]\r 69%|██████▉   | 257/373 [12:27<06:05,  3.15s/it]\r 69%|██████▉   | 258/373 [12:28<05:08,  2.68s/it]\r 69%|██████▉   | 259/373 [12:32<05:39,  2.98s/it]\r 70%|██████▉   | 260/373 [12:35<05:54,  3.14s/it]\r 70%|██████▉   | 261/373 [12:39<06:01,  3.23s/it]\r 70%|███████   | 262/373 [12:43<06:18,  3.41s/it]\r 71%|███████   | 263/373 [12:45<05:26,  2.97s/it]\r 71%|███████   | 264/373 [12:46<04:42,  2.59s/it]\r 71%|███████   | 265/373 [12:50<05:03,  2.81s/it]\r 71%|███████▏  | 266/373 [12:53<05:24,  3.03s/it]\r 72%|███████▏  | 267/373 [12:57<05:33,  3.15s/it]\r 72%|███████▏  | 268/373 [13:00<05:42,  3.26s/it]\r 72%|███████▏  | 269/373 [13:04<05:51,  3.38s/it]\r 72%|███████▏  | 270/373 [13:07<05:27,  3.18s/it]\r 73%|███████▎  | 271/373 [13:08<04:37,  2.72s/it]\r 73%|███████▎  | 272/373 [13:12<05:08,  3.05s/it]\r 73%|███████▎  | 273/373 [13:16<05:24,  3.25s/it]\r 73%|███████▎  | 274/373 [13:19<05:32,  3.36s/it]\r 74%|███████▎  | 275/373 [13:23<05:36,  3.44s/it]\r 74%|███████▍  | 276/373 [13:27<05:35,  3.46s/it]\r 74%|███████▍  | 277/373 [13:29<05:05,  3.19s/it]\r 75%|███████▍  | 278/373 [13:31<04:17,  2.71s/it]\r 75%|███████▍  | 279/373 [13:34<04:39,  2.97s/it]\r 75%|███████▌  | 280/373 [13:38<04:49,  3.11s/it]\r 75%|███████▌  | 281/373 [13:41<04:53,  3.19s/it]\r 76%|███████▌  | 282/373 [13:45<04:58,  3.28s/it]\r 76%|███████▌  | 283/373 [13:48<05:04,  3.38s/it]\r 76%|███████▌  | 284/373 [13:51<04:36,  3.10s/it]\r 76%|███████▋  | 285/373 [13:52<03:54,  2.66s/it]\r 77%|███████▋  | 286/373 [13:54<03:24,  2.35s/it]\r 77%|███████▋  | 287/373 [13:57<03:37,  2.52s/it]\r 77%|███████▋  | 288/373 [14:00<03:39,  2.58s/it]\r 77%|███████▋  | 289/373 [14:01<03:07,  2.23s/it]\r 78%|███████▊  | 290/373 [14:02<02:46,  2.01s/it]\r 78%|███████▊  | 291/373 [14:04<02:39,  1.95s/it]\r 78%|███████▊  | 292/373 [14:06<02:26,  1.80s/it]\r 79%|███████▊  | 293/373 [14:09<03:00,  2.26s/it]\r 79%|███████▉  | 294/373 [14:13<03:27,  2.63s/it]\r 79%|███████▉  | 295/373 [14:16<03:47,  2.91s/it]\r 79%|███████▉  | 296/373 [14:19<03:54,  3.05s/it]\r 80%|███████▉  | 297/373 [14:23<04:00,  3.17s/it]\r 80%|███████▉  | 298/373 [14:26<03:45,  3.00s/it]\r 80%|████████  | 299/373 [14:27<03:11,  2.58s/it]\r 80%|████████  | 300/373 [14:31<03:28,  2.86s/it]\r 81%|████████  | 301/373 [14:34<03:36,  3.01s/it]\r 81%|████████  | 302/373 [14:37<03:40,  3.10s/it]\r 81%|████████  | 303/373 [14:41<03:42,  3.18s/it]\r 82%|████████▏ | 304/373 [14:44<03:46,  3.28s/it]\r 82%|████████▏ | 305/373 [14:47<03:28,  3.07s/it]\r 82%|████████▏ | 306/373 [14:48<02:57,  2.65s/it]\r 82%|████████▏ | 307/373 [14:52<03:08,  2.86s/it]\r 83%|████████▎ | 308/373 [14:56<03:24,  3.14s/it]\r 83%|████████▎ | 309/373 [14:59<03:26,  3.23s/it]\r 83%|████████▎ | 310/373 [15:02<03:25,  3.25s/it]\r 83%|████████▎ | 311/373 [15:06<03:25,  3.31s/it]\r 84%|████████▎ | 312/373 [15:08<03:08,  3.09s/it]\r 84%|████████▍ | 313/373 [15:10<02:37,  2.63s/it]\r 84%|████████▍ | 314/373 [15:14<02:54,  2.96s/it]\r 84%|████████▍ | 315/373 [15:17<02:59,  3.10s/it]\r 85%|████████▍ | 316/373 [15:20<03:01,  3.18s/it]\r 85%|████████▍ | 317/373 [15:24<03:02,  3.25s/it]\r 85%|████████▌ | 318/373 [15:27<03:02,  3.31s/it]\r 86%|████████▌ | 319/373 [15:30<02:46,  3.09s/it]\r 86%|████████▌ | 320/373 [15:32<02:23,  2.70s/it]\r 86%|████████▌ | 321/373 [15:35<02:33,  2.94s/it]\r 86%|████████▋ | 322/373 [15:39<02:41,  3.17s/it]\r 87%|████████▋ | 323/373 [15:41<02:19,  2.80s/it]\r 87%|████████▋ | 324/373 [15:44<02:27,  3.01s/it]\r 87%|████████▋ | 325/373 [15:48<02:30,  3.13s/it]\r 87%|████████▋ | 326/373 [15:50<02:19,  2.96s/it]\r 88%|████████▊ | 327/373 [15:52<01:57,  2.56s/it]\r 88%|████████▊ | 328/373 [15:55<02:05,  2.79s/it]\r 88%|████████▊ | 329/373 [15:59<02:11,  2.99s/it]\r 88%|████████▊ | 330/373 [16:02<02:14,  3.14s/it]\r 89%|████████▊ | 331/373 [16:06<02:16,  3.25s/it]\r 89%|████████▉ | 332/373 [16:09<02:14,  3.28s/it]\r 89%|████████▉ | 333/373 [16:11<01:50,  2.77s/it]\r 90%|████████▉ | 334/373 [16:12<01:34,  2.43s/it]\r 90%|████████▉ | 335/373 [16:16<01:45,  2.77s/it]\r 90%|█████████ | 336/373 [16:19<01:49,  2.97s/it]\r 90%|█████████ | 337/373 [16:23<01:52,  3.12s/it]\r 91%|█████████ | 338/373 [16:26<01:55,  3.31s/it]\r 91%|█████████ | 339/373 [16:29<01:46,  3.12s/it]\r 91%|█████████ | 340/373 [16:31<01:29,  2.71s/it]\r 91%|█████████▏| 341/373 [16:34<01:33,  2.93s/it]\r 92%|█████████▏| 342/373 [16:38<01:36,  3.12s/it]\r 92%|█████████▏| 343/373 [16:41<01:35,  3.20s/it]\r 92%|█████████▏| 344/373 [16:45<01:34,  3.27s/it]\r 92%|█████████▏| 345/373 [16:47<01:24,  3.03s/it]\r 93%|█████████▎| 346/373 [16:49<01:10,  2.63s/it]\r 93%|█████████▎| 347/373 [16:52<01:14,  2.87s/it]\r 93%|█████████▎| 348/373 [16:56<01:15,  3.01s/it]\r 94%|█████████▎| 349/373 [16:59<01:14,  3.12s/it]\r 94%|█████████▍| 350/373 [17:02<01:12,  3.17s/it]\r 94%|█████████▍| 351/373 [17:06<01:13,  3.34s/it]\r 94%|█████████▍| 352/373 [17:09<01:05,  3.11s/it]\r 95%|█████████▍| 353/373 [17:10<00:53,  2.69s/it]\r 95%|█████████▍| 354/373 [17:12<00:45,  2.41s/it]\r 95%|█████████▌| 355/373 [17:15<00:48,  2.70s/it]\r 95%|█████████▌| 356/373 [17:19<00:51,  3.01s/it]\r 96%|█████████▌| 357/373 [17:23<00:50,  3.16s/it]\r 96%|█████████▌| 358/373 [17:26<00:49,  3.33s/it]\r 96%|█████████▌| 359/373 [17:29<00:43,  3.12s/it]\r 97%|█████████▋| 360/373 [17:31<00:34,  2.64s/it]\r 97%|█████████▋| 361/373 [17:32<00:27,  2.33s/it]\r 97%|█████████▋| 362/373 [17:36<00:29,  2.67s/it]\r 97%|█████████▋| 363/373 [17:39<00:28,  2.90s/it]\r 98%|█████████▊| 364/373 [17:43<00:27,  3.07s/it]\r 98%|█████████▊| 365/373 [17:46<00:25,  3.13s/it]\r 98%|█████████▊| 366/373 [17:48<00:20,  2.96s/it]\r 98%|█████████▊| 367/373 [17:50<00:15,  2.58s/it]\r 99%|█████████▊| 368/373 [17:53<00:13,  2.76s/it]\r 99%|█████████▉| 369/373 [17:56<00:11,  2.88s/it]\r 99%|█████████▉| 370/373 [18:00<00:09,  3.03s/it]\r 99%|█████████▉| 371/373 [18:03<00:06,  3.13s/it]\r100%|█████████▉| 372/373 [18:06<00:03,  3.19s/it]\r100%|██████████| 373/373 [18:09<00:00,  2.98s/it]\r100%|██████████| 373/373 [18:09<00:00,  2.92s/it]\n"
     ]
    }
   ],
   "source": [
    "\n",
    "raw2020_dir = path + '/Workspace/Raw/since2020/'\n",
    "\n",
    "# Validaciones\n",
    "for d in ['ValidacionDual/', 'ValidacionTroncal/', 'ValidacionZonal/']:\n",
    "    files = [f.name for f in dbutils.fs.ls(path + \"/Data/\" + d) ]\n",
    "    vfiles = [f for f in files if 'validacion' in f]\n",
    "    print(len(vfiles))\n",
    "    \n",
    "    for f in tqdm(vfiles):\n",
    "        dbutils.fs.cp(path + \"/Data/\" + d + f, \n",
    "                      path + '/Workspace/Raw/since2020/'+ d + f)"
   ]
  },
  {
   "cell_type": "markdown",
   "metadata": {
    "application/vnd.databricks.v1+cell": {
     "cellMetadata": {
      "byteLimit": 2048000,
      "rowLimit": 10000
     },
     "inputWidgets": {},
     "nuid": "5c3232e3-7217-4ac9-a1be-2b35b995b60e",
     "showTitle": false,
     "title": ""
    }
   },
   "source": [
    "**2. Move from ingestion point (Documents folder)**"
   ]
  },
  {
   "cell_type": "code",
   "execution_count": 0,
   "metadata": {
    "application/vnd.databricks.v1+cell": {
     "cellMetadata": {
      "byteLimit": 2048000,
      "rowLimit": 10000
     },
     "inputWidgets": {},
     "nuid": "519bb298-9d3f-47ce-b988-48ca7defeba5",
     "showTitle": false,
     "title": ""
    }
   },
   "outputs": [],
   "source": [
    "dic_d =  {'ValidacionZonal/'   : \"Zonal2023/\"   ,\n",
    "          'ValidacionZonal/'   : \"Zonal2022/\"   ,\n",
    "          'ValidacionZonal/'   : \"Zonal2021/\"   ,\n",
    "          'ValidacionZonal/'   : \"Zonal2020/\"   ,\n",
    "          'ValidacionTroncal/' : \"Troncal2023/\" ,\n",
    "          'ValidacionTroncal/' : \"Troncal2022/\" ,\n",
    "          'ValidacionTroncal/' : \"Troncal2021/\" ,\n",
    "          'ValidacionTroncal/' : \"Troncal2020/\" ,\n",
    "          'ValidacionDual/'    : \"Dual2023/\"    ,\n",
    "          'ValidacionDual/'    : \"Dual2022/\"    ,\n",
    "          'ValidacionDual/'    : \"Dual2021/\"    ,\n",
    "          'ValidacionDual/'    : \"Dual2020/\"    }"
   ]
  },
  {
   "cell_type": "code",
   "execution_count": 0,
   "metadata": {
    "application/vnd.databricks.v1+cell": {
     "cellMetadata": {
      "byteLimit": 2048000,
      "rowLimit": 10000
     },
     "inputWidgets": {},
     "nuid": "98f81f0c-279a-42be-9e90-9f55fb70f8bc",
     "showTitle": false,
     "title": ""
    }
   },
   "outputs": [
    {
     "output_type": "stream",
     "name": "stdout",
     "output_type": "stream",
     "text": [
      "366\n"
     ]
    },
    {
     "output_type": "stream",
     "name": "stderr",
     "output_type": "stream",
     "text": [
      "\r  0%|          | 0/366 [00:00<?, ?it/s]\r  0%|          | 1/366 [00:00<02:43,  2.23it/s]\r  1%|          | 2/366 [00:01<03:06,  1.96it/s]\r  1%|          | 3/366 [00:01<03:18,  1.83it/s]\r  1%|          | 4/366 [00:02<03:09,  1.91it/s]\r  1%|▏         | 5/366 [00:02<03:05,  1.94it/s]\r  2%|▏         | 6/366 [00:03<02:55,  2.05it/s]\r  2%|▏         | 7/366 [00:03<03:01,  1.98it/s]\r  2%|▏         | 8/366 [00:04<03:05,  1.93it/s]\r  2%|▏         | 9/366 [00:04<03:05,  1.92it/s]\r  3%|▎         | 10/366 [00:05<03:06,  1.91it/s]\r  3%|▎         | 11/366 [00:05<03:06,  1.90it/s]\r  3%|▎         | 12/366 [00:06<02:55,  2.01it/s]\r  4%|▎         | 13/366 [00:06<03:02,  1.94it/s]\r  4%|▍         | 14/366 [00:07<03:11,  1.84it/s]\r  4%|▍         | 15/366 [00:07<03:10,  1.84it/s]\r  4%|▍         | 16/366 [00:08<03:19,  1.76it/s]\r  5%|▍         | 17/366 [00:08<03:13,  1.80it/s]\r  5%|▍         | 18/366 [00:09<03:08,  1.85it/s]\r  5%|▌         | 19/366 [00:09<02:59,  1.93it/s]\r  5%|▌         | 20/366 [00:10<03:07,  1.84it/s]\r  6%|▌         | 21/366 [00:11<03:00,  1.91it/s]\r  6%|▌         | 22/366 [00:11<03:02,  1.89it/s]\r  6%|▋         | 23/366 [00:12<03:03,  1.87it/s]\r  7%|▋         | 24/366 [00:12<03:04,  1.85it/s]\r  7%|▋         | 25/366 [00:13<02:59,  1.90it/s]\r  7%|▋         | 26/366 [00:13<02:47,  2.03it/s]\r  7%|▋         | 27/366 [00:14<03:01,  1.86it/s]\r  8%|▊         | 28/366 [00:14<03:01,  1.86it/s]\r  8%|▊         | 29/366 [00:15<03:18,  1.70it/s]\r  8%|▊         | 30/366 [00:16<03:28,  1.61it/s]\r  8%|▊         | 31/366 [00:16<03:25,  1.63it/s]\r  9%|▊         | 32/366 [00:17<03:15,  1.71it/s]\r  9%|▉         | 33/366 [00:17<03:01,  1.83it/s]\r  9%|▉         | 34/366 [00:18<02:59,  1.84it/s]\r 10%|▉         | 35/366 [00:18<03:03,  1.80it/s]\r 10%|▉         | 36/366 [00:19<03:09,  1.74it/s]\r 10%|█         | 37/366 [00:20<03:08,  1.74it/s]\r 10%|█         | 38/366 [00:20<03:11,  1.71it/s]\r 11%|█         | 39/366 [00:21<02:56,  1.85it/s]\r 11%|█         | 40/366 [00:21<02:44,  1.98it/s]\r 11%|█         | 41/366 [00:22<02:55,  1.86it/s]\r 11%|█▏        | 42/366 [00:23<03:34,  1.51it/s]\r 12%|█▏        | 43/366 [00:23<03:26,  1.56it/s]\r 12%|█▏        | 44/366 [00:24<03:22,  1.59it/s]\r 12%|█▏        | 45/366 [00:24<03:16,  1.63it/s]\r 13%|█▎        | 46/366 [00:25<03:03,  1.74it/s]\r 13%|█▎        | 47/366 [00:25<02:51,  1.86it/s]\r 13%|█▎        | 48/366 [00:26<02:52,  1.85it/s]\r 13%|█▎        | 49/366 [00:26<02:57,  1.79it/s]\r 14%|█▎        | 50/366 [00:27<02:59,  1.76it/s]\r 14%|█▍        | 51/366 [00:28<02:59,  1.75it/s]\r 14%|█▍        | 52/366 [00:28<02:55,  1.79it/s]\r 14%|█▍        | 53/366 [00:29<02:50,  1.84it/s]\r 15%|█▍        | 54/366 [00:29<02:37,  1.98it/s]\r 15%|█▌        | 55/366 [00:30<02:42,  1.92it/s]\r 15%|█▌        | 56/366 [00:30<02:45,  1.87it/s]\r 16%|█▌        | 57/366 [00:31<02:49,  1.82it/s]\r 16%|█▌        | 58/366 [00:31<02:54,  1.77it/s]\r 16%|█▌        | 59/366 [00:32<02:56,  1.74it/s]\r 16%|█▋        | 60/366 [00:33<02:58,  1.72it/s]\r 17%|█▋        | 61/366 [00:33<02:46,  1.84it/s]\r 17%|█▋        | 62/366 [00:34<02:52,  1.77it/s]\r 17%|█▋        | 63/366 [00:34<03:03,  1.65it/s]\r 17%|█▋        | 64/366 [00:35<03:04,  1.63it/s]\r 18%|█▊        | 65/366 [00:36<03:18,  1.52it/s]\r 18%|█▊        | 66/366 [00:36<03:08,  1.59it/s]\r 18%|█▊        | 67/366 [00:37<02:59,  1.67it/s]\r 19%|█▊        | 68/366 [00:37<02:52,  1.72it/s]\r 19%|█▉        | 69/366 [00:38<02:56,  1.68it/s]\r 19%|█▉        | 70/366 [00:39<02:54,  1.69it/s]\r 19%|█▉        | 71/366 [00:39<03:04,  1.60it/s]\r 20%|█▉        | 72/366 [00:40<02:54,  1.68it/s]\r 20%|█▉        | 73/366 [00:40<02:53,  1.69it/s]\r 20%|██        | 74/366 [00:41<02:44,  1.77it/s]\r 20%|██        | 75/366 [00:41<02:35,  1.88it/s]\r 21%|██        | 76/366 [00:42<02:41,  1.80it/s]\r 21%|██        | 77/366 [00:42<02:39,  1.81it/s]\r 21%|██▏       | 78/366 [00:43<02:33,  1.87it/s]\r 22%|██▏       | 79/366 [00:44<02:34,  1.86it/s]\r 22%|██▏       | 80/366 [00:44<02:26,  1.95it/s]\r 22%|██▏       | 81/366 [00:44<02:15,  2.10it/s]\r 22%|██▏       | 82/366 [00:45<02:02,  2.32it/s]\r 23%|██▎       | 83/366 [00:45<01:58,  2.38it/s]\r 23%|██▎       | 84/366 [00:46<01:59,  2.36it/s]\r 23%|██▎       | 85/366 [00:46<01:56,  2.41it/s]\r 23%|██▎       | 86/366 [00:46<01:58,  2.37it/s]\r 24%|██▍       | 87/366 [00:47<01:55,  2.42it/s]\r 24%|██▍       | 88/366 [00:47<01:53,  2.45it/s]\r 24%|██▍       | 89/366 [00:48<01:48,  2.56it/s]\r 25%|██▍       | 90/366 [00:48<01:45,  2.61it/s]\r 25%|██▍       | 91/366 [00:48<01:47,  2.57it/s]\r 25%|██▌       | 92/366 [00:49<01:48,  2.53it/s]\r 25%|██▌       | 93/366 [00:49<01:47,  2.55it/s]\r 26%|██▌       | 94/366 [00:49<01:45,  2.57it/s]\r 26%|██▌       | 95/366 [00:50<01:42,  2.64it/s]\r 26%|██▌       | 96/366 [00:50<01:39,  2.71it/s]\r 27%|██▋       | 97/366 [00:51<01:38,  2.73it/s]\r 27%|██▋       | 98/366 [00:51<01:37,  2.75it/s]\r 27%|██▋       | 99/366 [00:51<01:36,  2.76it/s]\r 27%|██▋       | 100/366 [00:52<01:34,  2.82it/s]\r 28%|██▊       | 101/366 [00:52<01:35,  2.79it/s]\r 28%|██▊       | 102/366 [00:52<01:34,  2.79it/s]\r 28%|██▊       | 103/366 [00:53<01:34,  2.78it/s]\r 28%|██▊       | 104/366 [00:53<01:35,  2.75it/s]\r 29%|██▊       | 105/366 [00:53<01:38,  2.64it/s]\r 29%|██▉       | 106/366 [00:54<01:39,  2.60it/s]\r 29%|██▉       | 107/366 [00:54<01:50,  2.35it/s]\r 30%|██▉       | 108/366 [00:55<01:46,  2.42it/s]\r 30%|██▉       | 109/366 [00:55<01:41,  2.52it/s]\r 30%|███       | 110/366 [00:55<01:40,  2.55it/s]\r 30%|███       | 111/366 [00:56<01:43,  2.45it/s]\r 31%|███       | 112/366 [00:56<01:43,  2.45it/s]\r 31%|███       | 113/366 [00:57<01:40,  2.52it/s]\r 31%|███       | 114/366 [00:57<01:45,  2.39it/s]\r 31%|███▏      | 115/366 [00:58<01:44,  2.40it/s]\r 32%|███▏      | 116/366 [00:58<01:40,  2.49it/s]\r 32%|███▏      | 117/366 [00:58<01:36,  2.58it/s]\r 32%|███▏      | 118/366 [00:59<01:36,  2.57it/s]\r 33%|███▎      | 119/366 [00:59<01:36,  2.57it/s]\r 33%|███▎      | 120/366 [00:59<01:36,  2.54it/s]\r 33%|███▎      | 121/366 [01:00<01:36,  2.53it/s]\r 33%|███▎      | 122/366 [01:00<01:40,  2.44it/s]\r 34%|███▎      | 123/366 [01:01<01:41,  2.40it/s]\r 34%|███▍      | 124/366 [01:01<01:33,  2.58it/s]\r 34%|███▍      | 125/366 [01:01<01:34,  2.54it/s]\r 34%|███▍      | 126/366 [01:02<01:33,  2.57it/s]\r 35%|███▍      | 127/366 [01:02<01:32,  2.58it/s]\r 35%|███▍      | 128/366 [01:03<01:35,  2.50it/s]\r 35%|███▌      | 129/366 [01:03<01:35,  2.48it/s]\r 36%|███▌      | 130/366 [01:04<01:36,  2.46it/s]\r 36%|███▌      | 131/366 [01:04<01:30,  2.60it/s]\r 36%|███▌      | 132/366 [01:04<01:35,  2.44it/s]\r 36%|███▋      | 133/366 [01:05<01:36,  2.42it/s]\r 37%|███▋      | 134/366 [01:05<01:37,  2.38it/s]\r 37%|███▋      | 135/366 [01:06<01:38,  2.35it/s]\r 37%|███▋      | 136/366 [01:06<01:37,  2.35it/s]\r 37%|███▋      | 137/366 [01:06<01:33,  2.44it/s]\r 38%|███▊      | 138/366 [01:07<01:28,  2.57it/s]\r 38%|███▊      | 139/366 [01:07<01:34,  2.40it/s]\r 38%|███▊      | 140/366 [01:08<01:34,  2.39it/s]\r 39%|███▊      | 141/366 [01:08<01:36,  2.32it/s]\r 39%|███▉      | 142/366 [01:09<01:38,  2.28it/s]\r 39%|███▉      | 143/366 [01:09<01:37,  2.29it/s]\r 39%|███▉      | 144/366 [01:09<01:35,  2.34it/s]\r 40%|███▉      | 145/366 [01:10<01:28,  2.48it/s]\r 40%|███▉      | 146/366 [01:10<01:26,  2.53it/s]\r 40%|████      | 147/366 [01:11<01:29,  2.45it/s]\r 40%|████      | 148/366 [01:11<01:29,  2.43it/s]\r 41%|████      | 149/366 [01:11<01:34,  2.31it/s]\r 41%|████      | 150/366 [01:12<01:31,  2.35it/s]\r 41%|████▏     | 151/366 [01:12<01:32,  2.32it/s]\r 42%|████▏     | 152/366 [01:13<01:26,  2.48it/s]\r 42%|████▏     | 153/366 [01:13<01:31,  2.32it/s]\r 42%|████▏     | 154/366 [01:14<01:29,  2.36it/s]\r 42%|████▏     | 155/366 [01:14<01:29,  2.35it/s]\r 43%|████▎     | 156/366 [01:14<01:29,  2.36it/s]\r 43%|████▎     | 157/366 [01:15<01:29,  2.33it/s]\r 43%|████▎     | 158/366 [01:15<01:27,  2.37it/s]\r 43%|████▎     | 159/366 [01:16<01:24,  2.46it/s]\r 44%|████▎     | 160/366 [01:16<01:28,  2.33it/s]\r 44%|████▍     | 161/366 [01:17<01:27,  2.33it/s]\r 44%|████▍     | 162/366 [01:17<01:27,  2.33it/s]\r 45%|████▍     | 163/366 [01:17<01:29,  2.27it/s]\r 45%|████▍     | 164/366 [01:18<01:28,  2.27it/s]\r 45%|████▌     | 165/366 [01:18<01:28,  2.26it/s]\r 45%|████▌     | 166/366 [01:19<01:26,  2.31it/s]\r 46%|████▌     | 167/366 [01:19<01:24,  2.36it/s]\r 46%|████▌     | 168/366 [01:20<01:25,  2.30it/s]\r 46%|████▌     | 169/366 [01:20<01:24,  2.33it/s]\r 46%|████▋     | 170/366 [01:20<01:26,  2.27it/s]\r 47%|████▋     | 171/366 [01:21<01:29,  2.19it/s]\r 47%|████▋     | 172/366 [01:21<01:27,  2.22it/s]\r 47%|████▋     | 173/366 [01:22<01:21,  2.36it/s]\r 48%|████▊     | 174/366 [01:22<01:17,  2.47it/s]\r 48%|████▊     | 175/366 [01:23<01:20,  2.37it/s]\r 48%|████▊     | 176/366 [01:23<01:25,  2.22it/s]\r 48%|████▊     | 177/366 [01:24<01:25,  2.22it/s]\r 49%|████▊     | 178/366 [01:24<01:26,  2.18it/s]\r 49%|████▉     | 179/366 [01:24<01:25,  2.18it/s]\r 49%|████▉     | 180/366 [01:25<01:19,  2.33it/s]\r 49%|████▉     | 181/366 [01:25<01:18,  2.35it/s]\r 50%|████▉     | 182/366 [01:26<01:19,  2.30it/s]\r 50%|█████     | 183/366 [01:26<01:21,  2.23it/s]\r 50%|█████     | 184/366 [01:27<01:22,  2.20it/s]\r 51%|█████     | 185/366 [01:27<01:23,  2.17it/s]\r 51%|█████     | 186/366 [01:28<01:22,  2.17it/s]\r 51%|█████     | 187/366 [01:28<01:16,  2.33it/s]\r 51%|█████▏    | 188/366 [01:28<01:18,  2.28it/s]\r 52%|█████▏    | 189/366 [01:29<01:19,  2.23it/s]\r 52%|█████▏    | 190/366 [01:29<01:20,  2.18it/s]\r 52%|█████▏    | 191/366 [01:30<01:19,  2.19it/s]\r 52%|█████▏    | 192/366 [01:30<01:22,  2.12it/s]\r 53%|█████▎    | 193/366 [01:31<01:19,  2.17it/s]\r 53%|█████▎    | 194/366 [01:31<01:14,  2.30it/s]\r 53%|█████▎    | 195/366 [01:32<01:13,  2.31it/s]\r 54%|█████▎    | 196/366 [01:32<01:13,  2.31it/s]\r 54%|█████▍    | 197/366 [01:32<01:13,  2.31it/s]\r 54%|█████▍    | 198/366 [01:33<01:11,  2.35it/s]\r 54%|█████▍    | 199/366 [01:33<01:10,  2.36it/s]\r 55%|█████▍    | 200/366 [01:34<01:10,  2.34it/s]\r 55%|█████▍    | 201/366 [01:34<01:08,  2.40it/s]\r 55%|█████▌    | 202/366 [01:34<01:04,  2.55it/s]\r 55%|█████▌    | 203/366 [01:35<01:06,  2.45it/s]\r 56%|█████▌    | 204/366 [01:35<01:09,  2.35it/s]\r 56%|█████▌    | 205/366 [01:36<01:10,  2.29it/s]\r 56%|█████▋    | 206/366 [01:37<01:28,  1.80it/s]\r 57%|█████▋    | 207/366 [01:37<01:23,  1.90it/s]\r 57%|█████▋    | 208/366 [01:37<01:15,  2.10it/s]\r 57%|█████▋    | 209/366 [01:38<01:13,  2.13it/s]\r 57%|█████▋    | 210/366 [01:38<01:15,  2.06it/s]\r 58%|█████▊    | 211/366 [01:39<01:14,  2.07it/s]\r 58%|█████▊    | 212/366 [01:39<01:13,  2.10it/s]\r 58%|█████▊    | 213/366 [01:40<01:12,  2.12it/s]\r 58%|█████▊    | 214/366 [01:40<01:08,  2.22it/s]\r 59%|█████▊    | 215/366 [01:41<01:05,  2.31it/s]\r 59%|█████▉    | 216/366 [01:41<01:06,  2.24it/s]\r 59%|█████▉    | 217/366 [01:42<01:07,  2.20it/s]\r 60%|█████▉    | 218/366 [01:42<01:08,  2.15it/s]\r 60%|█████▉    | 219/366 [01:43<01:10,  2.08it/s]\r 60%|██████    | 220/366 [01:43<01:06,  2.18it/s]\r 60%|██████    | 221/366 [01:43<01:07,  2.14it/s]\r 61%|██████    | 222/366 [01:44<01:02,  2.29it/s]\r 61%|██████    | 223/366 [01:44<01:03,  2.25it/s]\r 61%|██████    | 224/366 [01:45<01:05,  2.17it/s]\r 61%|██████▏   | 225/366 [01:45<01:04,  2.19it/s]\r 62%|██████▏   | 226/366 [01:46<01:08,  2.05it/s]\r 62%|██████▏   | 227/366 [01:46<01:07,  2.06it/s]\r 62%|██████▏   | 228/366 [01:47<01:06,  2.08it/s]\r 63%|██████▎   | 229/366 [01:47<01:02,  2.19it/s]\r 63%|██████▎   | 230/366 [01:48<01:00,  2.25it/s]\r 63%|██████▎   | 231/366 [01:48<01:01,  2.18it/s]\r 63%|██████▎   | 232/366 [01:49<01:01,  2.17it/s]\r 64%|██████▎   | 233/366 [01:49<01:02,  2.13it/s]\r 64%|██████▍   | 234/366 [01:50<01:02,  2.10it/s]\r 64%|██████▍   | 235/366 [01:50<01:00,  2.16it/s]\r 64%|██████▍   | 236/366 [01:50<00:57,  2.26it/s]\r 65%|██████▍   | 237/366 [01:51<01:00,  2.12it/s]\r 65%|██████▌   | 238/366 [01:51<01:00,  2.13it/s]\r 65%|██████▌   | 239/366 [01:52<00:59,  2.13it/s]\r 66%|██████▌   | 240/366 [01:52<01:04,  1.96it/s]\r 66%|██████▌   | 241/366 [01:53<01:01,  2.02it/s]\r 66%|██████▌   | 242/366 [01:53<00:59,  2.09it/s]\r 66%|██████▋   | 243/366 [01:54<00:54,  2.24it/s]\r 67%|██████▋   | 244/366 [01:54<00:54,  2.22it/s]\r 67%|██████▋   | 245/366 [01:55<00:55,  2.17it/s]\r 67%|██████▋   | 246/366 [01:55<00:55,  2.15it/s]\r 67%|██████▋   | 247/366 [01:56<00:55,  2.15it/s]\r 68%|██████▊   | 248/366 [01:56<00:58,  2.00it/s]\r 68%|██████▊   | 249/366 [01:57<00:57,  2.04it/s]\r 68%|██████▊   | 250/366 [01:57<00:53,  2.19it/s]\r 69%|██████▊   | 251/366 [01:57<00:53,  2.15it/s]\r 69%|██████▉   | 252/366 [01:58<00:53,  2.14it/s]\r 69%|██████▉   | 253/366 [01:58<00:53,  2.10it/s]\r 69%|██████▉   | 254/366 [01:59<00:54,  2.04it/s]\r 70%|██████▉   | 255/366 [01:59<00:54,  2.03it/s]\r 70%|██████▉   | 256/366 [02:00<00:52,  2.09it/s]\r 70%|███████   | 257/366 [02:00<00:49,  2.20it/s]\r 70%|███████   | 258/366 [02:01<00:49,  2.19it/s]\r 71%|███████   | 259/366 [02:01<00:49,  2.17it/s]\r 71%|███████   | 260/366 [02:02<00:50,  2.08it/s]\r 71%|███████▏  | 261/366 [02:02<00:56,  1.86it/s]\r 72%|███████▏  | 262/366 [02:03<00:55,  1.87it/s]\r 72%|███████▏  | 263/366 [02:03<00:52,  1.96it/s]\r 72%|███████▏  | 264/366 [02:04<00:48,  2.11it/s]\r 72%|███████▏  | 265/366 [02:04<00:46,  2.17it/s]\r 73%|███████▎  | 266/366 [02:05<00:47,  2.12it/s]\r 73%|███████▎  | 267/366 [02:05<00:48,  2.04it/s]\r 73%|███████▎  | 268/366 [02:06<00:48,  2.01it/s]\r 73%|███████▎  | 269/366 [02:06<00:47,  2.03it/s]\r 74%|███████▍  | 270/366 [02:07<00:46,  2.09it/s]\r 74%|███████▍  | 271/366 [02:07<00:42,  2.22it/s]\r 74%|███████▍  | 272/366 [02:08<00:42,  2.19it/s]\r 75%|███████▍  | 273/366 [02:08<00:43,  2.16it/s]\r 75%|███████▍  | 274/366 [02:09<00:44,  2.07it/s]\r 75%|███████▌  | 275/366 [02:09<00:43,  2.07it/s]\r 75%|███████▌  | 276/366 [02:10<00:43,  2.06it/s]\r 76%|███████▌  | 277/366 [02:10<00:42,  2.08it/s]\r 76%|███████▌  | 278/366 [02:10<00:41,  2.13it/s]\r 76%|███████▌  | 279/366 [02:11<00:41,  2.12it/s]\r 77%|███████▋  | 280/366 [02:11<00:40,  2.10it/s]\r 77%|███████▋  | 281/366 [02:12<00:40,  2.11it/s]\r 77%|███████▋  | 282/366 [02:12<00:41,  2.04it/s]\r 77%|███████▋  | 283/366 [02:13<00:41,  1.98it/s]\r 78%|███████▊  | 284/366 [02:13<00:40,  2.01it/s]\r 78%|███████▊  | 285/366 [02:14<00:38,  2.09it/s]\r 78%|███████▊  | 286/366 [02:14<00:36,  2.16it/s]\r 78%|███████▊  | 287/366 [02:15<00:36,  2.14it/s]\r 79%|███████▊  | 288/366 [02:15<00:37,  2.10it/s]\r 79%|███████▉  | 289/366 [02:16<00:37,  2.07it/s]\r 79%|███████▉  | 290/366 [02:16<00:36,  2.08it/s]\r 80%|███████▉  | 291/366 [02:17<00:36,  2.08it/s]\r 80%|███████▉  | 292/366 [02:17<00:33,  2.20it/s]\r 80%|████████  | 293/366 [02:18<00:35,  2.08it/s]\r 80%|████████  | 294/366 [02:18<00:34,  2.09it/s]\r 81%|████████  | 295/366 [02:19<00:34,  2.07it/s]\r 81%|████████  | 296/366 [02:19<00:34,  2.04it/s]\r 81%|████████  | 297/366 [02:20<00:34,  2.02it/s]\r 81%|████████▏ | 298/366 [02:20<00:33,  2.04it/s]\r 82%|████████▏ | 299/366 [02:21<00:31,  2.13it/s]\r 82%|████████▏ | 300/366 [02:21<00:32,  2.02it/s]\r 82%|████████▏ | 301/366 [02:22<00:31,  2.05it/s]\r 83%|████████▎ | 302/366 [02:22<00:31,  2.04it/s]\r 83%|████████▎ | 303/366 [02:23<00:30,  2.07it/s]\r 83%|████████▎ | 304/366 [02:23<00:30,  2.02it/s]\r 83%|████████▎ | 305/366 [02:24<00:31,  1.96it/s]\r 84%|████████▎ | 306/366 [02:24<00:30,  1.98it/s]\r 84%|████████▍ | 307/366 [02:25<00:28,  2.08it/s]\r 84%|████████▍ | 308/366 [02:25<00:28,  2.06it/s]\r 84%|████████▍ | 309/366 [02:26<00:28,  2.03it/s]\r 85%|████████▍ | 310/366 [02:26<00:27,  2.01it/s]\r 85%|████████▍ | 311/366 [02:27<00:27,  2.01it/s]\r 85%|████████▌ | 312/366 [02:27<00:26,  2.02it/s]\r 86%|████████▌ | 313/366 [02:27<00:25,  2.11it/s]\r 86%|████████▌ | 314/366 [02:28<00:25,  2.05it/s]\r 86%|████████▌ | 315/366 [02:29<00:26,  1.96it/s]\r 86%|████████▋ | 316/366 [02:29<00:27,  1.84it/s]\r 87%|████████▋ | 317/366 [02:30<00:25,  1.90it/s]\r 87%|████████▋ | 318/366 [02:30<00:25,  1.92it/s]\r 87%|████████▋ | 319/366 [02:31<00:23,  1.96it/s]\r 87%|████████▋ | 320/366 [02:31<00:21,  2.12it/s]\r 88%|████████▊ | 321/366 [02:31<00:19,  2.28it/s]\r 88%|████████▊ | 322/366 [02:32<00:20,  2.11it/s]\r 88%|████████▊ | 323/366 [02:33<00:21,  2.01it/s]\r 89%|████████▊ | 324/366 [02:33<00:20,  2.05it/s]\r 89%|████████▉ | 325/366 [02:34<00:20,  1.95it/s]\r 89%|████████▉ | 326/366 [02:34<00:20,  1.98it/s]\r 89%|████████▉ | 327/366 [02:34<00:18,  2.16it/s]\r 90%|████████▉ | 328/366 [02:35<00:17,  2.15it/s]\r 90%|████████▉ | 329/366 [02:35<00:17,  2.12it/s]\r 90%|█████████ | 330/366 [02:36<00:17,  2.11it/s]\r 90%|█████████ | 331/366 [02:36<00:16,  2.13it/s]\r 91%|█████████ | 332/366 [02:37<00:16,  2.04it/s]\r 91%|█████████ | 333/366 [02:37<00:16,  2.05it/s]\r 91%|█████████▏| 334/366 [02:38<00:14,  2.18it/s]\r 92%|█████████▏| 335/366 [02:38<00:14,  2.14it/s]\r 92%|█████████▏| 336/366 [02:39<00:13,  2.15it/s]\r 92%|█████████▏| 337/366 [02:39<00:13,  2.15it/s]\r 92%|█████████▏| 338/366 [02:40<00:13,  2.14it/s]\r 93%|█████████▎| 339/366 [02:40<00:12,  2.15it/s]\r 93%|█████████▎| 340/366 [02:41<00:12,  2.10it/s]\r 93%|█████████▎| 341/366 [02:41<00:11,  2.21it/s]\r 93%|█████████▎| 342/366 [02:41<00:11,  2.11it/s]\r 94%|█████████▎| 343/366 [02:42<00:10,  2.23it/s]\r 94%|█████████▍| 344/366 [02:42<00:10,  2.14it/s]\r 94%|█████████▍| 345/366 [02:43<00:09,  2.18it/s]\r 95%|█████████▍| 346/366 [02:43<00:09,  2.11it/s]\r 95%|█████████▍| 347/366 [02:44<00:09,  2.05it/s]\r 95%|█████████▌| 348/366 [02:44<00:08,  2.17it/s]\r 95%|█████████▌| 349/366 [02:45<00:07,  2.14it/s]\r 96%|█████████▌| 350/366 [02:45<00:07,  2.12it/s]\r 96%|█████████▌| 351/366 [02:46<00:07,  2.08it/s]\r 96%|█████████▌| 352/366 [02:46<00:06,  2.05it/s]\r 96%|█████████▋| 353/366 [02:47<00:06,  2.04it/s]\r 97%|█████████▋| 354/366 [02:47<00:06,  1.96it/s]\r 97%|█████████▋| 355/366 [02:48<00:05,  2.09it/s]\r 97%|█████████▋| 356/366 [02:48<00:04,  2.04it/s]\r 98%|█████████▊| 357/366 [02:49<00:04,  2.06it/s]\r 98%|█████████▊| 358/366 [02:49<00:03,  2.10it/s]\r 98%|█████████▊| 359/366 [02:50<00:03,  2.02it/s]\r 98%|█████████▊| 360/366 [02:50<00:02,  2.13it/s]\r 99%|█████████▊| 361/366 [02:50<00:02,  2.20it/s]\r 99%|█████████▉| 362/366 [02:51<00:01,  2.32it/s]\r 99%|█████████▉| 363/366 [02:51<00:01,  2.21it/s]\r 99%|█████████▉| 364/366 [02:52<00:00,  2.11it/s]\r100%|█████████▉| 365/366 [02:52<00:00,  2.04it/s]\r100%|██████████| 366/366 [02:53<00:00,  2.11it/s]\r100%|██████████| 366/366 [02:53<00:00,  2.11it/s]\n"
     ]
    },
    {
     "output_type": "stream",
     "name": "stdout",
     "output_type": "stream",
     "text": [
      "359\n"
     ]
    },
    {
     "output_type": "stream",
     "name": "stderr",
     "output_type": "stream",
     "text": [
      "\r  0%|          | 0/359 [00:00<?, ?it/s]\r  0%|          | 1/359 [00:01<06:34,  1.10s/it]\r  1%|          | 2/359 [00:03<09:53,  1.66s/it]\r  1%|          | 3/359 [00:05<11:50,  1.99s/it]\r  1%|          | 4/359 [00:07<11:05,  1.87s/it]\r  1%|▏         | 5/359 [00:08<09:43,  1.65s/it]\r  2%|▏         | 6/359 [00:09<08:51,  1.51s/it]\r  2%|▏         | 7/359 [00:12<11:24,  1.95s/it]\r  2%|▏         | 8/359 [00:15<13:06,  2.24s/it]\r  3%|▎         | 9/359 [00:18<14:13,  2.44s/it]\r  3%|▎         | 10/359 [00:21<15:15,  2.62s/it]\r  3%|▎         | 11/359 [00:23<14:30,  2.50s/it]\r  3%|▎         | 12/359 [00:24<12:13,  2.11s/it]\r  4%|▎         | 13/359 [00:28<14:09,  2.45s/it]\r  4%|▍         | 14/359 [00:31<15:07,  2.63s/it]\r  4%|▍         | 15/359 [00:34<16:01,  2.80s/it]\r  4%|▍         | 16/359 [00:37<16:52,  2.95s/it]\r  5%|▍         | 17/359 [00:40<17:05,  3.00s/it]\r  5%|▌         | 18/359 [00:42<15:48,  2.78s/it]\r  5%|▌         | 19/359 [00:44<13:25,  2.37s/it]\r  6%|▌         | 20/359 [00:47<15:09,  2.68s/it]\r  6%|▌         | 21/359 [00:51<16:06,  2.86s/it]\r  6%|▌         | 22/359 [00:54<17:00,  3.03s/it]\r  6%|▋         | 23/359 [00:57<17:31,  3.13s/it]\r  7%|▋         | 24/359 [01:00<16:01,  2.87s/it]\r  7%|▋         | 25/359 [01:01<13:23,  2.41s/it]\r  7%|▋         | 26/359 [01:04<14:55,  2.69s/it]\r  8%|▊         | 27/359 [01:08<15:59,  2.89s/it]\r  8%|▊         | 28/359 [01:11<16:34,  3.01s/it]\r  8%|▊         | 29/359 [01:13<15:31,  2.82s/it]\r  8%|▊         | 30/359 [01:15<13:07,  2.39s/it]\r  9%|▊         | 31/359 [01:18<14:48,  2.71s/it]\r  9%|▉         | 32/359 [01:21<15:49,  2.90s/it]\r  9%|▉         | 33/359 [01:25<16:39,  3.07s/it]\r  9%|▉         | 34/359 [01:28<16:59,  3.14s/it]\r 10%|▉         | 35/359 [01:31<15:42,  2.91s/it]\r 10%|█         | 36/359 [01:32<13:06,  2.44s/it]\r 10%|█         | 37/359 [01:35<14:23,  2.68s/it]\r 11%|█         | 38/359 [01:39<15:44,  2.94s/it]\r 11%|█         | 39/359 [01:42<16:22,  3.07s/it]\r 11%|█         | 40/359 [01:45<16:30,  3.10s/it]\r 11%|█▏        | 41/359 [01:48<15:18,  2.89s/it]\r 12%|█▏        | 42/359 [01:49<13:07,  2.48s/it]\r 12%|█▏        | 43/359 [01:53<14:22,  2.73s/it]\r 12%|█▏        | 44/359 [01:56<15:26,  2.94s/it]\r 13%|█▎        | 45/359 [01:59<15:37,  2.99s/it]\r 13%|█▎        | 46/359 [02:02<14:47,  2.84s/it]\r 13%|█▎        | 47/359 [02:03<12:25,  2.39s/it]\r 13%|█▎        | 48/359 [02:06<13:39,  2.64s/it]\r 14%|█▎        | 49/359 [02:10<14:50,  2.87s/it]\r 14%|█▍        | 50/359 [02:13<15:24,  2.99s/it]\r 14%|█▍        | 51/359 [02:16<15:56,  3.11s/it]\r 14%|█▍        | 52/359 [02:20<16:19,  3.19s/it]\r 15%|█▍        | 53/359 [02:22<15:11,  2.98s/it]\r 15%|█▌        | 54/359 [02:23<12:37,  2.48s/it]\r 15%|█▌        | 55/359 [02:27<14:17,  2.82s/it]\r 16%|█▌        | 56/359 [02:30<15:06,  2.99s/it]\r 16%|█▌        | 57/359 [02:34<16:15,  3.23s/it]\r 16%|█▌        | 58/359 [02:38<16:53,  3.37s/it]\r 16%|█▋        | 59/359 [02:42<17:41,  3.54s/it]\r 17%|█▋        | 60/359 [02:45<16:29,  3.31s/it]\r 17%|█▋        | 61/359 [02:46<13:46,  2.77s/it]\r 17%|█▋        | 62/359 [02:50<15:48,  3.19s/it]\r 18%|█▊        | 63/359 [02:54<16:52,  3.42s/it]\r 18%|█▊        | 64/359 [02:58<17:25,  3.54s/it]\r 18%|█▊        | 65/359 [03:02<17:18,  3.53s/it]\r 18%|█▊        | 66/359 [03:05<17:38,  3.61s/it]\r 19%|█▊        | 67/359 [03:08<16:15,  3.34s/it]\r 19%|█▉        | 68/359 [03:09<13:24,  2.76s/it]\r 19%|█▉        | 69/359 [03:13<13:46,  2.85s/it]\r 19%|█▉        | 70/359 [03:15<13:22,  2.78s/it]\r 20%|█▉        | 71/359 [03:17<12:43,  2.65s/it]\r 20%|██        | 72/359 [03:20<12:31,  2.62s/it]\r 20%|██        | 73/359 [03:21<09:54,  2.08s/it]\r 21%|██        | 74/359 [03:22<08:02,  1.69s/it]\r 21%|██        | 75/359 [03:22<06:37,  1.40s/it]\r 21%|██        | 76/359 [03:23<05:31,  1.17s/it]\r 21%|██▏       | 77/359 [03:24<05:45,  1.23s/it]\r 22%|██▏       | 78/359 [03:25<05:27,  1.17s/it]\r 22%|██▏       | 79/359 [03:26<05:03,  1.08s/it]\r 22%|██▏       | 80/359 [03:27<04:46,  1.03s/it]\r 23%|██▎       | 81/359 [03:28<04:34,  1.01it/s]\r 23%|██▎       | 82/359 [03:29<04:08,  1.11it/s]\r 23%|██▎       | 83/359 [03:30<04:12,  1.09it/s]\r 23%|██▎       | 84/359 [03:31<04:09,  1.10it/s]\r 24%|██▎       | 85/359 [03:31<04:03,  1.13it/s]\r 24%|██▍       | 86/359 [03:32<04:00,  1.14it/s]\r 24%|██▍       | 87/359 [03:33<04:05,  1.11it/s]\r 25%|██▍       | 88/359 [03:34<04:03,  1.12it/s]\r 25%|██▍       | 89/359 [03:35<03:47,  1.19it/s]\r 25%|██▌       | 90/359 [03:36<03:58,  1.13it/s]\r 25%|██▌       | 91/359 [03:37<03:59,  1.12it/s]\r 26%|██▌       | 92/359 [03:38<03:54,  1.14it/s]\r 26%|██▌       | 93/359 [03:38<03:37,  1.22it/s]\r 26%|██▌       | 94/359 [03:39<03:23,  1.30it/s]\r 26%|██▋       | 95/359 [03:40<03:24,  1.29it/s]\r 27%|██▋       | 96/359 [03:40<03:09,  1.39it/s]\r 27%|██▋       | 97/359 [03:41<03:27,  1.26it/s]\r 27%|██▋       | 98/359 [03:42<03:37,  1.20it/s]\r 28%|██▊       | 99/359 [03:43<03:48,  1.14it/s]\r 28%|██▊       | 100/359 [03:44<03:47,  1.14it/s]\r 28%|██▊       | 101/359 [03:45<04:00,  1.07it/s]\r 28%|██▊       | 102/359 [03:46<03:52,  1.11it/s]\r 29%|██▊       | 103/359 [03:47<03:38,  1.17it/s]\r 29%|██▉       | 104/359 [03:48<03:43,  1.14it/s]\r 29%|██▉       | 105/359 [03:49<03:46,  1.12it/s]\r 30%|██▉       | 106/359 [03:50<03:51,  1.09it/s]\r 30%|██▉       | 107/359 [03:50<03:43,  1.13it/s]\r 30%|███       | 108/359 [03:51<03:43,  1.12it/s]\r 30%|███       | 109/359 [03:52<03:38,  1.14it/s]\r 31%|███       | 110/359 [03:53<03:24,  1.22it/s]\r 31%|███       | 111/359 [03:54<03:33,  1.16it/s]\r 31%|███       | 112/359 [03:55<03:46,  1.09it/s]\r 31%|███▏      | 113/359 [03:56<03:39,  1.12it/s]\r 32%|███▏      | 114/359 [03:57<03:46,  1.08it/s]\r 32%|███▏      | 115/359 [03:57<03:32,  1.15it/s]\r 32%|███▏      | 116/359 [03:58<03:32,  1.14it/s]\r 33%|███▎      | 117/359 [03:59<03:16,  1.23it/s]\r 33%|███▎      | 118/359 [04:00<03:40,  1.09it/s]\r 33%|███▎      | 119/359 [04:01<03:47,  1.05it/s]\r 33%|███▎      | 120/359 [04:02<03:46,  1.06it/s]\r 34%|███▎      | 121/359 [04:03<03:55,  1.01it/s]\r 34%|███▍      | 122/359 [04:04<04:08,  1.05s/it]\r 34%|███▍      | 123/359 [04:05<03:58,  1.01s/it]\r 35%|███▍      | 124/359 [04:06<03:37,  1.08it/s]\r 35%|███▍      | 125/359 [04:07<03:46,  1.03it/s]\r 35%|███▌      | 126/359 [04:08<03:55,  1.01s/it]\r 35%|███▌      | 127/359 [04:09<04:04,  1.05s/it]\r 36%|███▌      | 128/359 [04:10<04:02,  1.05s/it]\r 36%|███▌      | 129/359 [04:11<04:08,  1.08s/it]\r 36%|███▌      | 130/359 [04:12<04:00,  1.05s/it]\r 36%|███▋      | 131/359 [04:13<03:40,  1.03it/s]\r 37%|███▋      | 132/359 [04:14<03:55,  1.04s/it]\r 37%|███▋      | 133/359 [04:16<04:00,  1.07s/it]\r 37%|███▋      | 134/359 [04:17<04:06,  1.09s/it]\r 38%|███▊      | 135/359 [04:18<04:09,  1.11s/it]\r 38%|███▊      | 136/359 [04:19<04:09,  1.12s/it]\r 38%|███▊      | 137/359 [04:20<03:57,  1.07s/it]\r 38%|███▊      | 138/359 [04:21<03:32,  1.04it/s]\r 39%|███▊      | 139/359 [04:21<03:16,  1.12it/s]\r 39%|███▉      | 140/359 [04:23<03:40,  1.01s/it]\r 39%|███▉      | 141/359 [04:24<04:00,  1.10s/it]\r 40%|███▉      | 142/359 [04:25<04:08,  1.15s/it]\r 40%|███▉      | 143/359 [04:26<04:14,  1.18s/it]\r 40%|████      | 144/359 [04:28<04:09,  1.16s/it]\r 40%|████      | 145/359 [04:28<03:44,  1.05s/it]\r 41%|████      | 146/359 [04:30<03:53,  1.10s/it]\r 41%|████      | 147/359 [04:31<04:01,  1.14s/it]\r 41%|████      | 148/359 [04:32<04:14,  1.21s/it]\r 42%|████▏     | 149/359 [04:34<04:34,  1.31s/it]\r 42%|████▏     | 150/359 [04:35<04:34,  1.31s/it]\r 42%|████▏     | 151/359 [04:36<04:25,  1.28s/it]\r 42%|████▏     | 152/359 [04:37<03:54,  1.13s/it]\r 43%|████▎     | 153/359 [04:39<04:23,  1.28s/it]\r 43%|████▎     | 154/359 [04:40<04:21,  1.28s/it]\r 43%|████▎     | 155/359 [04:41<04:28,  1.32s/it]\r 43%|████▎     | 156/359 [04:43<04:35,  1.36s/it]\r 44%|████▎     | 157/359 [04:44<04:29,  1.34s/it]\r 44%|████▍     | 158/359 [04:46<04:41,  1.40s/it]\r 44%|████▍     | 159/359 [04:46<04:01,  1.21s/it]\r 45%|████▍     | 160/359 [04:47<03:38,  1.10s/it]\r 45%|████▍     | 161/359 [04:49<03:58,  1.20s/it]\r 45%|████▌     | 162/359 [04:50<04:07,  1.26s/it]\r 45%|████▌     | 163/359 [04:52<04:20,  1.33s/it]\r 46%|████▌     | 164/359 [04:53<04:22,  1.34s/it]\r 46%|████▌     | 165/359 [04:54<04:17,  1.33s/it]\r 46%|████▌     | 166/359 [04:55<03:57,  1.23s/it]\r 47%|████▋     | 167/359 [04:56<03:35,  1.12s/it]\r 47%|████▋     | 168/359 [04:58<03:50,  1.21s/it]\r 47%|████▋     | 169/359 [04:59<03:59,  1.26s/it]\r 47%|████▋     | 170/359 [05:00<04:05,  1.30s/it]\r 48%|████▊     | 171/359 [05:02<04:14,  1.35s/it]\r 48%|████▊     | 172/359 [05:03<04:06,  1.32s/it]\r 48%|████▊     | 173/359 [05:04<03:37,  1.17s/it]\r 48%|████▊     | 174/359 [05:05<03:20,  1.08s/it]\r 49%|████▊     | 175/359 [05:06<03:40,  1.20s/it]\r 49%|████▉     | 176/359 [05:08<04:08,  1.36s/it]\r 49%|████▉     | 177/359 [05:09<04:16,  1.41s/it]\r 50%|████▉     | 178/359 [05:11<04:23,  1.46s/it]\r 50%|████▉     | 179/359 [05:12<04:19,  1.44s/it]\r 50%|█████     | 180/359 [05:13<03:49,  1.28s/it]\r 50%|█████     | 181/359 [05:15<03:53,  1.31s/it]\r 51%|█████     | 182/359 [05:16<04:05,  1.39s/it]\r 51%|█████     | 183/359 [05:18<04:07,  1.41s/it]\r 51%|█████▏    | 184/359 [05:19<04:06,  1.41s/it]\r 52%|█████▏    | 185/359 [05:21<04:07,  1.42s/it]\r 52%|█████▏    | 186/359 [05:22<04:02,  1.40s/it]\r 52%|█████▏    | 187/359 [05:23<03:33,  1.24s/it]\r 52%|█████▏    | 188/359 [05:24<03:30,  1.23s/it]\r 53%|█████▎    | 189/359 [05:25<03:32,  1.25s/it]\r 53%|█████▎    | 190/359 [05:27<03:29,  1.24s/it]\r 53%|█████▎    | 191/359 [05:28<03:36,  1.29s/it]\r 53%|█████▎    | 192/359 [05:29<03:32,  1.27s/it]\r 54%|█████▍    | 193/359 [05:30<03:23,  1.23s/it]\r 54%|█████▍    | 194/359 [05:31<03:02,  1.11s/it]\r 54%|█████▍    | 195/359 [05:32<02:45,  1.01s/it]\r 55%|█████▍    | 196/359 [05:33<03:03,  1.12s/it]\r 55%|█████▍    | 197/359 [05:35<03:06,  1.15s/it]\r 55%|█████▌    | 198/359 [05:36<03:06,  1.16s/it]\r 55%|█████▌    | 199/359 [05:37<03:05,  1.16s/it]\r 56%|█████▌    | 200/359 [05:37<02:19,  1.14it/s]\r 56%|█████▌    | 201/359 [05:38<02:18,  1.14it/s]\r 56%|█████▋    | 202/359 [05:39<02:41,  1.03s/it]\r 57%|█████▋    | 203/359 [05:41<02:57,  1.14s/it]\r 57%|█████▋    | 204/359 [05:42<03:09,  1.22s/it]\r 57%|█████▋    | 205/359 [05:43<03:09,  1.23s/it]\r 57%|█████▋    | 206/359 [05:45<03:14,  1.27s/it]\r 58%|█████▊    | 207/359 [05:46<03:11,  1.26s/it]\r 58%|█████▊    | 208/359 [05:47<02:50,  1.13s/it]\r 58%|█████▊    | 209/359 [05:48<03:08,  1.25s/it]\r 58%|█████▊    | 210/359 [05:50<03:10,  1.28s/it]\r 59%|█████▉    | 211/359 [05:51<03:13,  1.31s/it]\r 59%|█████▉    | 212/359 [05:52<03:11,  1.30s/it]\r 59%|█████▉    | 213/359 [05:53<02:51,  1.17s/it]\r 60%|█████▉    | 214/359 [05:54<02:48,  1.16s/it]\r 60%|█████▉    | 215/359 [05:55<02:35,  1.08s/it]\r 60%|██████    | 216/359 [05:57<02:51,  1.20s/it]\r 60%|██████    | 217/359 [05:58<03:00,  1.27s/it]\r 61%|██████    | 218/359 [06:00<03:05,  1.32s/it]\r 61%|██████    | 219/359 [06:01<03:12,  1.38s/it]\r 61%|██████▏   | 220/359 [06:03<03:16,  1.41s/it]\r 62%|██████▏   | 221/359 [06:04<03:10,  1.38s/it]\r 62%|██████▏   | 222/359 [06:05<02:46,  1.22s/it]\r 62%|██████▏   | 223/359 [06:06<02:34,  1.13s/it]\r 62%|██████▏   | 224/359 [06:07<02:43,  1.21s/it]\r 63%|██████▎   | 225/359 [06:08<02:50,  1.27s/it]\r 63%|██████▎   | 226/359 [06:10<03:01,  1.36s/it]\r 63%|██████▎   | 227/359 [06:12<03:02,  1.38s/it]\r 64%|██████▎   | 228/359 [06:13<02:55,  1.34s/it]\r 64%|██████▍   | 229/359 [06:14<02:38,  1.22s/it]\r 64%|██████▍   | 230/359 [06:15<02:48,  1.30s/it]\r 64%|██████▍   | 231/359 [06:17<02:53,  1.36s/it]\r 65%|██████▍   | 232/359 [06:18<02:58,  1.40s/it]\r 65%|██████▍   | 233/359 [06:20<03:00,  1.43s/it]\r 65%|██████▌   | 234/359 [06:21<03:09,  1.51s/it]\r 65%|██████▌   | 235/359 [06:23<03:02,  1.47s/it]\r 66%|██████▌   | 236/359 [06:24<02:40,  1.31s/it]\r 66%|██████▌   | 237/359 [06:25<02:43,  1.34s/it]\r 66%|██████▋   | 238/359 [06:27<02:44,  1.36s/it]\r 67%|██████▋   | 239/359 [06:28<02:51,  1.43s/it]\r 67%|██████▋   | 240/359 [06:30<02:56,  1.48s/it]\r 67%|██████▋   | 241/359 [06:31<02:59,  1.52s/it]\r 67%|██████▋   | 242/359 [06:33<02:54,  1.49s/it]\r 68%|██████▊   | 243/359 [06:34<02:37,  1.36s/it]\r 68%|██████▊   | 244/359 [06:35<02:39,  1.39s/it]\r 68%|██████▊   | 245/359 [06:37<02:52,  1.51s/it]\r 69%|██████▊   | 246/359 [06:39<03:09,  1.68s/it]\r 69%|██████▉   | 247/359 [06:41<03:00,  1.61s/it]\r 69%|██████▉   | 248/359 [06:42<02:52,  1.55s/it]\r 69%|██████▉   | 249/359 [06:43<02:45,  1.50s/it]\r 70%|██████▉   | 250/359 [06:44<02:25,  1.33s/it]\r 70%|██████▉   | 251/359 [06:46<02:30,  1.40s/it]\r 70%|███████   | 252/359 [06:47<02:36,  1.46s/it]\r 70%|███████   | 253/359 [06:49<02:39,  1.51s/it]\r 71%|███████   | 254/359 [06:51<02:40,  1.53s/it]\r 71%|███████   | 255/359 [06:52<02:42,  1.56s/it]\r 71%|███████▏  | 256/359 [06:54<02:37,  1.53s/it]\r 72%|███████▏  | 257/359 [06:55<02:19,  1.36s/it]\r 72%|███████▏  | 258/359 [06:56<02:15,  1.34s/it]\r 72%|███████▏  | 259/359 [06:58<02:25,  1.46s/it]\r 72%|███████▏  | 260/359 [06:59<02:30,  1.52s/it]\r 73%|███████▎  | 261/359 [07:01<02:31,  1.55s/it]\r 73%|███████▎  | 262/359 [07:03<02:35,  1.61s/it]\r 73%|███████▎  | 263/359 [07:04<02:33,  1.60s/it]\r 74%|███████▎  | 264/359 [07:05<02:14,  1.41s/it]\r 74%|███████▍  | 265/359 [07:07<02:21,  1.50s/it]\r 74%|███████▍  | 266/359 [07:09<02:22,  1.53s/it]\r 74%|███████▍  | 267/359 [07:10<02:24,  1.58s/it]\r 75%|███████▍  | 268/359 [07:12<02:26,  1.61s/it]\r 75%|███████▍  | 269/359 [07:14<02:32,  1.70s/it]\r 75%|███████▌  | 270/359 [07:15<02:27,  1.66s/it]\r 75%|███████▌  | 271/359 [07:16<02:09,  1.47s/it]\r 76%|███████▌  | 272/359 [07:18<02:12,  1.52s/it]\r 76%|███████▌  | 273/359 [07:20<02:18,  1.61s/it]\r 76%|███████▋  | 274/359 [07:22<02:26,  1.73s/it]\r 77%|███████▋  | 275/359 [07:24<02:25,  1.73s/it]\r 77%|███████▋  | 276/359 [07:25<02:24,  1.74s/it]\r 77%|███████▋  | 277/359 [07:27<02:14,  1.64s/it]\r 77%|███████▋  | 278/359 [07:28<02:00,  1.49s/it]\r 78%|███████▊  | 279/359 [07:29<01:47,  1.34s/it]\r 78%|███████▊  | 280/359 [07:31<01:52,  1.43s/it]\r 78%|███████▊  | 281/359 [07:32<02:00,  1.55s/it]\r 79%|███████▊  | 282/359 [07:35<02:13,  1.73s/it]\r 79%|███████▉  | 283/359 [07:37<02:17,  1.81s/it]\r 79%|███████▉  | 284/359 [07:39<02:18,  1.85s/it]\r 79%|███████▉  | 285/359 [07:40<01:59,  1.62s/it]\r 80%|███████▉  | 286/359 [07:41<02:02,  1.68s/it]\r 80%|███████▉  | 287/359 [07:43<02:03,  1.72s/it]\r 80%|████████  | 288/359 [07:45<01:58,  1.67s/it]\r 81%|████████  | 289/359 [07:47<01:59,  1.70s/it]\r 81%|████████  | 290/359 [07:48<02:00,  1.75s/it]\r 81%|████████  | 291/359 [07:50<01:55,  1.70s/it]\r 81%|████████▏ | 292/359 [07:51<01:42,  1.53s/it]\r 82%|████████▏ | 293/359 [07:53<01:45,  1.60s/it]\r 82%|████████▏ | 294/359 [07:55<01:46,  1.64s/it]\r 82%|████████▏ | 295/359 [07:56<01:46,  1.66s/it]\r 82%|████████▏ | 296/359 [07:58<01:48,  1.73s/it]\r 83%|████████▎ | 297/359 [08:00<01:47,  1.74s/it]\r 83%|████████▎ | 298/359 [08:02<01:42,  1.69s/it]\r 83%|████████▎ | 299/359 [08:03<01:28,  1.48s/it]\r 84%|████████▎ | 300/359 [08:04<01:20,  1.36s/it]\r 84%|████████▍ | 301/359 [08:06<01:28,  1.52s/it]\r 84%|████████▍ | 302/359 [08:08<01:36,  1.69s/it]\r 84%|████████▍ | 303/359 [08:09<01:36,  1.73s/it]\r 85%|████████▍ | 304/359 [08:11<01:39,  1.80s/it]\r 85%|████████▍ | 305/359 [08:13<01:34,  1.74s/it]\r 85%|████████▌ | 306/359 [08:14<01:24,  1.59s/it]\r 86%|████████▌ | 307/359 [08:16<01:29,  1.72s/it]\r 86%|████████▌ | 308/359 [08:18<01:29,  1.76s/it]\r 86%|████████▌ | 309/359 [08:20<01:28,  1.76s/it]\r 86%|████████▋ | 310/359 [08:22<01:28,  1.80s/it]\r 87%|████████▋ | 311/359 [08:24<01:26,  1.80s/it]\r 87%|████████▋ | 312/359 [08:25<01:25,  1.83s/it]\r 87%|████████▋ | 313/359 [08:27<01:13,  1.60s/it]\r 87%|████████▋ | 314/359 [08:28<01:08,  1.52s/it]\r 88%|████████▊ | 315/359 [08:30<01:19,  1.80s/it]\r 88%|████████▊ | 316/359 [08:33<01:26,  2.00s/it]\r 88%|████████▊ | 317/359 [08:35<01:24,  2.01s/it]\r 89%|████████▊ | 318/359 [08:37<01:26,  2.11s/it]\r 89%|████████▉ | 319/359 [08:39<01:22,  2.07s/it]\r 89%|████████▉ | 320/359 [08:40<01:09,  1.79s/it]\r 89%|████████▉ | 321/359 [08:42<01:11,  1.87s/it]\r 90%|████████▉ | 322/359 [08:44<01:11,  1.93s/it]\r 90%|████████▉ | 323/359 [08:47<01:11,  1.98s/it]\r 90%|█████████ | 324/359 [08:48<01:08,  1.97s/it]\r 91%|█████████ | 325/359 [08:50<01:07,  1.97s/it]\r 91%|█████████ | 326/359 [08:52<01:04,  1.94s/it]\r 91%|█████████ | 327/359 [08:53<00:54,  1.70s/it]\r 91%|█████████▏| 328/359 [08:56<00:57,  1.84s/it]\r 92%|█████████▏| 329/359 [08:58<00:58,  1.94s/it]\r 92%|█████████▏| 330/359 [09:00<00:56,  1.93s/it]\r 92%|█████████▏| 331/359 [09:02<00:57,  2.07s/it]\r 92%|█████████▏| 332/359 [09:04<00:55,  2.07s/it]\r 93%|█████████▎| 333/359 [09:06<00:52,  2.00s/it]\r 93%|█████████▎| 334/359 [09:07<00:44,  1.77s/it]\r 93%|█████████▎| 335/359 [09:10<00:46,  1.93s/it]\r 94%|█████████▎| 336/359 [09:11<00:39,  1.72s/it]\r 94%|█████████▍| 337/359 [09:13<00:40,  1.83s/it]\r 94%|█████████▍| 338/359 [09:15<00:41,  1.95s/it]\r 94%|█████████▍| 339/359 [09:17<00:41,  2.05s/it]\r 95%|█████████▍| 340/359 [09:19<00:37,  1.99s/it]\r 95%|█████████▍| 341/359 [09:20<00:31,  1.76s/it]\r 95%|█████████▌| 342/359 [09:23<00:31,  1.86s/it]\r 96%|█████████▌| 343/359 [09:25<00:30,  1.93s/it]\r 96%|█████████▌| 344/359 [09:27<00:29,  1.94s/it]\r 96%|█████████▌| 345/359 [09:29<00:28,  2.00s/it]\r 96%|█████████▋| 346/359 [09:31<00:26,  2.01s/it]\r 97%|█████████▋| 347/359 [09:33<00:24,  2.01s/it]\r 97%|█████████▋| 348/359 [09:34<00:19,  1.81s/it]\r 97%|█████████▋| 349/359 [09:36<00:19,  1.92s/it]\r 97%|█████████▋| 350/359 [09:38<00:17,  1.97s/it]\r 98%|█████████▊| 351/359 [09:40<00:15,  1.97s/it]\r 98%|█████████▊| 352/359 [09:42<00:13,  1.91s/it]\r 98%|█████████▊| 353/359 [09:43<00:09,  1.61s/it]\r 99%|█████████▊| 354/359 [09:45<00:07,  1.58s/it]\r 99%|█████████▉| 355/359 [09:46<00:05,  1.42s/it]\r 99%|█████████▉| 356/359 [09:48<00:04,  1.58s/it]\r 99%|█████████▉| 357/359 [09:49<00:03,  1.63s/it]\r100%|█████████▉| 358/359 [09:51<00:01,  1.68s/it]\r100%|██████████| 359/359 [09:53<00:00,  1.64s/it]\r100%|██████████| 359/359 [09:53<00:00,  1.65s/it]\n"
     ]
    },
    {
     "output_type": "stream",
     "name": "stdout",
     "output_type": "stream",
     "text": [
      "366\n"
     ]
    },
    {
     "output_type": "stream",
     "name": "stderr",
     "output_type": "stream",
     "text": [
      "\r  0%|          | 0/366 [00:00<?, ?it/s]\r  0%|          | 1/366 [00:00<04:43,  1.29it/s]\r  1%|          | 2/366 [00:02<06:45,  1.11s/it]\r  1%|          | 3/366 [00:03<07:51,  1.30s/it]\r  1%|          | 4/366 [00:04<07:32,  1.25s/it]\r  1%|▏         | 5/366 [00:05<06:52,  1.14s/it]\r  2%|▏         | 6/366 [00:06<06:21,  1.06s/it]\r  2%|▏         | 7/366 [00:08<07:38,  1.28s/it]\r  2%|▏         | 8/366 [00:10<08:33,  1.43s/it]\r  2%|▏         | 9/366 [00:11<09:12,  1.55s/it]\r  3%|▎         | 10/366 [00:13<09:49,  1.66s/it]\r  3%|▎         | 11/366 [00:15<09:36,  1.62s/it]\r  3%|▎         | 12/366 [00:16<08:29,  1.44s/it]\r  4%|▎         | 13/366 [00:18<09:31,  1.62s/it]\r  4%|▍         | 14/366 [00:20<10:09,  1.73s/it]\r  4%|▍         | 15/366 [00:22<10:53,  1.86s/it]\r  4%|▍         | 16/366 [00:24<10:59,  1.88s/it]\r  5%|▍         | 17/366 [00:26<11:07,  1.91s/it]\r  5%|▍         | 18/366 [00:28<10:33,  1.82s/it]\r  5%|▌         | 19/366 [00:29<09:13,  1.59s/it]\r  5%|▌         | 20/366 [00:31<10:13,  1.77s/it]\r  6%|▌         | 21/366 [00:33<10:29,  1.82s/it]\r  6%|▌         | 22/366 [00:35<10:56,  1.91s/it]\r  6%|▋         | 23/366 [00:37<11:06,  1.94s/it]\r  7%|▋         | 24/366 [00:39<11:17,  1.98s/it]\r  7%|▋         | 25/366 [00:40<10:20,  1.82s/it]\r  7%|▋         | 26/366 [00:42<08:57,  1.58s/it]\r  7%|▋         | 27/366 [00:44<10:42,  1.89s/it]\r  8%|▊         | 28/366 [00:47<11:29,  2.04s/it]\r  8%|▊         | 29/366 [00:49<11:47,  2.10s/it]\r  8%|▊         | 30/366 [00:51<11:41,  2.09s/it]\r  8%|▊         | 31/366 [00:53<11:33,  2.07s/it]\r  9%|▊         | 32/366 [00:54<10:42,  1.92s/it]\r  9%|▉         | 33/366 [00:56<09:16,  1.67s/it]\r  9%|▉         | 34/366 [00:58<10:13,  1.85s/it]\r 10%|▉         | 35/366 [01:00<10:59,  1.99s/it]\r 10%|▉         | 36/366 [01:02<11:06,  2.02s/it]\r 10%|█         | 37/366 [01:05<11:52,  2.17s/it]\r 10%|█         | 38/366 [01:07<11:53,  2.18s/it]\r 11%|█         | 39/366 [01:08<10:48,  1.98s/it]\r 11%|█         | 40/366 [01:10<09:22,  1.72s/it]\r 11%|█         | 41/366 [01:12<10:06,  1.87s/it]\r 11%|█▏        | 42/366 [01:14<10:38,  1.97s/it]\r 12%|█▏        | 43/366 [01:16<11:10,  2.08s/it]\r 12%|█▏        | 44/366 [01:18<11:16,  2.10s/it]\r 12%|█▏        | 45/366 [01:21<12:03,  2.25s/it]\r 13%|█▎        | 46/366 [01:23<11:11,  2.10s/it]\r 13%|█▎        | 47/366 [01:24<09:30,  1.79s/it]\r 13%|█▎        | 48/366 [01:26<10:24,  1.96s/it]\r 13%|█▎        | 49/366 [01:28<10:40,  2.02s/it]\r 14%|█▎        | 50/366 [01:31<10:55,  2.08s/it]\r 14%|█▍        | 51/366 [01:33<10:55,  2.08s/it]\r 14%|█▍        | 52/366 [01:35<10:55,  2.09s/it]\r 14%|█▍        | 53/366 [01:36<10:19,  1.98s/it]\r 15%|█▍        | 54/366 [01:38<08:52,  1.71s/it]\r 15%|█▌        | 55/366 [01:40<09:40,  1.87s/it]\r 15%|█▌        | 56/366 [01:42<10:09,  1.97s/it]\r 16%|█▌        | 57/366 [01:44<10:24,  2.02s/it]\r 16%|█▌        | 58/366 [01:46<10:39,  2.08s/it]\r 16%|█▌        | 59/366 [01:48<10:25,  2.04s/it]\r 16%|█▋        | 60/366 [01:51<11:35,  2.27s/it]\r 17%|█▋        | 61/366 [01:52<09:41,  1.91s/it]\r 17%|█▋        | 62/366 [01:55<10:19,  2.04s/it]\r 17%|█▋        | 63/366 [01:58<12:57,  2.57s/it]\r 17%|█▋        | 64/366 [02:01<12:33,  2.49s/it]\r 18%|█▊        | 65/366 [02:04<14:13,  2.84s/it]\r 18%|█▊        | 66/366 [02:07<13:46,  2.76s/it]\r 18%|█▊        | 67/366 [02:10<14:07,  2.84s/it]\r 19%|█▊        | 68/366 [02:11<11:30,  2.32s/it]\r 19%|█▉        | 69/366 [02:14<11:55,  2.41s/it]\r 19%|█▉        | 70/366 [02:16<11:48,  2.39s/it]\r 19%|█▉        | 71/366 [02:20<13:56,  2.84s/it]\r 20%|█▉        | 72/366 [02:22<13:16,  2.71s/it]\r 20%|█▉        | 73/366 [02:25<12:36,  2.58s/it]\r 20%|██        | 74/366 [02:26<11:11,  2.30s/it]\r 20%|██        | 75/366 [02:27<09:24,  1.94s/it]\r 21%|██        | 76/366 [02:30<10:46,  2.23s/it]\r 21%|██        | 77/366 [02:32<10:14,  2.13s/it]\r 21%|██▏       | 78/366 [02:34<09:44,  2.03s/it]"
     ]
    }
   ],
   "source": [
    "for d in ['ValidacionDual/', 'ValidacionTroncal/', 'ValidacionZonal/']:\n",
    "   df = dic_d[d]\n",
    "   files = [f.name for f in dbutils.fs.ls(path + \"/Documents/\" + df) ]\n",
    "   vfiles = [f for f in files if 'validacion' in f]\n",
    "   print(len(vfiles))\n",
    "    \n",
    "   for f in tqdm(vfiles):\n",
    "              dbutils.fs.cp(path + \"/Documents/\" + df + f, \n",
    "                      path + '/Workspace/Raw/since2020/'+ d + f)\n",
    "    "
   ]
  },
  {
   "cell_type": "code",
   "execution_count": 0,
   "metadata": {
    "application/vnd.databricks.v1+cell": {
     "cellMetadata": {
      "byteLimit": 2048000,
      "rowLimit": 10000
     },
     "inputWidgets": {},
     "nuid": "c505c179-9c29-4d4d-be63-1cf1c88d7a0e",
     "showTitle": false,
     "title": ""
    }
   },
   "outputs": [
    {
     "output_type": "execute_result",
     "data": {
      "text/plain": [
       "['validacionZonal20200101.csv',\n",
       " 'validacionZonal20200102.csv',\n",
       " 'validacionZonal20200103.csv',\n",
       " 'validacionZonal20200104.csv',\n",
       " 'validacionZonal20200105.csv',\n",
       " 'validacionZonal20200106.csv',\n",
       " 'validacionZonal20200107.csv',\n",
       " 'validacionZonal20200108.csv',\n",
       " 'validacionZonal20200109.csv',\n",
       " 'validacionZonal20200110.csv',\n",
       " 'validacionZonal20200111.csv',\n",
       " 'validacionZonal20200112.csv',\n",
       " 'validacionZonal20200113.csv',\n",
       " 'validacionZonal20200114.csv',\n",
       " 'validacionZonal20200115.csv',\n",
       " 'validacionZonal20200116.csv',\n",
       " 'validacionZonal20200117.csv',\n",
       " 'validacionZonal20200118.csv',\n",
       " 'validacionZonal20200119.csv',\n",
       " 'validacionZonal20200120.csv',\n",
       " 'validacionZonal20200121.csv',\n",
       " 'validacionZonal20200122.csv',\n",
       " 'validacionZonal20200123.csv',\n",
       " 'validacionZonal20200124.csv',\n",
       " 'validacionZonal20200125.csv',\n",
       " 'validacionZonal20200126.csv',\n",
       " 'validacionZonal20200127.csv',\n",
       " 'validacionZonal20200128.csv',\n",
       " 'validacionZonal20200129.csv',\n",
       " 'validacionZonal20200130.csv',\n",
       " 'validacionZonal20200131.csv',\n",
       " 'validacionZonal20200201.csv',\n",
       " 'validacionZonal20200202.csv',\n",
       " 'validacionZonal20200203.csv',\n",
       " 'validacionZonal20200204.csv',\n",
       " 'validacionZonal20200205.csv',\n",
       " 'validacionZonal20200206.csv',\n",
       " 'validacionZonal20200207.csv',\n",
       " 'validacionZonal20200208.csv',\n",
       " 'validacionZonal20200209.csv',\n",
       " 'validacionZonal20200210.csv',\n",
       " 'validacionZonal20200211.csv',\n",
       " 'validacionZonal20200212.csv',\n",
       " 'validacionZonal20200213.csv',\n",
       " 'validacionZonal20200214.csv',\n",
       " 'validacionZonal20200215.csv',\n",
       " 'validacionZonal20200216.csv',\n",
       " 'validacionZonal20200217.csv',\n",
       " 'validacionZonal20200218.csv',\n",
       " 'validacionZonal20200219.csv',\n",
       " 'validacionZonal20200220.csv',\n",
       " 'validacionZonal20200221.csv',\n",
       " 'validacionZonal20200222.csv',\n",
       " 'validacionZonal20200223.csv',\n",
       " 'validacionZonal20200224.csv',\n",
       " 'validacionZonal20200225.csv',\n",
       " 'validacionZonal20200226.csv',\n",
       " 'validacionZonal20200227.csv',\n",
       " 'validacionZonal20200228.csv',\n",
       " 'validacionZonal20200229.csv',\n",
       " 'validacionZonal20200301.csv',\n",
       " 'validacionZonal20200302.csv',\n",
       " 'validacionZonal20200303.csv',\n",
       " 'validacionZonal20200304.csv',\n",
       " 'validacionZonal20200305.csv',\n",
       " 'validacionZonal20200306.csv',\n",
       " 'validacionZonal20200307.csv',\n",
       " 'validacionZonal20200308.csv',\n",
       " 'validacionZonal20200309.csv',\n",
       " 'validacionZonal20200310.csv',\n",
       " 'validacionZonal20200311.csv',\n",
       " 'validacionZonal20200312.csv',\n",
       " 'validacionZonal20200313.csv',\n",
       " 'validacionZonal20200314.csv',\n",
       " 'validacionZonal20200315.csv',\n",
       " 'validacionZonal20200316.csv',\n",
       " 'validacionZonal20200317.csv',\n",
       " 'validacionZonal20200318.csv',\n",
       " 'validacionZonal20200319.csv',\n",
       " 'validacionZonal20200320.csv',\n",
       " 'validacionZonal20200321.csv',\n",
       " 'validacionZonal20200322.csv',\n",
       " 'validacionZonal20200323.csv',\n",
       " 'validacionZonal20200324.csv',\n",
       " 'validacionZonal20200325.csv',\n",
       " 'validacionZonal20200326.csv',\n",
       " 'validacionZonal20200327.csv',\n",
       " 'validacionZonal20200328.csv',\n",
       " 'validacionZonal20200329.csv',\n",
       " 'validacionZonal20200330.csv',\n",
       " 'validacionZonal20200331.csv',\n",
       " 'validacionZonal20200401.csv',\n",
       " 'validacionZonal20200402.csv',\n",
       " 'validacionZonal20200403.csv',\n",
       " 'validacionZonal20200404.csv',\n",
       " 'validacionZonal20200405.csv',\n",
       " 'validacionZonal20200406.csv',\n",
       " 'validacionZonal20200407.csv',\n",
       " 'validacionZonal20200408.csv',\n",
       " 'validacionZonal20200409.csv',\n",
       " 'validacionZonal20200410.csv',\n",
       " 'validacionZonal20200411.csv',\n",
       " 'validacionZonal20200412.csv',\n",
       " 'validacionZonal20200413.csv',\n",
       " 'validacionZonal20200414.csv',\n",
       " 'validacionZonal20200415.csv',\n",
       " 'validacionZonal20200416.csv',\n",
       " 'validacionZonal20200417.csv',\n",
       " 'validacionZonal20200418.csv',\n",
       " 'validacionZonal20200419.csv',\n",
       " 'validacionZonal20200420.csv',\n",
       " 'validacionZonal20200421.csv',\n",
       " 'validacionZonal20200422.csv',\n",
       " 'validacionZonal20200423.csv',\n",
       " 'validacionZonal20200424.csv',\n",
       " 'validacionZonal20200425.csv',\n",
       " 'validacionZonal20200426.csv',\n",
       " 'validacionZonal20200427.csv',\n",
       " 'validacionZonal20200428.csv',\n",
       " 'validacionZonal20200429.csv',\n",
       " 'validacionZonal20200430.csv',\n",
       " 'validacionZonal20200501.csv',\n",
       " 'validacionZonal20200502.csv',\n",
       " 'validacionZonal20200503.csv',\n",
       " 'validacionZonal20200504.csv',\n",
       " 'validacionZonal20200505.csv',\n",
       " 'validacionZonal20200506.csv',\n",
       " 'validacionZonal20200507.csv',\n",
       " 'validacionZonal20200508.csv',\n",
       " 'validacionZonal20200509.csv',\n",
       " 'validacionZonal20200510.csv',\n",
       " 'validacionZonal20200511.csv',\n",
       " 'validacionZonal20200512.csv',\n",
       " 'validacionZonal20200513.csv',\n",
       " 'validacionZonal20200514.csv',\n",
       " 'validacionZonal20200515.csv',\n",
       " 'validacionZonal20200516.csv',\n",
       " 'validacionZonal20200517.csv',\n",
       " 'validacionZonal20200518.csv',\n",
       " 'validacionZonal20200519.csv',\n",
       " 'validacionZonal20200520.csv',\n",
       " 'validacionZonal20200521.csv',\n",
       " 'validacionZonal20200522.csv',\n",
       " 'validacionZonal20200523.csv',\n",
       " 'validacionZonal20200524.csv',\n",
       " 'validacionZonal20200525.csv',\n",
       " 'validacionZonal20200526.csv',\n",
       " 'validacionZonal20200527.csv',\n",
       " 'validacionZonal20200528.csv',\n",
       " 'validacionZonal20200529.csv',\n",
       " 'validacionZonal20200530.csv',\n",
       " 'validacionZonal20200531.csv',\n",
       " 'validacionZonal20200601.csv',\n",
       " 'validacionZonal20200602.csv',\n",
       " 'validacionZonal20200603.csv',\n",
       " 'validacionZonal20200604.csv',\n",
       " 'validacionZonal20200605.csv',\n",
       " 'validacionZonal20200606.csv',\n",
       " 'validacionZonal20200607.csv',\n",
       " 'validacionZonal20200608.csv',\n",
       " 'validacionZonal20200609.csv',\n",
       " 'validacionZonal20200610.csv',\n",
       " 'validacionZonal20200611.csv',\n",
       " 'validacionZonal20200612.csv',\n",
       " 'validacionZonal20200613.csv',\n",
       " 'validacionZonal20200614.csv',\n",
       " 'validacionZonal20200615.csv',\n",
       " 'validacionZonal20200616.csv',\n",
       " 'validacionZonal20200617.csv',\n",
       " 'validacionZonal20200618.csv',\n",
       " 'validacionZonal20200619.csv',\n",
       " 'validacionZonal20200620.csv',\n",
       " 'validacionZonal20200621.csv',\n",
       " 'validacionZonal20200622.csv',\n",
       " 'validacionZonal20200623.csv',\n",
       " 'validacionZonal20200624.csv',\n",
       " 'validacionZonal20200625.csv',\n",
       " 'validacionZonal20200626.csv',\n",
       " 'validacionZonal20200627.csv',\n",
       " 'validacionZonal20200628.csv',\n",
       " 'validacionZonal20200629.csv',\n",
       " 'validacionZonal20200630.csv',\n",
       " 'validacionZonal20200701.csv',\n",
       " 'validacionZonal20200702.csv',\n",
       " 'validacionZonal20200703.csv',\n",
       " 'validacionZonal20200704.csv',\n",
       " 'validacionZonal20200705.csv',\n",
       " 'validacionZonal20200706.csv',\n",
       " 'validacionZonal20200707.csv',\n",
       " 'validacionZonal20200708.csv',\n",
       " 'validacionZonal20200709.csv',\n",
       " 'validacionZonal20200710.csv',\n",
       " 'validacionZonal20200711.csv',\n",
       " 'validacionZonal20200712.csv',\n",
       " 'validacionZonal20200713.csv',\n",
       " 'validacionZonal20200714.csv',\n",
       " 'validacionZonal20200715.csv',\n",
       " 'validacionZonal20200716.csv',\n",
       " 'validacionZonal20200717.csv',\n",
       " 'validacionZonal20200718.csv',\n",
       " 'validacionZonal20200719.csv',\n",
       " 'validacionZonal20200720.csv',\n",
       " 'validacionZonal20200721.csv',\n",
       " 'validacionZonal20200722.csv',\n",
       " 'validacionZonal20200723.csv',\n",
       " 'validacionZonal20200724.csv',\n",
       " 'validacionZonal20200725.csv',\n",
       " 'validacionZonal20200726.csv',\n",
       " 'validacionZonal20200727.csv',\n",
       " 'validacionZonal20200728.csv',\n",
       " 'validacionZonal20200729.csv',\n",
       " 'validacionZonal20200730.csv',\n",
       " 'validacionZonal20200731.csv',\n",
       " 'validacionZonal20200801.csv',\n",
       " 'validacionZonal20200802.csv',\n",
       " 'validacionZonal20200803.csv',\n",
       " 'validacionZonal20200804.csv',\n",
       " 'validacionZonal20200805.csv',\n",
       " 'validacionZonal20200806.csv',\n",
       " 'validacionZonal20200807.csv',\n",
       " 'validacionZonal20200808.csv',\n",
       " 'validacionZonal20200809.csv',\n",
       " 'validacionZonal20200810.csv',\n",
       " 'validacionZonal20200811.csv',\n",
       " 'validacionZonal20200812.csv',\n",
       " 'validacionZonal20200813.csv',\n",
       " 'validacionZonal20200814.csv',\n",
       " 'validacionZonal20200815.csv',\n",
       " 'validacionZonal20200816.csv',\n",
       " 'validacionZonal20200817.csv',\n",
       " 'validacionZonal20200818.csv',\n",
       " 'validacionZonal20200819.csv',\n",
       " 'validacionZonal20200820.csv',\n",
       " 'validacionZonal20200821.csv',\n",
       " 'validacionZonal20200822.csv',\n",
       " 'validacionZonal20200823.csv',\n",
       " 'validacionZonal20200824.csv',\n",
       " 'validacionZonal20200825.csv',\n",
       " 'validacionZonal20200826.csv',\n",
       " 'validacionZonal20200827.csv',\n",
       " 'validacionZonal20200828.csv',\n",
       " 'validacionZonal20200829.csv',\n",
       " 'validacionZonal20200830.csv',\n",
       " 'validacionZonal20200831.csv',\n",
       " 'validacionZonal20200901.csv',\n",
       " 'validacionZonal20200902.csv',\n",
       " 'validacionZonal20200903.csv',\n",
       " 'validacionZonal20200904.csv',\n",
       " 'validacionZonal20200905.csv',\n",
       " 'validacionZonal20200906.csv',\n",
       " 'validacionZonal20200907.csv',\n",
       " 'validacionZonal20200908.csv',\n",
       " 'validacionZonal20200909.csv',\n",
       " 'validacionZonal20200910.csv',\n",
       " 'validacionZonal20200911.csv',\n",
       " 'validacionZonal20200912.csv',\n",
       " 'validacionZonal20200913.csv',\n",
       " 'validacionZonal20200914.csv',\n",
       " 'validacionZonal20200915.csv',\n",
       " 'validacionZonal20200916.csv',\n",
       " 'validacionZonal20200917.csv',\n",
       " 'validacionZonal20200918.csv',\n",
       " 'validacionZonal20200919.csv',\n",
       " 'validacionZonal20200920.csv',\n",
       " 'validacionZonal20200921.csv',\n",
       " 'validacionZonal20200922.csv',\n",
       " 'validacionZonal20200923.csv',\n",
       " 'validacionZonal20200924.csv',\n",
       " 'validacionZonal20200925.csv',\n",
       " 'validacionZonal20200926.csv',\n",
       " 'validacionZonal20200927.csv',\n",
       " 'validacionZonal20200928.csv',\n",
       " 'validacionZonal20200929.csv',\n",
       " 'validacionZonal20200930.csv',\n",
       " 'validacionZonal20201001.csv',\n",
       " 'validacionZonal20201002.csv',\n",
       " 'validacionZonal20201003.csv',\n",
       " 'validacionZonal20201004.csv',\n",
       " 'validacionZonal20201005.csv',\n",
       " 'validacionZonal20201006.csv',\n",
       " 'validacionZonal20201007.csv',\n",
       " 'validacionZonal20201008.csv',\n",
       " 'validacionZonal20201009.csv',\n",
       " 'validacionZonal20201010.csv',\n",
       " 'validacionZonal20201011.csv',\n",
       " 'validacionZonal20201012.csv',\n",
       " 'validacionZonal20201013.csv',\n",
       " 'validacionZonal20201014.csv',\n",
       " 'validacionZonal20201015.csv',\n",
       " 'validacionZonal20201016.csv',\n",
       " 'validacionZonal20201017.csv',\n",
       " 'validacionZonal20201018.csv',\n",
       " 'validacionZonal20201019.csv',\n",
       " 'validacionZonal20201020.csv',\n",
       " 'validacionZonal20201021.csv',\n",
       " 'validacionZonal20201022.csv',\n",
       " 'validacionZonal20201023.csv',\n",
       " 'validacionZonal20201024.csv',\n",
       " 'validacionZonal20201025.csv',\n",
       " 'validacionZonal20201026.csv',\n",
       " 'validacionZonal20201027.csv',\n",
       " 'validacionZonal20201028.csv',\n",
       " 'validacionZonal20201029.csv',\n",
       " 'validacionZonal20201030.csv',\n",
       " 'validacionZonal20201031.csv',\n",
       " 'validacionZonal20201101.csv',\n",
       " 'validacionZonal20201102.csv',\n",
       " 'validacionZonal20201103.csv',\n",
       " 'validacionZonal20201104.csv',\n",
       " 'validacionZonal20201105.csv',\n",
       " 'validacionZonal20201106.csv',\n",
       " 'validacionZonal20201107.csv',\n",
       " 'validacionZonal20201108.csv',\n",
       " 'validacionZonal20201109.csv',\n",
       " 'validacionZonal20201110.csv',\n",
       " 'validacionZonal20201111.csv',\n",
       " 'validacionZonal20201112.csv',\n",
       " 'validacionZonal20201113.csv',\n",
       " 'validacionZonal20201114.csv',\n",
       " 'validacionZonal20201115.csv',\n",
       " 'validacionZonal20201116.csv',\n",
       " 'validacionZonal20201117.csv',\n",
       " 'validacionZonal20201118.csv',\n",
       " 'validacionZonal20201119.csv',\n",
       " 'validacionZonal20201120.csv',\n",
       " 'validacionZonal20201121.csv',\n",
       " 'validacionZonal20201122.csv',\n",
       " 'validacionZonal20201123.csv',\n",
       " 'validacionZonal20201124.csv',\n",
       " 'validacionZonal20201125.csv',\n",
       " 'validacionZonal20201126.csv',\n",
       " 'validacionZonal20201127.csv',\n",
       " 'validacionZonal20201128.csv',\n",
       " 'validacionZonal20201129.csv',\n",
       " 'validacionZonal20201130.csv',\n",
       " 'validacionZonal20201201.csv',\n",
       " 'validacionZonal20201202.csv',\n",
       " 'validacionZonal20201203.csv',\n",
       " 'validacionZonal20201204.csv',\n",
       " 'validacionZonal20201205.csv',\n",
       " 'validacionZonal20201206.csv',\n",
       " 'validacionZonal20201207.csv',\n",
       " 'validacionZonal20201208.csv',\n",
       " 'validacionZonal20201209.csv',\n",
       " 'validacionZonal20201210.csv',\n",
       " 'validacionZonal20201211.csv',\n",
       " 'validacionZonal20201212.csv',\n",
       " 'validacionZonal20201213.csv',\n",
       " 'validacionZonal20201214.csv',\n",
       " 'validacionZonal20201215.csv',\n",
       " 'validacionZonal20201216.csv',\n",
       " 'validacionZonal20201217.csv',\n",
       " 'validacionZonal20201218.csv',\n",
       " 'validacionZonal20201219.csv',\n",
       " 'validacionZonal20201220.csv',\n",
       " 'validacionZonal20201221.csv',\n",
       " 'validacionZonal20201222.csv',\n",
       " 'validacionZonal20201223.csv',\n",
       " 'validacionZonal20201224.csv',\n",
       " 'validacionZonal20201225.csv',\n",
       " 'validacionZonal20201226.csv',\n",
       " 'validacionZonal20201227.csv',\n",
       " 'validacionZonal20201228.csv',\n",
       " 'validacionZonal20201229.csv',\n",
       " 'validacionZonal20201230.csv',\n",
       " 'validacionZonal20201231.csv']"
      ]
     },
     "execution_count": 35,
     "metadata": {},
     "output_type": "execute_result"
    }
   ],
   "source": [
    "files"
   ]
  }
 ],
 "metadata": {
  "application/vnd.databricks.v1+notebook": {
   "dashboards": [],
   "environmentMetadata": null,
   "language": "python",
   "notebookMetadata": {
    "mostRecentlyExecutedCommandWithImplicitDF": {
     "commandId": 3238478395386635,
     "dataframes": [
      "_sqldf"
     ]
    },
    "pythonIndentUnit": 4
   },
   "notebookName": "data-organize",
   "widgets": {}
  }
 },
 "nbformat": 4,
 "nbformat_minor": 0
}
